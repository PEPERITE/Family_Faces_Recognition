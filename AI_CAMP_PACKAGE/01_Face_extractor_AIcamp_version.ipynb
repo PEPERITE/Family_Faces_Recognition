{
 "cells": [
  {
   "cell_type": "markdown",
   "metadata": {},
   "source": [
    "## FACES EXTRACTION FROM MY PHOTOS LOCATED IN MULTIPLE DIRECTORIES\n",
    "do not support non english characters like é, è, ô ..etc so it might take you long time to correct for that"
   ]
  },
  {
   "cell_type": "markdown",
   "metadata": {},
   "source": [
    "We use OpenCV"
   ]
  },
  {
   "cell_type": "markdown",
   "metadata": {},
   "source": [
    "### Walking through images directories to extract faces and put them into  a new directory\n",
    "\n",
    "Next, we'll define a function scan_imagesto find all the faces in a given directory root_dir, including its subdirectories, and then output faces to files in output_dir:"
   ]
  },
  {
   "cell_type": "code",
   "execution_count": 8,
   "metadata": {},
   "outputs": [],
   "source": [
    "os.listdir('D:/My_Photos')"
   ]
  },
  {
   "cell_type": "code",
   "execution_count": 8,
   "metadata": {},
   "outputs": [],
   "source": [
    "walk_generator=os.walk('D:/My_Photos/')"
   ]
  },
  {
   "cell_type": "code",
   "execution_count": 9,
   "metadata": {},
   "outputs": [],
   "source": [
    "# Load the trained file\n",
    "face_cascPath = './haarcascades/haarcascade_frontalface_default.xml'"
   ]
  },
  {
   "cell_type": "code",
   "execution_count": 10,
   "metadata": {},
   "outputs": [],
   "source": [
    "def get_faces(filename):\n",
    "    face_cascade = cv2.CascadeClassifier(face_cascPath)\n",
    "    img = cv2.imread(filename)\n",
    "    gray = cv2.cvtColor(img, cv2.COLOR_BGR2GRAY)\n",
    "    faces = face_cascade.detectMultiScale(gray, 1.2, 5)\n",
    "\n",
    "    face_images = []\n",
    "\n",
    "    for (x, y, w, h) in faces:\n",
    "        roi_gray = gray[y:y + h, x:x + w]\n",
    "        roi_color = img[y:y + h, x:x + w]\n",
    "        face_images.append(roi_color)\n",
    "\n",
    "    return face_images"
   ]
  },
  {
   "cell_type": "code",
   "execution_count": 11,
   "metadata": {},
   "outputs": [],
   "source": [
    "log = open(\"log.txt\", \"w\") # this will record which faces extracted belongs to which original photo\n",
    "\n",
    "def scan_images(root_dir, output_dir):\n",
    "    image_extensions = [\"jpg\", \"png\",\"JPG\"]\n",
    "    num_faces = 15000\n",
    "    num_images = 0\n",
    "\n",
    "    for dir_name, subdir_list, file_list in os.walk(root_dir):\n",
    "        print('Scanning directory: %s' % dir_name)\n",
    "        for filename in file_list:\n",
    "            extension = os.path.splitext(filename)[1][1:]\n",
    "            if extension in image_extensions:\n",
    "                face_image = get_faces(os.path.join(dir_name, filename))\n",
    "                num_images += 1\n",
    "   \n",
    "                for face2 in face_image:\n",
    "                    face_filename = os.path.join(output_dir, \"face{}.png\".format(num_faces))\n",
    "                    cv2.imwrite(face_filename, face2)\n",
    "                    # AJOUTER LE REPERTOIRE  L IMPRESSION\n",
    "                    log.write(\"\\nWrote {} extracted from {}\".format(face_filename, filename))\n",
    "                    #print(\"\\tWrote {} extracted from {}\".format(face_filename, filename))\n",
    "                    num_faces += 1"
   ]
  },
  {
   "cell_type": "code",
   "execution_count": 1,
   "metadata": {},
   "outputs": [],
   "source": [
    "scan_images('D:/My_Photos','./Faces_extracted')"
   ]
  },
  {
   "cell_type": "markdown",
   "metadata": {},
   "source": [
    "we use os.walk to walk through all the subdirectories and files in root_dir. For image files (in this case png and jpeg files) we call get_faces and save the resulting faces into separate files."
   ]
  },
  {
   "cell_type": "markdown",
   "metadata": {},
   "source": [
    "# Useful Libraries"
   ]
  },
  {
   "cell_type": "raw",
   "metadata": {},
   "source": [
    "Fortunately OpenCV makes face detection very easy as it has a pre-trained cascade of classifiers for faces, eyes etc. Let's take a look at a function get_faces which takes as a parameter an image file name and will return all of the faces in the image\n",
    "We create the cascades of classifiers for faces. \n",
    "The input image is loaded and then converted to grayscale before performing the face detection using cv2.detectMultiScale. The output to this function is a list of rectangles of detected faces represented as a 4-tuple (x, y, width, height). \n",
    "In the for loop we run through the detected faces "
   ]
  },
  {
   "cell_type": "markdown",
   "metadata": {},
   "source": [
    "OpenCV has three built-in face recognizers and thanks to its clean coding, you can use any of them just by changing a single line of code. Here are the names of those face recognizers and their OpenCV calls:\n",
    "\n",
    "    EigenFaces – cv2.face.createEigenFaceRecognizer()\n",
    "    FisherFaces – cv2.face.createFisherFaceRecognizer()\n",
    "\n",
    "    Local Binary Patterns Histograms (LBPH) – cv2.face.createLBPHFaceRecognizer()"
   ]
  },
  {
   "cell_type": "code",
   "execution_count": 1,
   "metadata": {},
   "outputs": [],
   "source": [
    "from skimage import *\n",
    "from skimage import measure\n",
    "from skimage.color import *\n",
    "from skimage.filters import *\n",
    "from skimage.util import *\n",
    "from skimage.restoration import *\n",
    "from skimage.restoration import inpaint\n",
    "from skimage.transform import *\n",
    "from skimage.segmentation import *\n",
    "from skimage.feature import * #Cascade\n",
    "from skimage.data import *"
   ]
  },
  {
   "cell_type": "code",
   "execution_count": 2,
   "metadata": {},
   "outputs": [],
   "source": [
    "import glob"
   ]
  },
  {
   "cell_type": "code",
   "execution_count": 3,
   "metadata": {},
   "outputs": [],
   "source": [
    "from cv2 import CascadeClassifier"
   ]
  },
  {
   "cell_type": "code",
   "execution_count": 4,
   "metadata": {},
   "outputs": [],
   "source": [
    "import cv2 #CascadeClassifier"
   ]
  },
  {
   "cell_type": "code",
   "execution_count": 5,
   "metadata": {},
   "outputs": [],
   "source": [
    "import sys\n",
    "import os"
   ]
  },
  {
   "cell_type": "code",
   "execution_count": 6,
   "metadata": {},
   "outputs": [],
   "source": [
    "import matplotlib.pyplot as plt\n",
    "import numpy as np"
   ]
  }
 ],
 "metadata": {
  "kernelspec": {
   "display_name": "Python 3",
   "language": "python",
   "name": "python3"
  },
  "language_info": {
   "codemirror_mode": {
    "name": "ipython",
    "version": 3
   },
   "file_extension": ".py",
   "mimetype": "text/x-python",
   "name": "python",
   "nbconvert_exporter": "python",
   "pygments_lexer": "ipython3",
   "version": "3.7.0"
  }
 },
 "nbformat": 4,
 "nbformat_minor": 2
}
