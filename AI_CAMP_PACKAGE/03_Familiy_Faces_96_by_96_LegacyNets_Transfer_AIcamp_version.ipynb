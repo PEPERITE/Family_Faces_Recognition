{
 "cells": [
  {
   "cell_type": "markdown",
   "metadata": {},
   "source": [
    "# Transfer Learning With CNNs\n",
    "Applied to family faces classification\n",
    "\n",
    "TASK : \n",
    "- 9 persons, \n",
    "- 50 original pictures each (used for TESTING)\n",
    "- 1000 generated pictures each (used for TRAINING)"
   ]
  },
  {
   "cell_type": "markdown",
   "metadata": {},
   "source": [
    "Usefull libraries to import at the end of this notebook"
   ]
  },
  {
   "cell_type": "code",
   "execution_count": 8,
   "metadata": {},
   "outputs": [],
   "source": [
    "# Constant number of labels\n",
    "NUM_CLASSES = 9\n",
    "#IMAGE_SIZE = 96 , square image shape\n"
   ]
  },
  {
   "cell_type": "markdown",
   "metadata": {},
   "source": [
    "## Usefull classes"
   ]
  },
  {
   "cell_type": "code",
   "execution_count": null,
   "metadata": {},
   "outputs": [],
   "source": [
    "def plot_training_history(history, model):\n",
    "    figure = plt.figure()\n",
    "\n",
    "    plt.subplot(1, 2, 1)\n",
    "    plt.plot(history.history['accuracy'])\n",
    "    plt.plot(history.history['val_accuracy'])\n",
    "    plt.title('model accuracy')\n",
    "    plt.ylabel('accuracy')\n",
    "    plt.xlabel('epoch')\n",
    "    plt.tight_layout()\n",
    "\n",
    "    plt.subplot(1, 2, 2)\n",
    "    plt.plot(history.history['loss'])\n",
    "    plt.plot(history.history['val_loss'])\n",
    "    plt.title('model loss')\n",
    "    plt.ylabel('loss')\n",
    "    plt.xlabel('epoch')\n",
    "    plt.tight_layout()\n",
    "\n",
    "    figure.tight_layout()\n",
    "    plt.show()"
   ]
  },
  {
   "cell_type": "raw",
   "metadata": {},
   "source": [
    "# dependng on the version used, this might pply instead\n",
    "def plot_training_history(history, model):\n",
    "    figure = plt.figure()\n",
    "\n",
    "    plt.subplot(1, 2, 1)\n",
    "    plt.plot(history.history['acc'])\n",
    "    plt.plot(history.history['val_acc'])\n",
    "    plt.title('model accuracy')\n",
    "    plt.ylabel('accuracy')\n",
    "    plt.xlabel('epoch')\n",
    "    plt.tight_layout()\n",
    "\n",
    "    plt.subplot(1, 2, 2)\n",
    "    plt.plot(history.history['loss'])\n",
    "    plt.plot(history.history['val_loss'])\n",
    "    plt.title('model loss')\n",
    "    plt.ylabel('loss')\n",
    "    plt.xlabel('epoch')\n",
    "    plt.tight_layout()\n",
    "\n",
    "    figure.tight_layout()\n",
    "    plt.show()"
   ]
  },
  {
   "cell_type": "markdown",
   "metadata": {},
   "source": [
    "# PART Ia - Transfer Learning (MOBILENET V2)"
   ]
  },
  {
   "cell_type": "markdown",
   "metadata": {},
   "source": [
    "### LOADING AND PREPARING TRAINING IMAGES and LABELS"
   ]
  },
  {
   "cell_type": "code",
   "execution_count": 10,
   "metadata": {},
   "outputs": [
    {
     "name": "stdout",
     "output_type": "stream",
     "text": [
      "9000\n"
     ]
    }
   ],
   "source": [
    "image_big_dataset_list_training=glob.glob(\"Faces_extracted_family_QCed\\TRAINING\\*\\*.png\")\n",
    "print(len(image_big_dataset_list_training))"
   ]
  },
  {
   "cell_type": "code",
   "execution_count": 12,
   "metadata": {},
   "outputs": [],
   "source": [
    "# FOR THE SHORT BUT BALANCED DATASET (1000 IMAGES GENERATED + 50 ORIGINAL FOR EACH PERSON) \n",
    "labels_code_big_dataset_training = []\n",
    "for i in range(1000):\n",
    "    labels_code_big_dataset_training.append(\"CLAUDINE\")\n",
    "for i in range(1000):\n",
    "    labels_code_big_dataset_training.append(\"EVA\")\n",
    "for i in range(1000):\n",
    "    labels_code_big_dataset_training.append(\"JEREMY\")\n",
    "for i in range(1000):\n",
    "    labels_code_big_dataset_training.append(\"JULIEN\")\n",
    "for i in range(1000):\n",
    "    labels_code_big_dataset_training.append(\"LAURENT\")\n",
    "for i in range(1000):\n",
    "    labels_code_big_dataset_training.append(\"OLIVIA\")\n",
    "for i in range(1000):\n",
    "    labels_code_big_dataset_training.append(\"SANDRINE\")\n",
    "for i in range(1000):\n",
    "    labels_code_big_dataset_training.append(\"TOM\")\n",
    "for i in range(1000):\n",
    "    labels_code_big_dataset_training.append(\"YVES\")"
   ]
  },
  {
   "cell_type": "code",
   "execution_count": 13,
   "metadata": {},
   "outputs": [
    {
     "name": "stdout",
     "output_type": "stream",
     "text": [
      "9000\n"
     ]
    }
   ],
   "source": [
    "print(len(labels_code_big_dataset_training))"
   ]
  },
  {
   "cell_type": "markdown",
   "metadata": {},
   "source": [
    "##### It is handy to have the labels (strings) expressed both as CATEGORY (0 to 8) for Output layer"
   ]
  },
  {
   "cell_type": "code",
   "execution_count": 15,
   "metadata": {},
   "outputs": [],
   "source": [
    "# CATEGORY Label Encoding (le) method\n",
    "le = preprocessing.LabelEncoder()"
   ]
  },
  {
   "cell_type": "code",
   "execution_count": 16,
   "metadata": {},
   "outputs": [
    {
     "data": {
      "text/plain": [
       "LabelEncoder()"
      ]
     },
     "execution_count": 16,
     "metadata": {},
     "output_type": "execute_result"
    }
   ],
   "source": [
    "# convert the input long labels string vector into a set of unique lables\n",
    "le.fit(labels_code_big_dataset_training)"
   ]
  },
  {
   "cell_type": "code",
   "execution_count": 17,
   "metadata": {},
   "outputs": [
    {
     "name": "stdout",
     "output_type": "stream",
     "text": [
      "['CLAUDINE', 'EVA', 'JEREMY', 'JULIEN', 'LAURENT', 'OLIVIA', 'SANDRINE', 'TOM', 'YVES']\n"
     ]
    }
   ],
   "source": [
    "# And here shown as list\n",
    "labels_list=list(le.classes_)\n",
    "print(labels_list)"
   ]
  },
  {
   "cell_type": "code",
   "execution_count": 18,
   "metadata": {},
   "outputs": [],
   "source": [
    "#use this transformation on the global label data set to convert into integers\n",
    "labels_code_CATEGORY_big_dataset_training =le.transform(labels_code_big_dataset_training)"
   ]
  },
  {
   "cell_type": "code",
   "execution_count": 19,
   "metadata": {},
   "outputs": [
    {
     "name": "stdout",
     "output_type": "stream",
     "text": [
      "9000 [0 0 0 ... 8 8 8]\n"
     ]
    }
   ],
   "source": [
    "print(len(labels_code_CATEGORY_big_dataset_training),labels_code_CATEGORY_big_dataset_training)"
   ]
  },
  {
   "cell_type": "code",
   "execution_count": 20,
   "metadata": {},
   "outputs": [
    {
     "name": "stdout",
     "output_type": "stream",
     "text": [
      "['JULIEN']\n"
     ]
    }
   ],
   "source": [
    "# From the Integer label, we can go back to string label with inverse transformation\n",
    "print(le.inverse_transform([3]))"
   ]
  },
  {
   "cell_type": "markdown",
   "metadata": {},
   "source": [
    "### Now compiling TRAINING images / Input data"
   ]
  },
  {
   "cell_type": "code",
   "execution_count": 21,
   "metadata": {},
   "outputs": [],
   "source": [
    "image_array_big_dataset_training=np.zeros(shape=(len(image_big_dataset_list_training),96,96,3))\n",
    "for i in range(len(image_big_dataset_list_training)):\n",
    "    image_loaded=image.load_img((image_big_dataset_list_training[i]),target_size=(96,96))\n",
    "    image_array_big_dataset_training[i]=image_loaded"
   ]
  },
  {
   "cell_type": "code",
   "execution_count": 22,
   "metadata": {},
   "outputs": [
    {
     "data": {
      "text/plain": [
       "(9000, 96, 96, 3)"
      ]
     },
     "execution_count": 22,
     "metadata": {},
     "output_type": "execute_result"
    }
   ],
   "source": [
    "image_array_big_dataset_training.shape"
   ]
  },
  {
   "cell_type": "code",
   "execution_count": 23,
   "metadata": {},
   "outputs": [
    {
     "data": {
      "text/plain": [
       "numpy.ndarray"
      ]
     },
     "execution_count": 23,
     "metadata": {},
     "output_type": "execute_result"
    }
   ],
   "source": [
    "type(image_array_big_dataset_training)"
   ]
  },
  {
   "cell_type": "markdown",
   "metadata": {},
   "source": [
    "### LOADING AND PREPARING TESTING IMAGE BIG DATA SET"
   ]
  },
  {
   "cell_type": "code",
   "execution_count": 25,
   "metadata": {},
   "outputs": [
    {
     "name": "stdout",
     "output_type": "stream",
     "text": [
      "450\n"
     ]
    }
   ],
   "source": [
    "image_big_dataset_list_testing=glob.glob(\"Faces_extracted_family_QCed\\TESTING\\*\\*.png\")\n",
    "print(len(image_big_dataset_list_testing))"
   ]
  },
  {
   "cell_type": "code",
   "execution_count": 27,
   "metadata": {},
   "outputs": [],
   "source": [
    "# FOR THE SHORT BUT BALANCED DATASET (50 ORIGINAL FOR EACH PERSON) \n",
    "labels_code_big_dataset_testing = []\n",
    "for i in range(50):\n",
    "    labels_code_big_dataset_testing.append(\"CLAUDINE\")\n",
    "for i in range(50):\n",
    "    labels_code_big_dataset_testing.append(\"EVA\")\n",
    "for i in range(50):\n",
    "    labels_code_big_dataset_testing.append(\"JEREMY\")\n",
    "for i in range(50):\n",
    "    labels_code_big_dataset_testing.append(\"JULIEN\")\n",
    "for i in range(50):\n",
    "    labels_code_big_dataset_testing.append(\"LAURENT\")\n",
    "for i in range(50):\n",
    "    labels_code_big_dataset_testing.append(\"OLIVIA\")\n",
    "for i in range(50):\n",
    "    labels_code_big_dataset_testing.append(\"SANDRINE\")\n",
    "for i in range(50):\n",
    "    labels_code_big_dataset_testing.append(\"TOM\")\n",
    "for i in range(50):\n",
    "    labels_code_big_dataset_testing.append(\"YVES\")"
   ]
  },
  {
   "cell_type": "code",
   "execution_count": 28,
   "metadata": {},
   "outputs": [
    {
     "name": "stdout",
     "output_type": "stream",
     "text": [
      "450\n"
     ]
    }
   ],
   "source": [
    "print(len(labels_code_big_dataset_testing))"
   ]
  },
  {
   "cell_type": "code",
   "execution_count": 30,
   "metadata": {},
   "outputs": [
    {
     "data": {
      "text/plain": [
       "LabelEncoder()"
      ]
     },
     "execution_count": 30,
     "metadata": {},
     "output_type": "execute_result"
    }
   ],
   "source": [
    "# convert the input long labels string vector into the SAME a set of unique labels\n",
    "le.fit(labels_code_big_dataset_testing)"
   ]
  },
  {
   "cell_type": "code",
   "execution_count": 31,
   "metadata": {},
   "outputs": [],
   "source": [
    "#use this transformation on the global label data set to convert into integers\n",
    "labels_code_CATEGORY_big_dataset_testing =le.transform(labels_code_big_dataset_testing)"
   ]
  },
  {
   "cell_type": "code",
   "execution_count": 32,
   "metadata": {},
   "outputs": [
    {
     "name": "stdout",
     "output_type": "stream",
     "text": [
      "450 [0 0 0 0 0 0 0 0 0 0 0 0 0 0 0 0 0 0 0 0 0 0 0 0 0 0 0 0 0 0 0 0 0 0 0 0 0\n",
      " 0 0 0 0 0 0 0 0 0 0 0 0 0 1 1 1 1 1 1 1 1 1 1 1 1 1 1 1 1 1 1 1 1 1 1 1 1\n",
      " 1 1 1 1 1 1 1 1 1 1 1 1 1 1 1 1 1 1 1 1 1 1 1 1 1 1 2 2 2 2 2 2 2 2 2 2 2\n",
      " 2 2 2 2 2 2 2 2 2 2 2 2 2 2 2 2 2 2 2 2 2 2 2 2 2 2 2 2 2 2 2 2 2 2 2 2 2\n",
      " 2 2 3 3 3 3 3 3 3 3 3 3 3 3 3 3 3 3 3 3 3 3 3 3 3 3 3 3 3 3 3 3 3 3 3 3 3\n",
      " 3 3 3 3 3 3 3 3 3 3 3 3 3 3 3 4 4 4 4 4 4 4 4 4 4 4 4 4 4 4 4 4 4 4 4 4 4\n",
      " 4 4 4 4 4 4 4 4 4 4 4 4 4 4 4 4 4 4 4 4 4 4 4 4 4 4 4 4 5 5 5 5 5 5 5 5 5\n",
      " 5 5 5 5 5 5 5 5 5 5 5 5 5 5 5 5 5 5 5 5 5 5 5 5 5 5 5 5 5 5 5 5 5 5 5 5 5\n",
      " 5 5 5 5 6 6 6 6 6 6 6 6 6 6 6 6 6 6 6 6 6 6 6 6 6 6 6 6 6 6 6 6 6 6 6 6 6\n",
      " 6 6 6 6 6 6 6 6 6 6 6 6 6 6 6 6 6 7 7 7 7 7 7 7 7 7 7 7 7 7 7 7 7 7 7 7 7\n",
      " 7 7 7 7 7 7 7 7 7 7 7 7 7 7 7 7 7 7 7 7 7 7 7 7 7 7 7 7 7 7 8 8 8 8 8 8 8\n",
      " 8 8 8 8 8 8 8 8 8 8 8 8 8 8 8 8 8 8 8 8 8 8 8 8 8 8 8 8 8 8 8 8 8 8 8 8 8\n",
      " 8 8 8 8 8 8]\n"
     ]
    }
   ],
   "source": [
    "print(len(labels_code_CATEGORY_big_dataset_testing),labels_code_CATEGORY_big_dataset_testing)"
   ]
  },
  {
   "cell_type": "code",
   "execution_count": null,
   "metadata": {},
   "outputs": [],
   "source": []
  },
  {
   "cell_type": "markdown",
   "metadata": {},
   "source": [
    "### Now compiling TESTING images / Input data"
   ]
  },
  {
   "cell_type": "code",
   "execution_count": 33,
   "metadata": {},
   "outputs": [],
   "source": [
    "image_array_big_dataset_testing=np.zeros(shape=(len(image_big_dataset_list_testing),96,96,3))\n",
    "for i in range(len(image_big_dataset_list_testing)):\n",
    "    image_loaded=image.load_img((image_big_dataset_list_testing[i]),target_size=(96,96))\n",
    "    image_array_big_dataset_testing[i]=image_loaded"
   ]
  },
  {
   "cell_type": "code",
   "execution_count": 34,
   "metadata": {},
   "outputs": [
    {
     "data": {
      "text/plain": [
       "(450, 96, 96, 3)"
      ]
     },
     "execution_count": 34,
     "metadata": {},
     "output_type": "execute_result"
    }
   ],
   "source": [
    "image_array_big_dataset_testing.shape"
   ]
  },
  {
   "cell_type": "markdown",
   "metadata": {},
   "source": [
    "### FINAL FORMATING IMAGES BEFORE INPUT TO MOBILNET_V2"
   ]
  },
  {
   "cell_type": "code",
   "execution_count": 81,
   "metadata": {},
   "outputs": [],
   "source": [
    "def adjust_input_image_mobilnet_v2(rgb_data):\n",
    "    adjusted = ppi_mobilnet_v2(rgb_data)\n",
    "    \n",
    "    return adjusted"
   ]
  },
  {
   "cell_type": "code",
   "execution_count": 38,
   "metadata": {},
   "outputs": [],
   "source": [
    "X_training = np.array([adjust_input_image_mobilnet_v2(x) for x in image_array_big_dataset_training])"
   ]
  },
  {
   "cell_type": "code",
   "execution_count": 39,
   "metadata": {},
   "outputs": [
    {
     "data": {
      "text/plain": [
       "(array([1.000e+00, 4.000e+00, 3.000e+00, 5.000e+00, 3.000e+00, 1.451e+03,\n",
       "        3.000e+00, 1.700e+01, 9.000e+00, 7.000e+00, 9.000e+00, 1.700e+01,\n",
       "        2.800e+01, 7.500e+01, 1.110e+02, 2.110e+02, 2.640e+02, 2.440e+02,\n",
       "        2.010e+02, 1.450e+02, 1.410e+02, 1.560e+02, 1.800e+02, 1.780e+02,\n",
       "        1.690e+02, 2.140e+02, 2.600e+02, 1.920e+02, 2.350e+02, 2.930e+02,\n",
       "        3.460e+02, 3.730e+02, 3.570e+02, 4.250e+02, 3.810e+02, 3.660e+02,\n",
       "        3.410e+02, 3.270e+02, 2.810e+02, 2.400e+02, 2.330e+02, 1.590e+02,\n",
       "        1.030e+02, 8.400e+01, 1.080e+02, 6.800e+01, 8.600e+01, 6.100e+01,\n",
       "        4.200e+01, 9.000e+00]),\n",
       " array([-0.89019608, -0.87466667, -0.85913725, -0.84360784, -0.82807843,\n",
       "        -0.81254902, -0.79701961, -0.7814902 , -0.76596078, -0.75043137,\n",
       "        -0.73490196, -0.71937255, -0.70384314, -0.68831373, -0.67278431,\n",
       "        -0.6572549 , -0.64172549, -0.62619608, -0.61066667, -0.59513725,\n",
       "        -0.57960784, -0.56407843, -0.54854902, -0.53301961, -0.5174902 ,\n",
       "        -0.50196078, -0.48643137, -0.47090196, -0.45537255, -0.43984314,\n",
       "        -0.42431373, -0.40878431, -0.3932549 , -0.37772549, -0.36219608,\n",
       "        -0.34666667, -0.33113725, -0.31560784, -0.30007843, -0.28454902,\n",
       "        -0.26901961, -0.2534902 , -0.23796078, -0.22243137, -0.20690196,\n",
       "        -0.19137255, -0.17584314, -0.16031373, -0.14478431, -0.1292549 ,\n",
       "        -0.11372549]),\n",
       " <a list of 50 Patch objects>)"
      ]
     },
     "execution_count": 39,
     "metadata": {},
     "output_type": "execute_result"
    },
    {
     "data": {
      "image/png": "[encoded data removed]",
      "text/plain": [
       "<Figure size 432x288 with 1 Axes>"
      ]
     },
     "metadata": {
      "needs_background": "light"
     },
     "output_type": "display_data"
    }
   ],
   "source": [
    "plt.hist(np.ravel(X_training[0,:,:,2]), bins=50)"
   ]
  },
  {
   "cell_type": "code",
   "execution_count": 40,
   "metadata": {},
   "outputs": [
    {
     "data": {
      "text/plain": [
       "((9000, 96, 96, 3),\n",
       " array([[-0.80392157, -0.80392157, -0.80392157, ..., -0.80392157,\n",
       "         -0.80392157, -0.80392157],\n",
       "        [-0.80392157, -0.80392157, -0.80392157, ..., -0.80392157,\n",
       "         -0.80392157, -0.80392157],\n",
       "        [-0.80392157, -0.80392157, -0.80392157, ..., -0.80392157,\n",
       "         -0.80392157, -0.80392157],\n",
       "        ...,\n",
       "        [-0.80392157, -0.80392157, -0.80392157, ..., -0.80392157,\n",
       "         -0.80392157, -0.80392157],\n",
       "        [-0.80392157, -0.80392157, -0.80392157, ..., -0.80392157,\n",
       "         -0.80392157, -0.80392157],\n",
       "        [-0.80392157, -0.80392157, -0.80392157, ..., -0.80392157,\n",
       "         -0.80392157, -0.80392157]]))"
      ]
     },
     "execution_count": 40,
     "metadata": {},
     "output_type": "execute_result"
    }
   ],
   "source": [
    "X_training.shape,X_training[2,:,:,2]"
   ]
  },
  {
   "cell_type": "code",
   "execution_count": 41,
   "metadata": {},
   "outputs": [],
   "source": [
    "y_training = to_categorical(labels_code_CATEGORY_big_dataset_training, NUM_CLASSES)"
   ]
  },
  {
   "cell_type": "code",
   "execution_count": 43,
   "metadata": {},
   "outputs": [],
   "source": [
    "X_testing = np.array([adjust_input_image_mobilnet_v2(x) for x in image_array_big_dataset_testing])"
   ]
  },
  {
   "cell_type": "code",
   "execution_count": 44,
   "metadata": {},
   "outputs": [
    {
     "data": {
      "text/plain": [
       "(array([  2.,   0.,   1.,   3.,  10.,  14.,  17.,  48.,  72., 163., 172.,\n",
       "        185., 237., 412., 304., 244., 264., 224., 352., 227., 235., 207.,\n",
       "        341., 236., 298., 293., 341., 498., 361., 320., 336., 491., 305.,\n",
       "        275., 282., 293., 334., 174., 131., 112., 139.,  95.,  59.,  55.,\n",
       "         18.,  25.,   4.,   4.,   1.,   2.]),\n",
       " array([-0.8745098 , -0.85709804, -0.83968627, -0.82227451, -0.80486275,\n",
       "        -0.78745098, -0.77003922, -0.75262745, -0.73521569, -0.71780392,\n",
       "        -0.70039216, -0.68298039, -0.66556863, -0.64815686, -0.6307451 ,\n",
       "        -0.61333333, -0.59592157, -0.5785098 , -0.56109804, -0.54368627,\n",
       "        -0.52627451, -0.50886275, -0.49145098, -0.47403922, -0.45662745,\n",
       "        -0.43921569, -0.42180392, -0.40439216, -0.38698039, -0.36956863,\n",
       "        -0.35215686, -0.3347451 , -0.31733333, -0.29992157, -0.2825098 ,\n",
       "        -0.26509804, -0.24768627, -0.23027451, -0.21286275, -0.19545098,\n",
       "        -0.17803922, -0.16062745, -0.14321569, -0.12580392, -0.10839216,\n",
       "        -0.09098039, -0.07356863, -0.05615686, -0.0387451 , -0.02133333,\n",
       "        -0.00392157]),\n",
       " <a list of 50 Patch objects>)"
      ]
     },
     "execution_count": 44,
     "metadata": {},
     "output_type": "execute_result"
    },
    {
     "data": {
      "image/png": "[encoded data removed]",
      "text/plain": [
       "<Figure size 432x288 with 1 Axes>"
      ]
     },
     "metadata": {
      "needs_background": "light"
     },
     "output_type": "display_data"
    }
   ],
   "source": [
    "plt.hist(np.ravel(X_testing[0,:,:,2]), bins=50)"
   ]
  },
  {
   "cell_type": "code",
   "execution_count": 46,
   "metadata": {},
   "outputs": [],
   "source": [
    "y_testing = to_categorical(labels_code_CATEGORY_big_dataset_testing, NUM_CLASSES)"
   ]
  },
  {
   "cell_type": "code",
   "execution_count": 48,
   "metadata": {
    "scrolled": true
   },
   "outputs": [],
   "source": [
    "# MOBILENET V2\n",
    "base_model = MobileNetV2(weights='imagenet', include_top=False, input_shape=(96,96, 3))\n",
    "\n",
    "# Layers go from 0-154\n",
    "#   initial=0-9\n",
    "#   block1 = 10-18\n",
    "#   block2 = 19-27\n",
    "#   block3 = 28-36\n",
    "#   block4 = 37-45\n",
    "#   block5 = 46-54\n",
    "#   block6 = 55-63\n",
    "#.  block7 = 64-72\n",
    "#   block8 = 73-81\n",
    "#.  block9 = 81-90\n",
    "#   block10= 91-98\n",
    "#   block11= 99-107\n",
    "#.  block12= 108-116\n",
    "#.  block13= 117-125\n",
    "#   block14= 126-134\n",
    "#.  block15= 135-143\n",
    "#.  block16= 144-151\n",
    "#.  final_conv = 152, \n",
    "#   conv_bn 153\n",
    "#   out_relu = 154\n"
   ]
  },
  {
   "cell_type": "code",
   "execution_count": 49,
   "metadata": {},
   "outputs": [
    {
     "name": "stdout",
     "output_type": "stream",
     "text": [
      "0 input_1\n",
      "1 Conv1_pad\n",
      "2 Conv1\n",
      "3 bn_Conv1\n",
      "4 Conv1_relu\n",
      "5 expanded_conv_depthwise\n",
      "6 expanded_conv_depthwise_BN\n",
      "7 expanded_conv_depthwise_relu\n",
      "8 expanded_conv_project\n",
      "9 expanded_conv_project_BN\n",
      "10 block_1_expand\n",
      "11 block_1_expand_BN\n",
      "12 block_1_expand_relu\n",
      "13 block_1_pad\n",
      "14 block_1_depthwise\n",
      "15 block_1_depthwise_BN\n",
      "16 block_1_depthwise_relu\n",
      "17 block_1_project\n",
      "18 block_1_project_BN\n",
      "19 block_2_expand\n",
      "20 block_2_expand_BN\n",
      "21 block_2_expand_relu\n",
      "22 block_2_depthwise\n",
      "23 block_2_depthwise_BN\n",
      "24 block_2_depthwise_relu\n",
      "25 block_2_project\n",
      "26 block_2_project_BN\n",
      "27 block_2_add\n",
      "28 block_3_expand\n",
      "29 block_3_expand_BN\n",
      "30 block_3_expand_relu\n",
      "31 block_3_pad\n",
      "32 block_3_depthwise\n",
      "33 block_3_depthwise_BN\n",
      "34 block_3_depthwise_relu\n",
      "35 block_3_project\n",
      "36 block_3_project_BN\n",
      "37 block_4_expand\n",
      "38 block_4_expand_BN\n",
      "39 block_4_expand_relu\n",
      "40 block_4_depthwise\n",
      "41 block_4_depthwise_BN\n",
      "42 block_4_depthwise_relu\n",
      "43 block_4_project\n",
      "44 block_4_project_BN\n",
      "45 block_4_add\n",
      "46 block_5_expand\n",
      "47 block_5_expand_BN\n",
      "48 block_5_expand_relu\n",
      "49 block_5_depthwise\n",
      "50 block_5_depthwise_BN\n",
      "51 block_5_depthwise_relu\n",
      "52 block_5_project\n",
      "53 block_5_project_BN\n",
      "54 block_5_add\n",
      "55 block_6_expand\n",
      "56 block_6_expand_BN\n",
      "57 block_6_expand_relu\n",
      "58 block_6_pad\n",
      "59 block_6_depthwise\n",
      "60 block_6_depthwise_BN\n",
      "61 block_6_depthwise_relu\n",
      "62 block_6_project\n",
      "63 block_6_project_BN\n",
      "64 block_7_expand\n",
      "65 block_7_expand_BN\n",
      "66 block_7_expand_relu\n",
      "67 block_7_depthwise\n",
      "68 block_7_depthwise_BN\n",
      "69 block_7_depthwise_relu\n",
      "70 block_7_project\n",
      "71 block_7_project_BN\n",
      "72 block_7_add\n",
      "73 block_8_expand\n",
      "74 block_8_expand_BN\n",
      "75 block_8_expand_relu\n",
      "76 block_8_depthwise\n",
      "77 block_8_depthwise_BN\n",
      "78 block_8_depthwise_relu\n",
      "79 block_8_project\n",
      "80 block_8_project_BN\n",
      "81 block_8_add\n",
      "82 block_9_expand\n",
      "83 block_9_expand_BN\n",
      "84 block_9_expand_relu\n",
      "85 block_9_depthwise\n",
      "86 block_9_depthwise_BN\n",
      "87 block_9_depthwise_relu\n",
      "88 block_9_project\n",
      "89 block_9_project_BN\n",
      "90 block_9_add\n",
      "91 block_10_expand\n",
      "92 block_10_expand_BN\n",
      "93 block_10_expand_relu\n",
      "94 block_10_depthwise\n",
      "95 block_10_depthwise_BN\n",
      "96 block_10_depthwise_relu\n",
      "97 block_10_project\n",
      "98 block_10_project_BN\n",
      "99 block_11_expand\n",
      "100 block_11_expand_BN\n",
      "101 block_11_expand_relu\n",
      "102 block_11_depthwise\n",
      "103 block_11_depthwise_BN\n",
      "104 block_11_depthwise_relu\n",
      "105 block_11_project\n",
      "106 block_11_project_BN\n",
      "107 block_11_add\n",
      "108 block_12_expand\n",
      "109 block_12_expand_BN\n",
      "110 block_12_expand_relu\n",
      "111 block_12_depthwise\n",
      "112 block_12_depthwise_BN\n",
      "113 block_12_depthwise_relu\n",
      "114 block_12_project\n",
      "115 block_12_project_BN\n",
      "116 block_12_add\n",
      "117 block_13_expand\n",
      "118 block_13_expand_BN\n",
      "119 block_13_expand_relu\n",
      "120 block_13_pad\n",
      "121 block_13_depthwise\n",
      "122 block_13_depthwise_BN\n",
      "123 block_13_depthwise_relu\n",
      "124 block_13_project\n",
      "125 block_13_project_BN\n",
      "126 block_14_expand\n",
      "127 block_14_expand_BN\n",
      "128 block_14_expand_relu\n",
      "129 block_14_depthwise\n",
      "130 block_14_depthwise_BN\n",
      "131 block_14_depthwise_relu\n",
      "132 block_14_project\n",
      "133 block_14_project_BN\n",
      "134 block_14_add\n",
      "135 block_15_expand\n",
      "136 block_15_expand_BN\n",
      "137 block_15_expand_relu\n",
      "138 block_15_depthwise\n",
      "139 block_15_depthwise_BN\n",
      "140 block_15_depthwise_relu\n",
      "141 block_15_project\n",
      "142 block_15_project_BN\n",
      "143 block_15_add\n",
      "144 block_16_expand\n",
      "145 block_16_expand_BN\n",
      "146 block_16_expand_relu\n",
      "147 block_16_depthwise\n",
      "148 block_16_depthwise_BN\n",
      "149 block_16_depthwise_relu\n",
      "150 block_16_project\n",
      "151 block_16_project_BN\n",
      "152 Conv_1\n",
      "153 Conv_1_bn\n",
      "154 out_relu\n"
     ]
    }
   ],
   "source": [
    "for i, layer in enumerate(base_model.layers):\n",
    "    print(i, layer.name)"
   ]
  },
  {
   "cell_type": "code",
   "execution_count": 50,
   "metadata": {},
   "outputs": [
    {
     "name": "stdout",
     "output_type": "stream",
     "text": [
      "Model: \"mobilenetv2_1.00_96\"\n",
      "__________________________________________________________________________________________________\n",
      "Layer (type)                    Output Shape         Param #     Connected to                     \n",
      "==================================================================================================\n",
      "input_1 (InputLayer)            [(None, 96, 96, 3)]  0                                            \n",
      "__________________________________________________________________________________________________\n",
      "Conv1_pad (ZeroPadding2D)       (None, 97, 97, 3)    0           input_1[0][0]                    \n",
      "__________________________________________________________________________________________________\n",
      "Conv1 (Conv2D)                  (None, 48, 48, 32)   864         Conv1_pad[0][0]                  \n",
      "__________________________________________________________________________________________________\n",
      "bn_Conv1 (BatchNormalization)   (None, 48, 48, 32)   128         Conv1[0][0]                      \n",
      "__________________________________________________________________________________________________\n",
      "Conv1_relu (ReLU)               (None, 48, 48, 32)   0           bn_Conv1[0][0]                   \n",
      "__________________________________________________________________________________________________\n",
      "expanded_conv_depthwise (Depthw (None, 48, 48, 32)   288         Conv1_relu[0][0]                 \n",
      "__________________________________________________________________________________________________\n",
      "expanded_conv_depthwise_BN (Bat (None, 48, 48, 32)   128         expanded_conv_depthwise[0][0]    \n",
      "__________________________________________________________________________________________________\n",
      "expanded_conv_depthwise_relu (R (None, 48, 48, 32)   0           expanded_conv_depthwise_BN[0][0] \n",
      "__________________________________________________________________________________________________\n",
      "expanded_conv_project (Conv2D)  (None, 48, 48, 16)   512         expanded_conv_depthwise_relu[0][0\n",
      "__________________________________________________________________________________________________\n",
      "expanded_conv_project_BN (Batch (None, 48, 48, 16)   64          expanded_conv_project[0][0]      \n",
      "__________________________________________________________________________________________________\n",
      "block_1_expand (Conv2D)         (None, 48, 48, 96)   1536        expanded_conv_project_BN[0][0]   \n",
      "__________________________________________________________________________________________________\n",
      "block_1_expand_BN (BatchNormali (None, 48, 48, 96)   384         block_1_expand[0][0]             \n",
      "__________________________________________________________________________________________________\n",
      "block_1_expand_relu (ReLU)      (None, 48, 48, 96)   0           block_1_expand_BN[0][0]          \n",
      "__________________________________________________________________________________________________\n",
      "block_1_pad (ZeroPadding2D)     (None, 49, 49, 96)   0           block_1_expand_relu[0][0]        \n",
      "__________________________________________________________________________________________________\n",
      "block_1_depthwise (DepthwiseCon (None, 24, 24, 96)   864         block_1_pad[0][0]                \n",
      "__________________________________________________________________________________________________\n",
      "block_1_depthwise_BN (BatchNorm (None, 24, 24, 96)   384         block_1_depthwise[0][0]          \n",
      "__________________________________________________________________________________________________\n",
      "block_1_depthwise_relu (ReLU)   (None, 24, 24, 96)   0           block_1_depthwise_BN[0][0]       \n",
      "__________________________________________________________________________________________________\n",
      "block_1_project (Conv2D)        (None, 24, 24, 24)   2304        block_1_depthwise_relu[0][0]     \n",
      "__________________________________________________________________________________________________\n",
      "block_1_project_BN (BatchNormal (None, 24, 24, 24)   96          block_1_project[0][0]            \n",
      "__________________________________________________________________________________________________\n",
      "block_2_expand (Conv2D)         (None, 24, 24, 144)  3456        block_1_project_BN[0][0]         \n",
      "__________________________________________________________________________________________________\n",
      "block_2_expand_BN (BatchNormali (None, 24, 24, 144)  576         block_2_expand[0][0]             \n",
      "__________________________________________________________________________________________________\n",
      "block_2_expand_relu (ReLU)      (None, 24, 24, 144)  0           block_2_expand_BN[0][0]          \n",
      "__________________________________________________________________________________________________\n",
      "block_2_depthwise (DepthwiseCon (None, 24, 24, 144)  1296        block_2_expand_relu[0][0]        \n",
      "__________________________________________________________________________________________________\n",
      "block_2_depthwise_BN (BatchNorm (None, 24, 24, 144)  576         block_2_depthwise[0][0]          \n",
      "__________________________________________________________________________________________________\n",
      "block_2_depthwise_relu (ReLU)   (None, 24, 24, 144)  0           block_2_depthwise_BN[0][0]       \n",
      "__________________________________________________________________________________________________\n",
      "block_2_project (Conv2D)        (None, 24, 24, 24)   3456        block_2_depthwise_relu[0][0]     \n",
      "__________________________________________________________________________________________________\n",
      "block_2_project_BN (BatchNormal (None, 24, 24, 24)   96          block_2_project[0][0]            \n",
      "__________________________________________________________________________________________________\n",
      "block_2_add (Add)               (None, 24, 24, 24)   0           block_1_project_BN[0][0]         \n",
      "                                                                 block_2_project_BN[0][0]         \n",
      "__________________________________________________________________________________________________\n",
      "block_3_expand (Conv2D)         (None, 24, 24, 144)  3456        block_2_add[0][0]                \n",
      "__________________________________________________________________________________________________\n",
      "block_3_expand_BN (BatchNormali (None, 24, 24, 144)  576         block_3_expand[0][0]             \n",
      "__________________________________________________________________________________________________\n",
      "block_3_expand_relu (ReLU)      (None, 24, 24, 144)  0           block_3_expand_BN[0][0]          \n",
      "__________________________________________________________________________________________________\n",
      "block_3_pad (ZeroPadding2D)     (None, 25, 25, 144)  0           block_3_expand_relu[0][0]        \n",
      "__________________________________________________________________________________________________\n",
      "block_3_depthwise (DepthwiseCon (None, 12, 12, 144)  1296        block_3_pad[0][0]                \n",
      "__________________________________________________________________________________________________\n",
      "block_3_depthwise_BN (BatchNorm (None, 12, 12, 144)  576         block_3_depthwise[0][0]          \n",
      "__________________________________________________________________________________________________\n",
      "block_3_depthwise_relu (ReLU)   (None, 12, 12, 144)  0           block_3_depthwise_BN[0][0]       \n",
      "__________________________________________________________________________________________________\n",
      "block_3_project (Conv2D)        (None, 12, 12, 32)   4608        block_3_depthwise_relu[0][0]     \n",
      "__________________________________________________________________________________________________\n",
      "block_3_project_BN (BatchNormal (None, 12, 12, 32)   128         block_3_project[0][0]            \n",
      "__________________________________________________________________________________________________\n",
      "block_4_expand (Conv2D)         (None, 12, 12, 192)  6144        block_3_project_BN[0][0]         \n",
      "__________________________________________________________________________________________________\n",
      "block_4_expand_BN (BatchNormali (None, 12, 12, 192)  768         block_4_expand[0][0]             \n",
      "__________________________________________________________________________________________________\n",
      "block_4_expand_relu (ReLU)      (None, 12, 12, 192)  0           block_4_expand_BN[0][0]          \n",
      "__________________________________________________________________________________________________\n",
      "block_4_depthwise (DepthwiseCon (None, 12, 12, 192)  1728        block_4_expand_relu[0][0]        \n",
      "__________________________________________________________________________________________________\n",
      "block_4_depthwise_BN (BatchNorm (None, 12, 12, 192)  768         block_4_depthwise[0][0]          \n",
      "__________________________________________________________________________________________________\n",
      "block_4_depthwise_relu (ReLU)   (None, 12, 12, 192)  0           block_4_depthwise_BN[0][0]       \n",
      "__________________________________________________________________________________________________\n",
      "block_4_project (Conv2D)        (None, 12, 12, 32)   6144        block_4_depthwise_relu[0][0]     \n",
      "__________________________________________________________________________________________________\n",
      "block_4_project_BN (BatchNormal (None, 12, 12, 32)   128         block_4_project[0][0]            \n",
      "__________________________________________________________________________________________________\n",
      "block_4_add (Add)               (None, 12, 12, 32)   0           block_3_project_BN[0][0]         \n",
      "                                                                 block_4_project_BN[0][0]         \n",
      "__________________________________________________________________________________________________\n",
      "block_5_expand (Conv2D)         (None, 12, 12, 192)  6144        block_4_add[0][0]                \n",
      "__________________________________________________________________________________________________\n",
      "block_5_expand_BN (BatchNormali (None, 12, 12, 192)  768         block_5_expand[0][0]             \n",
      "__________________________________________________________________________________________________\n",
      "block_5_expand_relu (ReLU)      (None, 12, 12, 192)  0           block_5_expand_BN[0][0]          \n",
      "__________________________________________________________________________________________________\n",
      "block_5_depthwise (DepthwiseCon (None, 12, 12, 192)  1728        block_5_expand_relu[0][0]        \n",
      "__________________________________________________________________________________________________\n",
      "block_5_depthwise_BN (BatchNorm (None, 12, 12, 192)  768         block_5_depthwise[0][0]          \n",
      "__________________________________________________________________________________________________\n",
      "block_5_depthwise_relu (ReLU)   (None, 12, 12, 192)  0           block_5_depthwise_BN[0][0]       \n",
      "__________________________________________________________________________________________________\n",
      "block_5_project (Conv2D)        (None, 12, 12, 32)   6144        block_5_depthwise_relu[0][0]     \n",
      "__________________________________________________________________________________________________\n"
     ]
    },
    {
     "name": "stdout",
     "output_type": "stream",
     "text": [
      "block_5_project_BN (BatchNormal (None, 12, 12, 32)   128         block_5_project[0][0]            \n",
      "__________________________________________________________________________________________________\n",
      "block_5_add (Add)               (None, 12, 12, 32)   0           block_4_add[0][0]                \n",
      "                                                                 block_5_project_BN[0][0]         \n",
      "__________________________________________________________________________________________________\n",
      "block_6_expand (Conv2D)         (None, 12, 12, 192)  6144        block_5_add[0][0]                \n",
      "__________________________________________________________________________________________________\n",
      "block_6_expand_BN (BatchNormali (None, 12, 12, 192)  768         block_6_expand[0][0]             \n",
      "__________________________________________________________________________________________________\n",
      "block_6_expand_relu (ReLU)      (None, 12, 12, 192)  0           block_6_expand_BN[0][0]          \n",
      "__________________________________________________________________________________________________\n",
      "block_6_pad (ZeroPadding2D)     (None, 13, 13, 192)  0           block_6_expand_relu[0][0]        \n",
      "__________________________________________________________________________________________________\n",
      "block_6_depthwise (DepthwiseCon (None, 6, 6, 192)    1728        block_6_pad[0][0]                \n",
      "__________________________________________________________________________________________________\n",
      "block_6_depthwise_BN (BatchNorm (None, 6, 6, 192)    768         block_6_depthwise[0][0]          \n",
      "__________________________________________________________________________________________________\n",
      "block_6_depthwise_relu (ReLU)   (None, 6, 6, 192)    0           block_6_depthwise_BN[0][0]       \n",
      "__________________________________________________________________________________________________\n",
      "block_6_project (Conv2D)        (None, 6, 6, 64)     12288       block_6_depthwise_relu[0][0]     \n",
      "__________________________________________________________________________________________________\n",
      "block_6_project_BN (BatchNormal (None, 6, 6, 64)     256         block_6_project[0][0]            \n",
      "__________________________________________________________________________________________________\n",
      "block_7_expand (Conv2D)         (None, 6, 6, 384)    24576       block_6_project_BN[0][0]         \n",
      "__________________________________________________________________________________________________\n",
      "block_7_expand_BN (BatchNormali (None, 6, 6, 384)    1536        block_7_expand[0][0]             \n",
      "__________________________________________________________________________________________________\n",
      "block_7_expand_relu (ReLU)      (None, 6, 6, 384)    0           block_7_expand_BN[0][0]          \n",
      "__________________________________________________________________________________________________\n",
      "block_7_depthwise (DepthwiseCon (None, 6, 6, 384)    3456        block_7_expand_relu[0][0]        \n",
      "__________________________________________________________________________________________________\n",
      "block_7_depthwise_BN (BatchNorm (None, 6, 6, 384)    1536        block_7_depthwise[0][0]          \n",
      "__________________________________________________________________________________________________\n",
      "block_7_depthwise_relu (ReLU)   (None, 6, 6, 384)    0           block_7_depthwise_BN[0][0]       \n",
      "__________________________________________________________________________________________________\n",
      "block_7_project (Conv2D)        (None, 6, 6, 64)     24576       block_7_depthwise_relu[0][0]     \n",
      "__________________________________________________________________________________________________\n",
      "block_7_project_BN (BatchNormal (None, 6, 6, 64)     256         block_7_project[0][0]            \n",
      "__________________________________________________________________________________________________\n",
      "block_7_add (Add)               (None, 6, 6, 64)     0           block_6_project_BN[0][0]         \n",
      "                                                                 block_7_project_BN[0][0]         \n",
      "__________________________________________________________________________________________________\n",
      "block_8_expand (Conv2D)         (None, 6, 6, 384)    24576       block_7_add[0][0]                \n",
      "__________________________________________________________________________________________________\n",
      "block_8_expand_BN (BatchNormali (None, 6, 6, 384)    1536        block_8_expand[0][0]             \n",
      "__________________________________________________________________________________________________\n",
      "block_8_expand_relu (ReLU)      (None, 6, 6, 384)    0           block_8_expand_BN[0][0]          \n",
      "__________________________________________________________________________________________________\n",
      "block_8_depthwise (DepthwiseCon (None, 6, 6, 384)    3456        block_8_expand_relu[0][0]        \n",
      "__________________________________________________________________________________________________\n",
      "block_8_depthwise_BN (BatchNorm (None, 6, 6, 384)    1536        block_8_depthwise[0][0]          \n",
      "__________________________________________________________________________________________________\n",
      "block_8_depthwise_relu (ReLU)   (None, 6, 6, 384)    0           block_8_depthwise_BN[0][0]       \n",
      "__________________________________________________________________________________________________\n",
      "block_8_project (Conv2D)        (None, 6, 6, 64)     24576       block_8_depthwise_relu[0][0]     \n",
      "__________________________________________________________________________________________________\n",
      "block_8_project_BN (BatchNormal (None, 6, 6, 64)     256         block_8_project[0][0]            \n",
      "__________________________________________________________________________________________________\n",
      "block_8_add (Add)               (None, 6, 6, 64)     0           block_7_add[0][0]                \n",
      "                                                                 block_8_project_BN[0][0]         \n",
      "__________________________________________________________________________________________________\n",
      "block_9_expand (Conv2D)         (None, 6, 6, 384)    24576       block_8_add[0][0]                \n",
      "__________________________________________________________________________________________________\n",
      "block_9_expand_BN (BatchNormali (None, 6, 6, 384)    1536        block_9_expand[0][0]             \n",
      "__________________________________________________________________________________________________\n",
      "block_9_expand_relu (ReLU)      (None, 6, 6, 384)    0           block_9_expand_BN[0][0]          \n",
      "__________________________________________________________________________________________________\n",
      "block_9_depthwise (DepthwiseCon (None, 6, 6, 384)    3456        block_9_expand_relu[0][0]        \n",
      "__________________________________________________________________________________________________\n",
      "block_9_depthwise_BN (BatchNorm (None, 6, 6, 384)    1536        block_9_depthwise[0][0]          \n",
      "__________________________________________________________________________________________________\n",
      "block_9_depthwise_relu (ReLU)   (None, 6, 6, 384)    0           block_9_depthwise_BN[0][0]       \n",
      "__________________________________________________________________________________________________\n",
      "block_9_project (Conv2D)        (None, 6, 6, 64)     24576       block_9_depthwise_relu[0][0]     \n",
      "__________________________________________________________________________________________________\n",
      "block_9_project_BN (BatchNormal (None, 6, 6, 64)     256         block_9_project[0][0]            \n",
      "__________________________________________________________________________________________________\n",
      "block_9_add (Add)               (None, 6, 6, 64)     0           block_8_add[0][0]                \n",
      "                                                                 block_9_project_BN[0][0]         \n",
      "__________________________________________________________________________________________________\n",
      "block_10_expand (Conv2D)        (None, 6, 6, 384)    24576       block_9_add[0][0]                \n",
      "__________________________________________________________________________________________________\n",
      "block_10_expand_BN (BatchNormal (None, 6, 6, 384)    1536        block_10_expand[0][0]            \n",
      "__________________________________________________________________________________________________\n",
      "block_10_expand_relu (ReLU)     (None, 6, 6, 384)    0           block_10_expand_BN[0][0]         \n",
      "__________________________________________________________________________________________________\n",
      "block_10_depthwise (DepthwiseCo (None, 6, 6, 384)    3456        block_10_expand_relu[0][0]       \n",
      "__________________________________________________________________________________________________\n",
      "block_10_depthwise_BN (BatchNor (None, 6, 6, 384)    1536        block_10_depthwise[0][0]         \n",
      "__________________________________________________________________________________________________\n",
      "block_10_depthwise_relu (ReLU)  (None, 6, 6, 384)    0           block_10_depthwise_BN[0][0]      \n",
      "__________________________________________________________________________________________________\n",
      "block_10_project (Conv2D)       (None, 6, 6, 96)     36864       block_10_depthwise_relu[0][0]    \n",
      "__________________________________________________________________________________________________\n",
      "block_10_project_BN (BatchNorma (None, 6, 6, 96)     384         block_10_project[0][0]           \n",
      "__________________________________________________________________________________________________\n",
      "block_11_expand (Conv2D)        (None, 6, 6, 576)    55296       block_10_project_BN[0][0]        \n",
      "__________________________________________________________________________________________________\n",
      "block_11_expand_BN (BatchNormal (None, 6, 6, 576)    2304        block_11_expand[0][0]            \n",
      "__________________________________________________________________________________________________\n",
      "block_11_expand_relu (ReLU)     (None, 6, 6, 576)    0           block_11_expand_BN[0][0]         \n",
      "__________________________________________________________________________________________________\n",
      "block_11_depthwise (DepthwiseCo (None, 6, 6, 576)    5184        block_11_expand_relu[0][0]       \n",
      "__________________________________________________________________________________________________\n",
      "block_11_depthwise_BN (BatchNor (None, 6, 6, 576)    2304        block_11_depthwise[0][0]         \n",
      "__________________________________________________________________________________________________\n",
      "block_11_depthwise_relu (ReLU)  (None, 6, 6, 576)    0           block_11_depthwise_BN[0][0]      \n",
      "__________________________________________________________________________________________________\n",
      "block_11_project (Conv2D)       (None, 6, 6, 96)     55296       block_11_depthwise_relu[0][0]    \n",
      "__________________________________________________________________________________________________\n",
      "block_11_project_BN (BatchNorma (None, 6, 6, 96)     384         block_11_project[0][0]           \n",
      "__________________________________________________________________________________________________\n",
      "block_11_add (Add)              (None, 6, 6, 96)     0           block_10_project_BN[0][0]        \n",
      "                                                                 block_11_project_BN[0][0]        \n",
      "__________________________________________________________________________________________________\n",
      "block_12_expand (Conv2D)        (None, 6, 6, 576)    55296       block_11_add[0][0]               \n",
      "__________________________________________________________________________________________________\n",
      "block_12_expand_BN (BatchNormal (None, 6, 6, 576)    2304        block_12_expand[0][0]            \n",
      "__________________________________________________________________________________________________\n",
      "block_12_expand_relu (ReLU)     (None, 6, 6, 576)    0           block_12_expand_BN[0][0]         \n",
      "__________________________________________________________________________________________________\n",
      "block_12_depthwise (DepthwiseCo (None, 6, 6, 576)    5184        block_12_expand_relu[0][0]       \n",
      "__________________________________________________________________________________________________\n",
      "block_12_depthwise_BN (BatchNor (None, 6, 6, 576)    2304        block_12_depthwise[0][0]         \n",
      "__________________________________________________________________________________________________\n",
      "block_12_depthwise_relu (ReLU)  (None, 6, 6, 576)    0           block_12_depthwise_BN[0][0]      \n",
      "__________________________________________________________________________________________________\n",
      "block_12_project (Conv2D)       (None, 6, 6, 96)     55296       block_12_depthwise_relu[0][0]    \n",
      "__________________________________________________________________________________________________\n",
      "block_12_project_BN (BatchNorma (None, 6, 6, 96)     384         block_12_project[0][0]           \n",
      "__________________________________________________________________________________________________\n",
      "block_12_add (Add)              (None, 6, 6, 96)     0           block_11_add[0][0]               \n",
      "                                                                 block_12_project_BN[0][0]        \n",
      "__________________________________________________________________________________________________\n",
      "block_13_expand (Conv2D)        (None, 6, 6, 576)    55296       block_12_add[0][0]               \n",
      "__________________________________________________________________________________________________\n",
      "block_13_expand_BN (BatchNormal (None, 6, 6, 576)    2304        block_13_expand[0][0]            \n",
      "__________________________________________________________________________________________________\n",
      "block_13_expand_relu (ReLU)     (None, 6, 6, 576)    0           block_13_expand_BN[0][0]         \n",
      "__________________________________________________________________________________________________\n",
      "block_13_pad (ZeroPadding2D)    (None, 7, 7, 576)    0           block_13_expand_relu[0][0]       \n",
      "__________________________________________________________________________________________________\n",
      "block_13_depthwise (DepthwiseCo (None, 3, 3, 576)    5184        block_13_pad[0][0]               \n",
      "__________________________________________________________________________________________________\n",
      "block_13_depthwise_BN (BatchNor (None, 3, 3, 576)    2304        block_13_depthwise[0][0]         \n",
      "__________________________________________________________________________________________________\n",
      "block_13_depthwise_relu (ReLU)  (None, 3, 3, 576)    0           block_13_depthwise_BN[0][0]      \n",
      "__________________________________________________________________________________________________\n",
      "block_13_project (Conv2D)       (None, 3, 3, 160)    92160       block_13_depthwise_relu[0][0]    \n",
      "__________________________________________________________________________________________________\n",
      "block_13_project_BN (BatchNorma (None, 3, 3, 160)    640         block_13_project[0][0]           \n",
      "__________________________________________________________________________________________________\n",
      "block_14_expand (Conv2D)        (None, 3, 3, 960)    153600      block_13_project_BN[0][0]        \n",
      "__________________________________________________________________________________________________\n",
      "block_14_expand_BN (BatchNormal (None, 3, 3, 960)    3840        block_14_expand[0][0]            \n",
      "__________________________________________________________________________________________________\n",
      "block_14_expand_relu (ReLU)     (None, 3, 3, 960)    0           block_14_expand_BN[0][0]         \n",
      "__________________________________________________________________________________________________\n",
      "block_14_depthwise (DepthwiseCo (None, 3, 3, 960)    8640        block_14_expand_relu[0][0]       \n",
      "__________________________________________________________________________________________________\n",
      "block_14_depthwise_BN (BatchNor (None, 3, 3, 960)    3840        block_14_depthwise[0][0]         \n",
      "__________________________________________________________________________________________________\n",
      "block_14_depthwise_relu (ReLU)  (None, 3, 3, 960)    0           block_14_depthwise_BN[0][0]      \n",
      "__________________________________________________________________________________________________\n",
      "block_14_project (Conv2D)       (None, 3, 3, 160)    153600      block_14_depthwise_relu[0][0]    \n",
      "__________________________________________________________________________________________________\n",
      "block_14_project_BN (BatchNorma (None, 3, 3, 160)    640         block_14_project[0][0]           \n",
      "__________________________________________________________________________________________________\n",
      "block_14_add (Add)              (None, 3, 3, 160)    0           block_13_project_BN[0][0]        \n",
      "                                                                 block_14_project_BN[0][0]        \n",
      "__________________________________________________________________________________________________\n",
      "block_15_expand (Conv2D)        (None, 3, 3, 960)    153600      block_14_add[0][0]               \n",
      "__________________________________________________________________________________________________\n",
      "block_15_expand_BN (BatchNormal (None, 3, 3, 960)    3840        block_15_expand[0][0]            \n",
      "__________________________________________________________________________________________________\n",
      "block_15_expand_relu (ReLU)     (None, 3, 3, 960)    0           block_15_expand_BN[0][0]         \n",
      "__________________________________________________________________________________________________\n",
      "block_15_depthwise (DepthwiseCo (None, 3, 3, 960)    8640        block_15_expand_relu[0][0]       \n",
      "__________________________________________________________________________________________________\n",
      "block_15_depthwise_BN (BatchNor (None, 3, 3, 960)    3840        block_15_depthwise[0][0]         \n",
      "__________________________________________________________________________________________________\n",
      "block_15_depthwise_relu (ReLU)  (None, 3, 3, 960)    0           block_15_depthwise_BN[0][0]      \n",
      "__________________________________________________________________________________________________\n",
      "block_15_project (Conv2D)       (None, 3, 3, 160)    153600      block_15_depthwise_relu[0][0]    \n",
      "__________________________________________________________________________________________________\n",
      "block_15_project_BN (BatchNorma (None, 3, 3, 160)    640         block_15_project[0][0]           \n",
      "__________________________________________________________________________________________________\n",
      "block_15_add (Add)              (None, 3, 3, 160)    0           block_14_add[0][0]               \n",
      "                                                                 block_15_project_BN[0][0]        \n",
      "__________________________________________________________________________________________________\n",
      "block_16_expand (Conv2D)        (None, 3, 3, 960)    153600      block_15_add[0][0]               \n",
      "__________________________________________________________________________________________________\n",
      "block_16_expand_BN (BatchNormal (None, 3, 3, 960)    3840        block_16_expand[0][0]            \n",
      "__________________________________________________________________________________________________\n",
      "block_16_expand_relu (ReLU)     (None, 3, 3, 960)    0           block_16_expand_BN[0][0]         \n",
      "__________________________________________________________________________________________________\n",
      "block_16_depthwise (DepthwiseCo (None, 3, 3, 960)    8640        block_16_expand_relu[0][0]       \n",
      "__________________________________________________________________________________________________\n",
      "block_16_depthwise_BN (BatchNor (None, 3, 3, 960)    3840        block_16_depthwise[0][0]         \n",
      "__________________________________________________________________________________________________\n",
      "block_16_depthwise_relu (ReLU)  (None, 3, 3, 960)    0           block_16_depthwise_BN[0][0]      \n",
      "__________________________________________________________________________________________________\n",
      "block_16_project (Conv2D)       (None, 3, 3, 320)    307200      block_16_depthwise_relu[0][0]    \n",
      "__________________________________________________________________________________________________\n",
      "block_16_project_BN (BatchNorma (None, 3, 3, 320)    1280        block_16_project[0][0]           \n",
      "__________________________________________________________________________________________________\n",
      "Conv_1 (Conv2D)                 (None, 3, 3, 1280)   409600      block_16_project_BN[0][0]        \n",
      "__________________________________________________________________________________________________\n",
      "Conv_1_bn (BatchNormalization)  (None, 3, 3, 1280)   5120        Conv_1[0][0]                     \n",
      "__________________________________________________________________________________________________\n",
      "out_relu (ReLU)                 (None, 3, 3, 1280)   0           Conv_1_bn[0][0]                  \n",
      "==================================================================================================\n",
      "Total params: 2,257,984\n",
      "Trainable params: 2,223,872\n",
      "Non-trainable params: 34,112\n",
      "__________________________________________________________________________________________________\n"
     ]
    }
   ],
   "source": [
    "base_model.summary()"
   ]
  },
  {
   "cell_type": "raw",
   "metadata": {},
   "source": [
    "# The first way we'll do transfer learning REALLY saves time, but\n",
    "# only works if you don't want to fine tune any of the layers \n",
    "# from the original network. What we can do instead is memorize\n",
    "# the output of the base network, since it won't be changing,\n",
    "# and then repeatedly train on those outputs and the training labels\n",
    "\n",
    "# Like before, we grab a pretrained model with include_top=False\n",
    "#base_model = MobileNetV2(weights='imagenet', include_top=False, input_shape=(IMAGE_SIZE, IMAGE_SIZE, 3))\n",
    "\n",
    "# Unlike before, we're going to just run the images through this base layer once\n",
    "# This takes awhile, we're essentially doing a round of evaluation on both datasets.\n",
    "# And we'll save them incase we want to experiment with different models to transfer\n",
    "# on top of these.\n",
    "\n"
   ]
  },
  {
   "cell_type": "code",
   "execution_count": 1,
   "metadata": {},
   "outputs": [],
   "source": [
    "# LONG PROCESS HERE\n",
    "# KERACT allows to visualize each layer\n",
    "keract_inputs = X_training[:1]\n",
    "keract_targets = y_training[:1]\n",
    "activations = get_activations(base_model, keract_inputs)\n",
    "display_activations(activations, cmap=\"gray\", save=False)"
   ]
  },
  {
   "cell_type": "code",
   "execution_count": 52,
   "metadata": {},
   "outputs": [],
   "source": [
    "training_features = base_model.predict(X_training)\n",
    "#np.savez('MobileNetV2_features_train', features=training_features)"
   ]
  },
  {
   "cell_type": "code",
   "execution_count": 53,
   "metadata": {},
   "outputs": [
    {
     "data": {
      "text/plain": [
       "(9000, 3, 3, 1280)"
      ]
     },
     "execution_count": 53,
     "metadata": {},
     "output_type": "execute_result"
    }
   ],
   "source": [
    "training_features.shape"
   ]
  },
  {
   "cell_type": "code",
   "execution_count": 54,
   "metadata": {},
   "outputs": [],
   "source": [
    "testing_features = base_model.predict(X_testing)\n",
    "#np.savez('MobileNetV2_features_test', features=testing_features)"
   ]
  },
  {
   "cell_type": "code",
   "execution_count": 55,
   "metadata": {},
   "outputs": [
    {
     "data": {
      "text/plain": [
       "(450, 3, 3, 1280)"
      ]
     },
     "execution_count": 55,
     "metadata": {},
     "output_type": "execute_result"
    }
   ],
   "source": [
    "testing_features.shape"
   ]
  },
  {
   "cell_type": "code",
   "execution_count": 56,
   "metadata": {},
   "outputs": [],
   "source": [
    "model = Sequential()\n",
    "model.add(GlobalAveragePooling2D(input_shape=training_features.shape[1:]))\n",
    "\n",
    "# Note from the summary, this will result in 1280 nodes, let's use the classic \"squeeze\" and add dropout\n",
    "model.add(Dense(units=640, activation='relu'))\n",
    "model.add(Dropout(rate=0.4))\n",
    "model.add(Dense(units=320, activation='relu'))\n",
    "model.add(Dropout(rate=0.2))\n",
    "model.add(Dense(units=NUM_CLASSES, activation='softmax'))\n",
    "\n",
    "model.compile(loss='categorical_crossentropy', optimizer='adam', metrics=['accuracy'])"
   ]
  },
  {
   "cell_type": "code",
   "execution_count": 57,
   "metadata": {},
   "outputs": [
    {
     "name": "stdout",
     "output_type": "stream",
     "text": [
      "Train on 7200 samples, validate on 1800 samples\n",
      "Epoch 1/20\n",
      "7200/7200 [==============================] - 6s 833us/sample - loss: 1.1216 - accuracy: 0.6090 - val_loss: 7.3124 - val_accuracy: 0.0000e+00\n",
      "Epoch 2/20\n",
      "7200/7200 [==============================] - 4s 589us/sample - loss: 0.5114 - accuracy: 0.8190 - val_loss: 7.9877 - val_accuracy: 0.1611\n",
      "Epoch 3/20\n",
      "7200/7200 [==============================] - 4s 591us/sample - loss: 0.3301 - accuracy: 0.8864 - val_loss: 7.9415 - val_accuracy: 0.1972\n",
      "Epoch 4/20\n",
      "7200/7200 [==============================] - 4s 588us/sample - loss: 0.2595 - accuracy: 0.9094 - val_loss: 8.8323 - val_accuracy: 0.3033\n",
      "Epoch 5/20\n",
      "7200/7200 [==============================] - 4s 589us/sample - loss: 0.2169 - accuracy: 0.9267 - val_loss: 10.8435 - val_accuracy: 0.2978\n",
      "Epoch 6/20\n",
      "7200/7200 [==============================] - 4s 591us/sample - loss: 0.1673 - accuracy: 0.9451 - val_loss: 9.8026 - val_accuracy: 0.3083\n",
      "Epoch 7/20\n",
      "7200/7200 [==============================] - 4s 590us/sample - loss: 0.1428 - accuracy: 0.9489 - val_loss: 10.3668 - val_accuracy: 0.3067\n",
      "Epoch 8/20\n",
      "7200/7200 [==============================] - 4s 589us/sample - loss: 0.1424 - accuracy: 0.9531 - val_loss: 9.4495 - val_accuracy: 0.2933\n",
      "Epoch 9/20\n",
      "7200/7200 [==============================] - 4s 595us/sample - loss: 0.1224 - accuracy: 0.9594 - val_loss: 10.3032 - val_accuracy: 0.3483\n",
      "Epoch 10/20\n",
      "7200/7200 [==============================] - 4s 606us/sample - loss: 0.1126 - accuracy: 0.9610 - val_loss: 11.6131 - val_accuracy: 0.3372\n",
      "Epoch 11/20\n",
      "7200/7200 [==============================] - 5s 689us/sample - loss: 0.1174 - accuracy: 0.9613 - val_loss: 11.3656 - val_accuracy: 0.3161\n",
      "Epoch 12/20\n",
      "7200/7200 [==============================] - 4s 597us/sample - loss: 0.1004 - accuracy: 0.9660 - val_loss: 12.2065 - val_accuracy: 0.3633\n",
      "Epoch 13/20\n",
      "7200/7200 [==============================] - 4s 599us/sample - loss: 0.0921 - accuracy: 0.9688 - val_loss: 10.6643 - val_accuracy: 0.3194\n",
      "Epoch 14/20\n",
      "7200/7200 [==============================] - 4s 603us/sample - loss: 0.0775 - accuracy: 0.9718 - val_loss: 12.3592 - val_accuracy: 0.3339\n",
      "Epoch 15/20\n",
      "7200/7200 [==============================] - 4s 592us/sample - loss: 0.0942 - accuracy: 0.9683 - val_loss: 12.6035 - val_accuracy: 0.3367\n",
      "Epoch 16/20\n",
      "7200/7200 [==============================] - 4s 597us/sample - loss: 0.0992 - accuracy: 0.9681 - val_loss: 12.1351 - val_accuracy: 0.3939\n",
      "Epoch 17/20\n",
      "7200/7200 [==============================] - 4s 595us/sample - loss: 0.0718 - accuracy: 0.9772 - val_loss: 13.2378 - val_accuracy: 0.3233\n",
      "Epoch 18/20\n",
      "7200/7200 [==============================] - 4s 598us/sample - loss: 0.0670 - accuracy: 0.9786 - val_loss: 13.8570 - val_accuracy: 0.3511\n",
      "Epoch 19/20\n",
      "7200/7200 [==============================] - 4s 596us/sample - loss: 0.0663 - accuracy: 0.9785 - val_loss: 13.2612 - val_accuracy: 0.3861\n",
      "Epoch 20/20\n",
      "7200/7200 [==============================] - 4s 599us/sample - loss: 0.0763 - accuracy: 0.9740 - val_loss: 13.5522 - val_accuracy: 0.3200\n"
     ]
    }
   ],
   "source": [
    "history = model.fit(training_features, y_training, batch_size=32, epochs=20, validation_split=0.2, verbose=True,\n",
    "                   shuffle=True)"
   ]
  },
  {
   "cell_type": "code",
   "execution_count": 58,
   "metadata": {},
   "outputs": [
    {
     "data": {
      "image/png": "[encoded data removed]",
      "text/plain": [
       "<Figure size 432x288 with 2 Axes>"
      ]
     },
     "metadata": {
      "needs_background": "light"
     },
     "output_type": "display_data"
    },
    {
     "name": "stdout",
     "output_type": "stream",
     "text": [
      "Test loss: 7.22\n",
      "Test accuracy: 0.369\n"
     ]
    }
   ],
   "source": [
    "plot_training_history(history, model)\n",
    "loss, accuracy = model.evaluate(testing_features, y_testing, verbose=False)\n",
    "print(f'Test loss: {loss:.3}')\n",
    "print(f'Test accuracy: {accuracy:.3}')"
   ]
  },
  {
   "cell_type": "code",
   "execution_count": 59,
   "metadata": {
    "scrolled": true
   },
   "outputs": [
    {
     "data": {
      "image/png": "[encoded data removed]",
      "text/plain": [
       "<Figure size 1080x1080 with 2 Axes>"
      ]
     },
     "metadata": {
      "needs_background": "light"
     },
     "output_type": "display_data"
    }
   ],
   "source": [
    "# When did our evaluator do poorly?\n",
    "predictions = model.predict(testing_features)\n",
    "cm = confusion_matrix(np.argmax(predictions, axis=1), np.argmax(y_testing, axis=1))\n",
    "plt.figure(figsize = (15, 15))\n",
    "\n",
    "name_labels = labels_list\n",
    "\n",
    "sn.heatmap(cm, annot=True, xticklabels=name_labels, yticklabels=name_labels)\n",
    "plt.show()"
   ]
  },
  {
   "cell_type": "markdown",
   "metadata": {},
   "source": [
    "# PART Ib - Transfer Learning (RESNET50)"
   ]
  },
  {
   "cell_type": "markdown",
   "metadata": {},
   "source": [
    "### FINAL FORMATING IMAGES BEFORE INPUT TO LEGACY NET"
   ]
  },
  {
   "cell_type": "code",
   "execution_count": 123,
   "metadata": {},
   "outputs": [],
   "source": [
    "def adjust_input_image_resnet50(rgb_data):\n",
    "    adjusted = ppi_resnet50(rgb_data)\n",
    "    \n",
    "    return adjusted"
   ]
  },
  {
   "cell_type": "code",
   "execution_count": 124,
   "metadata": {},
   "outputs": [],
   "source": [
    "# Need to preprocess every time the INPUT images (not the OUTPUT labels) to properly fit the legacy CNN NetWork\n",
    "X_training = np.array([adjust_input_image_resnet50(x) for x in image_array_big_dataset_training])"
   ]
  },
  {
   "cell_type": "code",
   "execution_count": 125,
   "metadata": {},
   "outputs": [],
   "source": [
    "X_testing = np.array([adjust_input_image_resnet50(x) for x in image_array_big_dataset_testing])"
   ]
  },
  {
   "cell_type": "code",
   "execution_count": 126,
   "metadata": {},
   "outputs": [],
   "source": [
    "base_model = ResNet50(weights='imagenet', include_top=False, input_shape=(96,96, 3))"
   ]
  },
  {
   "cell_type": "code",
   "execution_count": 127,
   "metadata": {},
   "outputs": [
    {
     "name": "stdout",
     "output_type": "stream",
     "text": [
      "0 input_11\n",
      "1 conv1_pad\n",
      "2 conv1_conv\n",
      "3 conv1_bn\n",
      "4 conv1_relu\n",
      "5 pool1_pad\n",
      "6 pool1_pool\n",
      "7 conv2_block1_1_conv\n",
      "8 conv2_block1_1_bn\n",
      "9 conv2_block1_1_relu\n",
      "10 conv2_block1_2_conv\n",
      "11 conv2_block1_2_bn\n",
      "12 conv2_block1_2_relu\n",
      "13 conv2_block1_0_conv\n",
      "14 conv2_block1_3_conv\n",
      "15 conv2_block1_0_bn\n",
      "16 conv2_block1_3_bn\n",
      "17 conv2_block1_add\n",
      "18 conv2_block1_out\n",
      "19 conv2_block2_1_conv\n",
      "20 conv2_block2_1_bn\n",
      "21 conv2_block2_1_relu\n",
      "22 conv2_block2_2_conv\n",
      "23 conv2_block2_2_bn\n",
      "24 conv2_block2_2_relu\n",
      "25 conv2_block2_3_conv\n",
      "26 conv2_block2_3_bn\n",
      "27 conv2_block2_add\n",
      "28 conv2_block2_out\n",
      "29 conv2_block3_1_conv\n",
      "30 conv2_block3_1_bn\n",
      "31 conv2_block3_1_relu\n",
      "32 conv2_block3_2_conv\n",
      "33 conv2_block3_2_bn\n",
      "34 conv2_block3_2_relu\n",
      "35 conv2_block3_3_conv\n",
      "36 conv2_block3_3_bn\n",
      "37 conv2_block3_add\n",
      "38 conv2_block3_out\n",
      "39 conv3_block1_1_conv\n",
      "40 conv3_block1_1_bn\n",
      "41 conv3_block1_1_relu\n",
      "42 conv3_block1_2_conv\n",
      "43 conv3_block1_2_bn\n",
      "44 conv3_block1_2_relu\n",
      "45 conv3_block1_0_conv\n",
      "46 conv3_block1_3_conv\n",
      "47 conv3_block1_0_bn\n",
      "48 conv3_block1_3_bn\n",
      "49 conv3_block1_add\n",
      "50 conv3_block1_out\n",
      "51 conv3_block2_1_conv\n",
      "52 conv3_block2_1_bn\n",
      "53 conv3_block2_1_relu\n",
      "54 conv3_block2_2_conv\n",
      "55 conv3_block2_2_bn\n",
      "56 conv3_block2_2_relu\n",
      "57 conv3_block2_3_conv\n",
      "58 conv3_block2_3_bn\n",
      "59 conv3_block2_add\n",
      "60 conv3_block2_out\n",
      "61 conv3_block3_1_conv\n",
      "62 conv3_block3_1_bn\n",
      "63 conv3_block3_1_relu\n",
      "64 conv3_block3_2_conv\n",
      "65 conv3_block3_2_bn\n",
      "66 conv3_block3_2_relu\n",
      "67 conv3_block3_3_conv\n",
      "68 conv3_block3_3_bn\n",
      "69 conv3_block3_add\n",
      "70 conv3_block3_out\n",
      "71 conv3_block4_1_conv\n",
      "72 conv3_block4_1_bn\n",
      "73 conv3_block4_1_relu\n",
      "74 conv3_block4_2_conv\n",
      "75 conv3_block4_2_bn\n",
      "76 conv3_block4_2_relu\n",
      "77 conv3_block4_3_conv\n",
      "78 conv3_block4_3_bn\n",
      "79 conv3_block4_add\n",
      "80 conv3_block4_out\n",
      "81 conv4_block1_1_conv\n",
      "82 conv4_block1_1_bn\n",
      "83 conv4_block1_1_relu\n",
      "84 conv4_block1_2_conv\n",
      "85 conv4_block1_2_bn\n",
      "86 conv4_block1_2_relu\n",
      "87 conv4_block1_0_conv\n",
      "88 conv4_block1_3_conv\n",
      "89 conv4_block1_0_bn\n",
      "90 conv4_block1_3_bn\n",
      "91 conv4_block1_add\n",
      "92 conv4_block1_out\n",
      "93 conv4_block2_1_conv\n",
      "94 conv4_block2_1_bn\n",
      "95 conv4_block2_1_relu\n",
      "96 conv4_block2_2_conv\n",
      "97 conv4_block2_2_bn\n",
      "98 conv4_block2_2_relu\n",
      "99 conv4_block2_3_conv\n",
      "100 conv4_block2_3_bn\n",
      "101 conv4_block2_add\n",
      "102 conv4_block2_out\n",
      "103 conv4_block3_1_conv\n",
      "104 conv4_block3_1_bn\n",
      "105 conv4_block3_1_relu\n",
      "106 conv4_block3_2_conv\n",
      "107 conv4_block3_2_bn\n",
      "108 conv4_block3_2_relu\n",
      "109 conv4_block3_3_conv\n",
      "110 conv4_block3_3_bn\n",
      "111 conv4_block3_add\n",
      "112 conv4_block3_out\n",
      "113 conv4_block4_1_conv\n",
      "114 conv4_block4_1_bn\n",
      "115 conv4_block4_1_relu\n",
      "116 conv4_block4_2_conv\n",
      "117 conv4_block4_2_bn\n",
      "118 conv4_block4_2_relu\n",
      "119 conv4_block4_3_conv\n",
      "120 conv4_block4_3_bn\n",
      "121 conv4_block4_add\n",
      "122 conv4_block4_out\n",
      "123 conv4_block5_1_conv\n",
      "124 conv4_block5_1_bn\n",
      "125 conv4_block5_1_relu\n",
      "126 conv4_block5_2_conv\n",
      "127 conv4_block5_2_bn\n",
      "128 conv4_block5_2_relu\n",
      "129 conv4_block5_3_conv\n",
      "130 conv4_block5_3_bn\n",
      "131 conv4_block5_add\n",
      "132 conv4_block5_out\n",
      "133 conv4_block6_1_conv\n",
      "134 conv4_block6_1_bn\n",
      "135 conv4_block6_1_relu\n",
      "136 conv4_block6_2_conv\n",
      "137 conv4_block6_2_bn\n",
      "138 conv4_block6_2_relu\n",
      "139 conv4_block6_3_conv\n",
      "140 conv4_block6_3_bn\n",
      "141 conv4_block6_add\n",
      "142 conv4_block6_out\n",
      "143 conv5_block1_1_conv\n",
      "144 conv5_block1_1_bn\n",
      "145 conv5_block1_1_relu\n",
      "146 conv5_block1_2_conv\n",
      "147 conv5_block1_2_bn\n",
      "148 conv5_block1_2_relu\n",
      "149 conv5_block1_0_conv\n",
      "150 conv5_block1_3_conv\n",
      "151 conv5_block1_0_bn\n",
      "152 conv5_block1_3_bn\n",
      "153 conv5_block1_add\n",
      "154 conv5_block1_out\n",
      "155 conv5_block2_1_conv\n",
      "156 conv5_block2_1_bn\n",
      "157 conv5_block2_1_relu\n",
      "158 conv5_block2_2_conv\n",
      "159 conv5_block2_2_bn\n",
      "160 conv5_block2_2_relu\n",
      "161 conv5_block2_3_conv\n",
      "162 conv5_block2_3_bn\n",
      "163 conv5_block2_add\n",
      "164 conv5_block2_out\n",
      "165 conv5_block3_1_conv\n",
      "166 conv5_block3_1_bn\n",
      "167 conv5_block3_1_relu\n",
      "168 conv5_block3_2_conv\n",
      "169 conv5_block3_2_bn\n",
      "170 conv5_block3_2_relu\n",
      "171 conv5_block3_3_conv\n",
      "172 conv5_block3_3_bn\n",
      "173 conv5_block3_add\n",
      "174 conv5_block3_out\n"
     ]
    }
   ],
   "source": [
    "for i, layer in enumerate(base_model.layers):\n",
    "    print(i, layer.name)"
   ]
  },
  {
   "cell_type": "code",
   "execution_count": 128,
   "metadata": {},
   "outputs": [
    {
     "name": "stdout",
     "output_type": "stream",
     "text": [
      "Model: \"resnet50\"\n",
      "__________________________________________________________________________________________________\n",
      "Layer (type)                    Output Shape         Param #     Connected to                     \n",
      "==================================================================================================\n",
      "input_11 (InputLayer)           [(None, 96, 96, 3)]  0                                            \n",
      "__________________________________________________________________________________________________\n",
      "conv1_pad (ZeroPadding2D)       (None, 102, 102, 3)  0           input_11[0][0]                   \n",
      "__________________________________________________________________________________________________\n",
      "conv1_conv (Conv2D)             (None, 48, 48, 64)   9472        conv1_pad[0][0]                  \n",
      "__________________________________________________________________________________________________\n",
      "conv1_bn (BatchNormalization)   (None, 48, 48, 64)   256         conv1_conv[0][0]                 \n",
      "__________________________________________________________________________________________________\n",
      "conv1_relu (Activation)         (None, 48, 48, 64)   0           conv1_bn[0][0]                   \n",
      "__________________________________________________________________________________________________\n",
      "pool1_pad (ZeroPadding2D)       (None, 50, 50, 64)   0           conv1_relu[0][0]                 \n",
      "__________________________________________________________________________________________________\n",
      "pool1_pool (MaxPooling2D)       (None, 24, 24, 64)   0           pool1_pad[0][0]                  \n",
      "__________________________________________________________________________________________________\n",
      "conv2_block1_1_conv (Conv2D)    (None, 24, 24, 64)   4160        pool1_pool[0][0]                 \n",
      "__________________________________________________________________________________________________\n",
      "conv2_block1_1_bn (BatchNormali (None, 24, 24, 64)   256         conv2_block1_1_conv[0][0]        \n",
      "__________________________________________________________________________________________________\n",
      "conv2_block1_1_relu (Activation (None, 24, 24, 64)   0           conv2_block1_1_bn[0][0]          \n",
      "__________________________________________________________________________________________________\n",
      "conv2_block1_2_conv (Conv2D)    (None, 24, 24, 64)   36928       conv2_block1_1_relu[0][0]        \n",
      "__________________________________________________________________________________________________\n",
      "conv2_block1_2_bn (BatchNormali (None, 24, 24, 64)   256         conv2_block1_2_conv[0][0]        \n",
      "__________________________________________________________________________________________________\n",
      "conv2_block1_2_relu (Activation (None, 24, 24, 64)   0           conv2_block1_2_bn[0][0]          \n",
      "__________________________________________________________________________________________________\n",
      "conv2_block1_0_conv (Conv2D)    (None, 24, 24, 256)  16640       pool1_pool[0][0]                 \n",
      "__________________________________________________________________________________________________\n",
      "conv2_block1_3_conv (Conv2D)    (None, 24, 24, 256)  16640       conv2_block1_2_relu[0][0]        \n",
      "__________________________________________________________________________________________________\n",
      "conv2_block1_0_bn (BatchNormali (None, 24, 24, 256)  1024        conv2_block1_0_conv[0][0]        \n",
      "__________________________________________________________________________________________________\n",
      "conv2_block1_3_bn (BatchNormali (None, 24, 24, 256)  1024        conv2_block1_3_conv[0][0]        \n",
      "__________________________________________________________________________________________________\n",
      "conv2_block1_add (Add)          (None, 24, 24, 256)  0           conv2_block1_0_bn[0][0]          \n",
      "                                                                 conv2_block1_3_bn[0][0]          \n",
      "__________________________________________________________________________________________________\n",
      "conv2_block1_out (Activation)   (None, 24, 24, 256)  0           conv2_block1_add[0][0]           \n",
      "__________________________________________________________________________________________________\n",
      "conv2_block2_1_conv (Conv2D)    (None, 24, 24, 64)   16448       conv2_block1_out[0][0]           \n",
      "__________________________________________________________________________________________________\n",
      "conv2_block2_1_bn (BatchNormali (None, 24, 24, 64)   256         conv2_block2_1_conv[0][0]        \n",
      "__________________________________________________________________________________________________\n",
      "conv2_block2_1_relu (Activation (None, 24, 24, 64)   0           conv2_block2_1_bn[0][0]          \n",
      "__________________________________________________________________________________________________\n",
      "conv2_block2_2_conv (Conv2D)    (None, 24, 24, 64)   36928       conv2_block2_1_relu[0][0]        \n",
      "__________________________________________________________________________________________________\n",
      "conv2_block2_2_bn (BatchNormali (None, 24, 24, 64)   256         conv2_block2_2_conv[0][0]        \n",
      "__________________________________________________________________________________________________\n",
      "conv2_block2_2_relu (Activation (None, 24, 24, 64)   0           conv2_block2_2_bn[0][0]          \n",
      "__________________________________________________________________________________________________\n",
      "conv2_block2_3_conv (Conv2D)    (None, 24, 24, 256)  16640       conv2_block2_2_relu[0][0]        \n",
      "__________________________________________________________________________________________________\n",
      "conv2_block2_3_bn (BatchNormali (None, 24, 24, 256)  1024        conv2_block2_3_conv[0][0]        \n",
      "__________________________________________________________________________________________________\n",
      "conv2_block2_add (Add)          (None, 24, 24, 256)  0           conv2_block1_out[0][0]           \n",
      "                                                                 conv2_block2_3_bn[0][0]          \n",
      "__________________________________________________________________________________________________\n",
      "conv2_block2_out (Activation)   (None, 24, 24, 256)  0           conv2_block2_add[0][0]           \n",
      "__________________________________________________________________________________________________\n",
      "conv2_block3_1_conv (Conv2D)    (None, 24, 24, 64)   16448       conv2_block2_out[0][0]           \n",
      "__________________________________________________________________________________________________\n",
      "conv2_block3_1_bn (BatchNormali (None, 24, 24, 64)   256         conv2_block3_1_conv[0][0]        \n",
      "__________________________________________________________________________________________________\n",
      "conv2_block3_1_relu (Activation (None, 24, 24, 64)   0           conv2_block3_1_bn[0][0]          \n",
      "__________________________________________________________________________________________________\n",
      "conv2_block3_2_conv (Conv2D)    (None, 24, 24, 64)   36928       conv2_block3_1_relu[0][0]        \n",
      "__________________________________________________________________________________________________\n",
      "conv2_block3_2_bn (BatchNormali (None, 24, 24, 64)   256         conv2_block3_2_conv[0][0]        \n",
      "__________________________________________________________________________________________________\n",
      "conv2_block3_2_relu (Activation (None, 24, 24, 64)   0           conv2_block3_2_bn[0][0]          \n",
      "__________________________________________________________________________________________________\n",
      "conv2_block3_3_conv (Conv2D)    (None, 24, 24, 256)  16640       conv2_block3_2_relu[0][0]        \n",
      "__________________________________________________________________________________________________\n",
      "conv2_block3_3_bn (BatchNormali (None, 24, 24, 256)  1024        conv2_block3_3_conv[0][0]        \n",
      "__________________________________________________________________________________________________\n",
      "conv2_block3_add (Add)          (None, 24, 24, 256)  0           conv2_block2_out[0][0]           \n",
      "                                                                 conv2_block3_3_bn[0][0]          \n",
      "__________________________________________________________________________________________________\n",
      "conv2_block3_out (Activation)   (None, 24, 24, 256)  0           conv2_block3_add[0][0]           \n",
      "__________________________________________________________________________________________________\n",
      "conv3_block1_1_conv (Conv2D)    (None, 12, 12, 128)  32896       conv2_block3_out[0][0]           \n",
      "__________________________________________________________________________________________________\n",
      "conv3_block1_1_bn (BatchNormali (None, 12, 12, 128)  512         conv3_block1_1_conv[0][0]        \n",
      "__________________________________________________________________________________________________\n",
      "conv3_block1_1_relu (Activation (None, 12, 12, 128)  0           conv3_block1_1_bn[0][0]          \n",
      "__________________________________________________________________________________________________\n",
      "conv3_block1_2_conv (Conv2D)    (None, 12, 12, 128)  147584      conv3_block1_1_relu[0][0]        \n",
      "__________________________________________________________________________________________________\n",
      "conv3_block1_2_bn (BatchNormali (None, 12, 12, 128)  512         conv3_block1_2_conv[0][0]        \n",
      "__________________________________________________________________________________________________\n",
      "conv3_block1_2_relu (Activation (None, 12, 12, 128)  0           conv3_block1_2_bn[0][0]          \n",
      "__________________________________________________________________________________________________\n",
      "conv3_block1_0_conv (Conv2D)    (None, 12, 12, 512)  131584      conv2_block3_out[0][0]           \n",
      "__________________________________________________________________________________________________\n",
      "conv3_block1_3_conv (Conv2D)    (None, 12, 12, 512)  66048       conv3_block1_2_relu[0][0]        \n",
      "__________________________________________________________________________________________________\n",
      "conv3_block1_0_bn (BatchNormali (None, 12, 12, 512)  2048        conv3_block1_0_conv[0][0]        \n",
      "__________________________________________________________________________________________________\n",
      "conv3_block1_3_bn (BatchNormali (None, 12, 12, 512)  2048        conv3_block1_3_conv[0][0]        \n",
      "__________________________________________________________________________________________________\n",
      "conv3_block1_add (Add)          (None, 12, 12, 512)  0           conv3_block1_0_bn[0][0]          \n",
      "                                                                 conv3_block1_3_bn[0][0]          \n",
      "__________________________________________________________________________________________________\n",
      "conv3_block1_out (Activation)   (None, 12, 12, 512)  0           conv3_block1_add[0][0]           \n",
      "__________________________________________________________________________________________________\n",
      "conv3_block2_1_conv (Conv2D)    (None, 12, 12, 128)  65664       conv3_block1_out[0][0]           \n",
      "__________________________________________________________________________________________________\n",
      "conv3_block2_1_bn (BatchNormali (None, 12, 12, 128)  512         conv3_block2_1_conv[0][0]        \n",
      "__________________________________________________________________________________________________\n",
      "conv3_block2_1_relu (Activation (None, 12, 12, 128)  0           conv3_block2_1_bn[0][0]          \n",
      "__________________________________________________________________________________________________\n",
      "conv3_block2_2_conv (Conv2D)    (None, 12, 12, 128)  147584      conv3_block2_1_relu[0][0]        \n",
      "__________________________________________________________________________________________________\n",
      "conv3_block2_2_bn (BatchNormali (None, 12, 12, 128)  512         conv3_block2_2_conv[0][0]        \n",
      "__________________________________________________________________________________________________\n",
      "conv3_block2_2_relu (Activation (None, 12, 12, 128)  0           conv3_block2_2_bn[0][0]          \n",
      "__________________________________________________________________________________________________\n",
      "conv3_block2_3_conv (Conv2D)    (None, 12, 12, 512)  66048       conv3_block2_2_relu[0][0]        \n",
      "__________________________________________________________________________________________________\n",
      "conv3_block2_3_bn (BatchNormali (None, 12, 12, 512)  2048        conv3_block2_3_conv[0][0]        \n",
      "__________________________________________________________________________________________________\n",
      "conv3_block2_add (Add)          (None, 12, 12, 512)  0           conv3_block1_out[0][0]           \n",
      "                                                                 conv3_block2_3_bn[0][0]          \n",
      "__________________________________________________________________________________________________\n",
      "conv3_block2_out (Activation)   (None, 12, 12, 512)  0           conv3_block2_add[0][0]           \n",
      "__________________________________________________________________________________________________\n",
      "conv3_block3_1_conv (Conv2D)    (None, 12, 12, 128)  65664       conv3_block2_out[0][0]           \n",
      "__________________________________________________________________________________________________\n",
      "conv3_block3_1_bn (BatchNormali (None, 12, 12, 128)  512         conv3_block3_1_conv[0][0]        \n",
      "__________________________________________________________________________________________________\n",
      "conv3_block3_1_relu (Activation (None, 12, 12, 128)  0           conv3_block3_1_bn[0][0]          \n",
      "__________________________________________________________________________________________________\n",
      "conv3_block3_2_conv (Conv2D)    (None, 12, 12, 128)  147584      conv3_block3_1_relu[0][0]        \n",
      "__________________________________________________________________________________________________\n",
      "conv3_block3_2_bn (BatchNormali (None, 12, 12, 128)  512         conv3_block3_2_conv[0][0]        \n",
      "__________________________________________________________________________________________________\n",
      "conv3_block3_2_relu (Activation (None, 12, 12, 128)  0           conv3_block3_2_bn[0][0]          \n",
      "__________________________________________________________________________________________________\n",
      "conv3_block3_3_conv (Conv2D)    (None, 12, 12, 512)  66048       conv3_block3_2_relu[0][0]        \n",
      "__________________________________________________________________________________________________\n",
      "conv3_block3_3_bn (BatchNormali (None, 12, 12, 512)  2048        conv3_block3_3_conv[0][0]        \n",
      "__________________________________________________________________________________________________\n",
      "conv3_block3_add (Add)          (None, 12, 12, 512)  0           conv3_block2_out[0][0]           \n",
      "                                                                 conv3_block3_3_bn[0][0]          \n",
      "__________________________________________________________________________________________________\n",
      "conv3_block3_out (Activation)   (None, 12, 12, 512)  0           conv3_block3_add[0][0]           \n",
      "__________________________________________________________________________________________________\n",
      "conv3_block4_1_conv (Conv2D)    (None, 12, 12, 128)  65664       conv3_block3_out[0][0]           \n",
      "__________________________________________________________________________________________________\n",
      "conv3_block4_1_bn (BatchNormali (None, 12, 12, 128)  512         conv3_block4_1_conv[0][0]        \n",
      "__________________________________________________________________________________________________\n",
      "conv3_block4_1_relu (Activation (None, 12, 12, 128)  0           conv3_block4_1_bn[0][0]          \n",
      "__________________________________________________________________________________________________\n",
      "conv3_block4_2_conv (Conv2D)    (None, 12, 12, 128)  147584      conv3_block4_1_relu[0][0]        \n",
      "__________________________________________________________________________________________________\n",
      "conv3_block4_2_bn (BatchNormali (None, 12, 12, 128)  512         conv3_block4_2_conv[0][0]        \n",
      "__________________________________________________________________________________________________\n",
      "conv3_block4_2_relu (Activation (None, 12, 12, 128)  0           conv3_block4_2_bn[0][0]          \n",
      "__________________________________________________________________________________________________\n",
      "conv3_block4_3_conv (Conv2D)    (None, 12, 12, 512)  66048       conv3_block4_2_relu[0][0]        \n",
      "__________________________________________________________________________________________________\n",
      "conv3_block4_3_bn (BatchNormali (None, 12, 12, 512)  2048        conv3_block4_3_conv[0][0]        \n",
      "__________________________________________________________________________________________________\n",
      "conv3_block4_add (Add)          (None, 12, 12, 512)  0           conv3_block3_out[0][0]           \n",
      "                                                                 conv3_block4_3_bn[0][0]          \n",
      "__________________________________________________________________________________________________\n",
      "conv3_block4_out (Activation)   (None, 12, 12, 512)  0           conv3_block4_add[0][0]           \n",
      "__________________________________________________________________________________________________\n",
      "conv4_block1_1_conv (Conv2D)    (None, 6, 6, 256)    131328      conv3_block4_out[0][0]           \n",
      "__________________________________________________________________________________________________\n",
      "conv4_block1_1_bn (BatchNormali (None, 6, 6, 256)    1024        conv4_block1_1_conv[0][0]        \n",
      "__________________________________________________________________________________________________\n",
      "conv4_block1_1_relu (Activation (None, 6, 6, 256)    0           conv4_block1_1_bn[0][0]          \n",
      "__________________________________________________________________________________________________\n",
      "conv4_block1_2_conv (Conv2D)    (None, 6, 6, 256)    590080      conv4_block1_1_relu[0][0]        \n",
      "__________________________________________________________________________________________________\n",
      "conv4_block1_2_bn (BatchNormali (None, 6, 6, 256)    1024        conv4_block1_2_conv[0][0]        \n",
      "__________________________________________________________________________________________________\n",
      "conv4_block1_2_relu (Activation (None, 6, 6, 256)    0           conv4_block1_2_bn[0][0]          \n",
      "__________________________________________________________________________________________________\n",
      "conv4_block1_0_conv (Conv2D)    (None, 6, 6, 1024)   525312      conv3_block4_out[0][0]           \n",
      "__________________________________________________________________________________________________\n",
      "conv4_block1_3_conv (Conv2D)    (None, 6, 6, 1024)   263168      conv4_block1_2_relu[0][0]        \n",
      "__________________________________________________________________________________________________\n",
      "conv4_block1_0_bn (BatchNormali (None, 6, 6, 1024)   4096        conv4_block1_0_conv[0][0]        \n",
      "__________________________________________________________________________________________________\n",
      "conv4_block1_3_bn (BatchNormali (None, 6, 6, 1024)   4096        conv4_block1_3_conv[0][0]        \n",
      "__________________________________________________________________________________________________\n",
      "conv4_block1_add (Add)          (None, 6, 6, 1024)   0           conv4_block1_0_bn[0][0]          \n",
      "                                                                 conv4_block1_3_bn[0][0]          \n",
      "__________________________________________________________________________________________________\n",
      "conv4_block1_out (Activation)   (None, 6, 6, 1024)   0           conv4_block1_add[0][0]           \n",
      "__________________________________________________________________________________________________\n",
      "conv4_block2_1_conv (Conv2D)    (None, 6, 6, 256)    262400      conv4_block1_out[0][0]           \n",
      "__________________________________________________________________________________________________\n",
      "conv4_block2_1_bn (BatchNormali (None, 6, 6, 256)    1024        conv4_block2_1_conv[0][0]        \n",
      "__________________________________________________________________________________________________\n",
      "conv4_block2_1_relu (Activation (None, 6, 6, 256)    0           conv4_block2_1_bn[0][0]          \n",
      "__________________________________________________________________________________________________\n",
      "conv4_block2_2_conv (Conv2D)    (None, 6, 6, 256)    590080      conv4_block2_1_relu[0][0]        \n",
      "__________________________________________________________________________________________________\n",
      "conv4_block2_2_bn (BatchNormali (None, 6, 6, 256)    1024        conv4_block2_2_conv[0][0]        \n",
      "__________________________________________________________________________________________________\n",
      "conv4_block2_2_relu (Activation (None, 6, 6, 256)    0           conv4_block2_2_bn[0][0]          \n",
      "__________________________________________________________________________________________________\n",
      "conv4_block2_3_conv (Conv2D)    (None, 6, 6, 1024)   263168      conv4_block2_2_relu[0][0]        \n",
      "__________________________________________________________________________________________________\n",
      "conv4_block2_3_bn (BatchNormali (None, 6, 6, 1024)   4096        conv4_block2_3_conv[0][0]        \n",
      "__________________________________________________________________________________________________\n",
      "conv4_block2_add (Add)          (None, 6, 6, 1024)   0           conv4_block1_out[0][0]           \n",
      "                                                                 conv4_block2_3_bn[0][0]          \n",
      "__________________________________________________________________________________________________\n",
      "conv4_block2_out (Activation)   (None, 6, 6, 1024)   0           conv4_block2_add[0][0]           \n",
      "__________________________________________________________________________________________________\n",
      "conv4_block3_1_conv (Conv2D)    (None, 6, 6, 256)    262400      conv4_block2_out[0][0]           \n",
      "__________________________________________________________________________________________________\n",
      "conv4_block3_1_bn (BatchNormali (None, 6, 6, 256)    1024        conv4_block3_1_conv[0][0]        \n",
      "__________________________________________________________________________________________________\n",
      "conv4_block3_1_relu (Activation (None, 6, 6, 256)    0           conv4_block3_1_bn[0][0]          \n",
      "__________________________________________________________________________________________________\n",
      "conv4_block3_2_conv (Conv2D)    (None, 6, 6, 256)    590080      conv4_block3_1_relu[0][0]        \n",
      "__________________________________________________________________________________________________\n",
      "conv4_block3_2_bn (BatchNormali (None, 6, 6, 256)    1024        conv4_block3_2_conv[0][0]        \n",
      "__________________________________________________________________________________________________\n",
      "conv4_block3_2_relu (Activation (None, 6, 6, 256)    0           conv4_block3_2_bn[0][0]          \n",
      "__________________________________________________________________________________________________\n",
      "conv4_block3_3_conv (Conv2D)    (None, 6, 6, 1024)   263168      conv4_block3_2_relu[0][0]        \n",
      "__________________________________________________________________________________________________\n",
      "conv4_block3_3_bn (BatchNormali (None, 6, 6, 1024)   4096        conv4_block3_3_conv[0][0]        \n",
      "__________________________________________________________________________________________________\n",
      "conv4_block3_add (Add)          (None, 6, 6, 1024)   0           conv4_block2_out[0][0]           \n",
      "                                                                 conv4_block3_3_bn[0][0]          \n",
      "__________________________________________________________________________________________________\n",
      "conv4_block3_out (Activation)   (None, 6, 6, 1024)   0           conv4_block3_add[0][0]           \n",
      "__________________________________________________________________________________________________\n",
      "conv4_block4_1_conv (Conv2D)    (None, 6, 6, 256)    262400      conv4_block3_out[0][0]           \n",
      "__________________________________________________________________________________________________\n",
      "conv4_block4_1_bn (BatchNormali (None, 6, 6, 256)    1024        conv4_block4_1_conv[0][0]        \n",
      "__________________________________________________________________________________________________\n",
      "conv4_block4_1_relu (Activation (None, 6, 6, 256)    0           conv4_block4_1_bn[0][0]          \n",
      "__________________________________________________________________________________________________\n",
      "conv4_block4_2_conv (Conv2D)    (None, 6, 6, 256)    590080      conv4_block4_1_relu[0][0]        \n",
      "__________________________________________________________________________________________________\n",
      "conv4_block4_2_bn (BatchNormali (None, 6, 6, 256)    1024        conv4_block4_2_conv[0][0]        \n",
      "__________________________________________________________________________________________________\n",
      "conv4_block4_2_relu (Activation (None, 6, 6, 256)    0           conv4_block4_2_bn[0][0]          \n",
      "__________________________________________________________________________________________________\n",
      "conv4_block4_3_conv (Conv2D)    (None, 6, 6, 1024)   263168      conv4_block4_2_relu[0][0]        \n",
      "__________________________________________________________________________________________________\n",
      "conv4_block4_3_bn (BatchNormali (None, 6, 6, 1024)   4096        conv4_block4_3_conv[0][0]        \n",
      "__________________________________________________________________________________________________\n",
      "conv4_block4_add (Add)          (None, 6, 6, 1024)   0           conv4_block3_out[0][0]           \n",
      "                                                                 conv4_block4_3_bn[0][0]          \n",
      "__________________________________________________________________________________________________\n",
      "conv4_block4_out (Activation)   (None, 6, 6, 1024)   0           conv4_block4_add[0][0]           \n",
      "__________________________________________________________________________________________________\n",
      "conv4_block5_1_conv (Conv2D)    (None, 6, 6, 256)    262400      conv4_block4_out[0][0]           \n",
      "__________________________________________________________________________________________________\n",
      "conv4_block5_1_bn (BatchNormali (None, 6, 6, 256)    1024        conv4_block5_1_conv[0][0]        \n",
      "__________________________________________________________________________________________________\n",
      "conv4_block5_1_relu (Activation (None, 6, 6, 256)    0           conv4_block5_1_bn[0][0]          \n",
      "__________________________________________________________________________________________________\n",
      "conv4_block5_2_conv (Conv2D)    (None, 6, 6, 256)    590080      conv4_block5_1_relu[0][0]        \n",
      "__________________________________________________________________________________________________\n",
      "conv4_block5_2_bn (BatchNormali (None, 6, 6, 256)    1024        conv4_block5_2_conv[0][0]        \n",
      "__________________________________________________________________________________________________\n",
      "conv4_block5_2_relu (Activation (None, 6, 6, 256)    0           conv4_block5_2_bn[0][0]          \n",
      "__________________________________________________________________________________________________\n",
      "conv4_block5_3_conv (Conv2D)    (None, 6, 6, 1024)   263168      conv4_block5_2_relu[0][0]        \n",
      "__________________________________________________________________________________________________\n",
      "conv4_block5_3_bn (BatchNormali (None, 6, 6, 1024)   4096        conv4_block5_3_conv[0][0]        \n",
      "__________________________________________________________________________________________________\n",
      "conv4_block5_add (Add)          (None, 6, 6, 1024)   0           conv4_block4_out[0][0]           \n",
      "                                                                 conv4_block5_3_bn[0][0]          \n",
      "__________________________________________________________________________________________________\n",
      "conv4_block5_out (Activation)   (None, 6, 6, 1024)   0           conv4_block5_add[0][0]           \n",
      "__________________________________________________________________________________________________\n",
      "conv4_block6_1_conv (Conv2D)    (None, 6, 6, 256)    262400      conv4_block5_out[0][0]           \n",
      "__________________________________________________________________________________________________\n",
      "conv4_block6_1_bn (BatchNormali (None, 6, 6, 256)    1024        conv4_block6_1_conv[0][0]        \n",
      "__________________________________________________________________________________________________\n",
      "conv4_block6_1_relu (Activation (None, 6, 6, 256)    0           conv4_block6_1_bn[0][0]          \n",
      "__________________________________________________________________________________________________\n",
      "conv4_block6_2_conv (Conv2D)    (None, 6, 6, 256)    590080      conv4_block6_1_relu[0][0]        \n",
      "__________________________________________________________________________________________________\n",
      "conv4_block6_2_bn (BatchNormali (None, 6, 6, 256)    1024        conv4_block6_2_conv[0][0]        \n",
      "__________________________________________________________________________________________________\n",
      "conv4_block6_2_relu (Activation (None, 6, 6, 256)    0           conv4_block6_2_bn[0][0]          \n",
      "__________________________________________________________________________________________________\n",
      "conv4_block6_3_conv (Conv2D)    (None, 6, 6, 1024)   263168      conv4_block6_2_relu[0][0]        \n",
      "__________________________________________________________________________________________________\n",
      "conv4_block6_3_bn (BatchNormali (None, 6, 6, 1024)   4096        conv4_block6_3_conv[0][0]        \n",
      "__________________________________________________________________________________________________\n",
      "conv4_block6_add (Add)          (None, 6, 6, 1024)   0           conv4_block5_out[0][0]           \n",
      "                                                                 conv4_block6_3_bn[0][0]          \n",
      "__________________________________________________________________________________________________\n",
      "conv4_block6_out (Activation)   (None, 6, 6, 1024)   0           conv4_block6_add[0][0]           \n",
      "__________________________________________________________________________________________________\n",
      "conv5_block1_1_conv (Conv2D)    (None, 3, 3, 512)    524800      conv4_block6_out[0][0]           \n",
      "__________________________________________________________________________________________________\n",
      "conv5_block1_1_bn (BatchNormali (None, 3, 3, 512)    2048        conv5_block1_1_conv[0][0]        \n",
      "__________________________________________________________________________________________________\n",
      "conv5_block1_1_relu (Activation (None, 3, 3, 512)    0           conv5_block1_1_bn[0][0]          \n",
      "__________________________________________________________________________________________________\n",
      "conv5_block1_2_conv (Conv2D)    (None, 3, 3, 512)    2359808     conv5_block1_1_relu[0][0]        \n",
      "__________________________________________________________________________________________________\n",
      "conv5_block1_2_bn (BatchNormali (None, 3, 3, 512)    2048        conv5_block1_2_conv[0][0]        \n",
      "__________________________________________________________________________________________________\n",
      "conv5_block1_2_relu (Activation (None, 3, 3, 512)    0           conv5_block1_2_bn[0][0]          \n",
      "__________________________________________________________________________________________________\n",
      "conv5_block1_0_conv (Conv2D)    (None, 3, 3, 2048)   2099200     conv4_block6_out[0][0]           \n",
      "__________________________________________________________________________________________________\n",
      "conv5_block1_3_conv (Conv2D)    (None, 3, 3, 2048)   1050624     conv5_block1_2_relu[0][0]        \n",
      "__________________________________________________________________________________________________\n",
      "conv5_block1_0_bn (BatchNormali (None, 3, 3, 2048)   8192        conv5_block1_0_conv[0][0]        \n",
      "__________________________________________________________________________________________________\n",
      "conv5_block1_3_bn (BatchNormali (None, 3, 3, 2048)   8192        conv5_block1_3_conv[0][0]        \n",
      "__________________________________________________________________________________________________\n",
      "conv5_block1_add (Add)          (None, 3, 3, 2048)   0           conv5_block1_0_bn[0][0]          \n",
      "                                                                 conv5_block1_3_bn[0][0]          \n",
      "__________________________________________________________________________________________________\n",
      "conv5_block1_out (Activation)   (None, 3, 3, 2048)   0           conv5_block1_add[0][0]           \n",
      "__________________________________________________________________________________________________\n",
      "conv5_block2_1_conv (Conv2D)    (None, 3, 3, 512)    1049088     conv5_block1_out[0][0]           \n",
      "__________________________________________________________________________________________________\n",
      "conv5_block2_1_bn (BatchNormali (None, 3, 3, 512)    2048        conv5_block2_1_conv[0][0]        \n",
      "__________________________________________________________________________________________________\n",
      "conv5_block2_1_relu (Activation (None, 3, 3, 512)    0           conv5_block2_1_bn[0][0]          \n",
      "__________________________________________________________________________________________________\n",
      "conv5_block2_2_conv (Conv2D)    (None, 3, 3, 512)    2359808     conv5_block2_1_relu[0][0]        \n",
      "__________________________________________________________________________________________________\n",
      "conv5_block2_2_bn (BatchNormali (None, 3, 3, 512)    2048        conv5_block2_2_conv[0][0]        \n",
      "__________________________________________________________________________________________________\n",
      "conv5_block2_2_relu (Activation (None, 3, 3, 512)    0           conv5_block2_2_bn[0][0]          \n",
      "__________________________________________________________________________________________________\n",
      "conv5_block2_3_conv (Conv2D)    (None, 3, 3, 2048)   1050624     conv5_block2_2_relu[0][0]        \n",
      "__________________________________________________________________________________________________\n",
      "conv5_block2_3_bn (BatchNormali (None, 3, 3, 2048)   8192        conv5_block2_3_conv[0][0]        \n",
      "__________________________________________________________________________________________________\n",
      "conv5_block2_add (Add)          (None, 3, 3, 2048)   0           conv5_block1_out[0][0]           \n",
      "                                                                 conv5_block2_3_bn[0][0]          \n",
      "__________________________________________________________________________________________________\n",
      "conv5_block2_out (Activation)   (None, 3, 3, 2048)   0           conv5_block2_add[0][0]           \n",
      "__________________________________________________________________________________________________\n",
      "conv5_block3_1_conv (Conv2D)    (None, 3, 3, 512)    1049088     conv5_block2_out[0][0]           \n",
      "__________________________________________________________________________________________________\n",
      "conv5_block3_1_bn (BatchNormali (None, 3, 3, 512)    2048        conv5_block3_1_conv[0][0]        \n",
      "__________________________________________________________________________________________________\n",
      "conv5_block3_1_relu (Activation (None, 3, 3, 512)    0           conv5_block3_1_bn[0][0]          \n",
      "__________________________________________________________________________________________________\n",
      "conv5_block3_2_conv (Conv2D)    (None, 3, 3, 512)    2359808     conv5_block3_1_relu[0][0]        \n",
      "__________________________________________________________________________________________________\n",
      "conv5_block3_2_bn (BatchNormali (None, 3, 3, 512)    2048        conv5_block3_2_conv[0][0]        \n",
      "__________________________________________________________________________________________________\n",
      "conv5_block3_2_relu (Activation (None, 3, 3, 512)    0           conv5_block3_2_bn[0][0]          \n",
      "__________________________________________________________________________________________________\n",
      "conv5_block3_3_conv (Conv2D)    (None, 3, 3, 2048)   1050624     conv5_block3_2_relu[0][0]        \n",
      "__________________________________________________________________________________________________\n",
      "conv5_block3_3_bn (BatchNormali (None, 3, 3, 2048)   8192        conv5_block3_3_conv[0][0]        \n",
      "__________________________________________________________________________________________________\n",
      "conv5_block3_add (Add)          (None, 3, 3, 2048)   0           conv5_block2_out[0][0]           \n",
      "                                                                 conv5_block3_3_bn[0][0]          \n",
      "__________________________________________________________________________________________________\n",
      "conv5_block3_out (Activation)   (None, 3, 3, 2048)   0           conv5_block3_add[0][0]           \n",
      "==================================================================================================\n"
     ]
    },
    {
     "name": "stdout",
     "output_type": "stream",
     "text": [
      "Total params: 23,587,712\n",
      "Trainable params: 23,534,592\n",
      "Non-trainable params: 53,120\n",
      "__________________________________________________________________________________________________\n"
     ]
    }
   ],
   "source": [
    "base_model.summary()"
   ]
  },
  {
   "cell_type": "code",
   "execution_count": 2,
   "metadata": {},
   "outputs": [],
   "source": [
    "# LONG PROCESS HERE\n",
    "# KERACT allows to visualize each layer\n",
    "keract_inputs = X_training[:1]\n",
    "keract_targets = y_training[:1]\n",
    "activations = get_activations(base_model, keract_inputs)\n",
    "display_activations(activations, cmap=\"gray\", save=False)"
   ]
  },
  {
   "cell_type": "code",
   "execution_count": 130,
   "metadata": {},
   "outputs": [],
   "source": [
    "training_features = base_model.predict(X_training)\n",
    "#np.savez('MobileNetV2_features_train', features=training_features)"
   ]
  },
  {
   "cell_type": "code",
   "execution_count": 131,
   "metadata": {},
   "outputs": [
    {
     "data": {
      "text/plain": [
       "((9000, 3, 3, 2048),\n",
       " array([[0., 0., 0.],\n",
       "        [0., 0., 0.],\n",
       "        [0., 0., 0.]], dtype=float32))"
      ]
     },
     "execution_count": 131,
     "metadata": {},
     "output_type": "execute_result"
    }
   ],
   "source": [
    "training_features.shape,training_features[0,:,:,1000]"
   ]
  },
  {
   "cell_type": "code",
   "execution_count": 132,
   "metadata": {},
   "outputs": [
    {
     "data": {
      "text/plain": [
       "(9000, 3, 3, 2048)"
      ]
     },
     "execution_count": 132,
     "metadata": {},
     "output_type": "execute_result"
    }
   ],
   "source": [
    "training_features.shape"
   ]
  },
  {
   "cell_type": "code",
   "execution_count": 133,
   "metadata": {},
   "outputs": [],
   "source": [
    "testing_features = base_model.predict(X_testing)\n",
    "#np.savez('MobileNetV2_features_test', features=testing_features)"
   ]
  },
  {
   "cell_type": "code",
   "execution_count": 134,
   "metadata": {},
   "outputs": [
    {
     "data": {
      "text/plain": [
       "(450, 3, 3, 2048)"
      ]
     },
     "execution_count": 134,
     "metadata": {},
     "output_type": "execute_result"
    }
   ],
   "source": [
    "testing_features.shape"
   ]
  },
  {
   "cell_type": "code",
   "execution_count": 140,
   "metadata": {},
   "outputs": [],
   "source": [
    "model = Sequential()\n",
    "model.add(GlobalAveragePooling2D(input_shape=training_features.shape[1:]))\n",
    "\n",
    "model.add(Dense(units=640, activation='relu'))\n",
    "model.add(Dropout(rate=0.4))\n",
    "model.add(Dense(units=320, activation='relu'))\n",
    "model.add(Dropout(rate=0.2))\n",
    "model.add(Dense(units=NUM_CLASSES, activation='softmax'))\n",
    "\n",
    "model.compile(loss='categorical_crossentropy', optimizer='adam', metrics=['accuracy'])"
   ]
  },
  {
   "cell_type": "code",
   "execution_count": 141,
   "metadata": {
    "scrolled": true
   },
   "outputs": [
    {
     "name": "stdout",
     "output_type": "stream",
     "text": [
      "Train on 7200 samples, validate on 1800 samples\n",
      "Epoch 1/20\n",
      "7200/7200 [==============================] - 9s 1ms/sample - loss: 1.4904 - accuracy: 0.4976 - val_loss: 5.4360 - val_accuracy: 0.0289\n",
      "Epoch 2/20\n",
      "7200/7200 [==============================] - 6s 882us/sample - loss: 0.8665 - accuracy: 0.6989 - val_loss: 5.7370 - val_accuracy: 0.1089\n",
      "Epoch 3/20\n",
      "7200/7200 [==============================] - 6s 859us/sample - loss: 0.6627 - accuracy: 0.7690 - val_loss: 7.5872 - val_accuracy: 0.0517\n",
      "Epoch 4/20\n",
      "7200/7200 [==============================] - 6s 838us/sample - loss: 0.5469 - accuracy: 0.8079 - val_loss: 6.7034 - val_accuracy: 0.1656\n",
      "Epoch 5/20\n",
      "7200/7200 [==============================] - 6s 850us/sample - loss: 0.4710 - accuracy: 0.8353 - val_loss: 7.9591 - val_accuracy: 0.2328\n",
      "Epoch 6/20\n",
      "7200/7200 [==============================] - 7s 913us/sample - loss: 0.3964 - accuracy: 0.8619 - val_loss: 8.8663 - val_accuracy: 0.2217\n",
      "Epoch 7/20\n",
      "7200/7200 [==============================] - 6s 884us/sample - loss: 0.3761 - accuracy: 0.8726 - val_loss: 10.3367 - val_accuracy: 0.2194\n",
      "Epoch 8/20\n",
      "7200/7200 [==============================] - 7s 927us/sample - loss: 0.3234 - accuracy: 0.8879 - val_loss: 7.7257 - val_accuracy: 0.3678\n",
      "Epoch 9/20\n",
      "7200/7200 [==============================] - 6s 861us/sample - loss: 0.3274 - accuracy: 0.8840 - val_loss: 8.6891 - val_accuracy: 0.2867\n",
      "Epoch 10/20\n",
      "7200/7200 [==============================] - 6s 877us/sample - loss: 0.2697 - accuracy: 0.9062 - val_loss: 9.9832 - val_accuracy: 0.2233\n",
      "Epoch 11/20\n",
      "7200/7200 [==============================] - 8s 1ms/sample - loss: 0.2455 - accuracy: 0.9151 - val_loss: 9.4558 - val_accuracy: 0.3172\n",
      "Epoch 12/20\n",
      "7200/7200 [==============================] - 7s 919us/sample - loss: 0.2660 - accuracy: 0.9085 - val_loss: 9.6773 - val_accuracy: 0.2733\n",
      "Epoch 13/20\n",
      "7200/7200 [==============================] - 7s 929us/sample - loss: 0.2553 - accuracy: 0.9076 - val_loss: 10.3125 - val_accuracy: 0.2067\n",
      "Epoch 14/20\n",
      "7200/7200 [==============================] - 7s 956us/sample - loss: 0.2254 - accuracy: 0.9219 - val_loss: 12.7129 - val_accuracy: 0.3061\n",
      "Epoch 15/20\n",
      "7200/7200 [==============================] - 7s 961us/sample - loss: 0.1907 - accuracy: 0.9361 - val_loss: 13.2935 - val_accuracy: 0.1983\n",
      "Epoch 16/20\n",
      "7200/7200 [==============================] - 7s 922us/sample - loss: 0.1743 - accuracy: 0.9397 - val_loss: 11.4570 - val_accuracy: 0.3439\n",
      "Epoch 17/20\n",
      "7200/7200 [==============================] - 6s 847us/sample - loss: 0.2172 - accuracy: 0.9299 - val_loss: 12.5698 - val_accuracy: 0.3122\n",
      "Epoch 18/20\n",
      "7200/7200 [==============================] - 6s 873us/sample - loss: 0.1877 - accuracy: 0.9336 - val_loss: 12.2253 - val_accuracy: 0.3106\n",
      "Epoch 19/20\n",
      "7200/7200 [==============================] - 7s 953us/sample - loss: 0.1778 - accuracy: 0.9394 - val_loss: 12.4412 - val_accuracy: 0.2939\n",
      "Epoch 20/20\n",
      "7200/7200 [==============================] - 7s 933us/sample - loss: 0.1593 - accuracy: 0.9465 - val_loss: 13.0535 - val_accuracy: 0.2533\n"
     ]
    }
   ],
   "source": [
    "history = model.fit(training_features, y_training, batch_size=32, epochs=20, validation_split=0.2, verbose=True,\n",
    "                   shuffle=True)"
   ]
  },
  {
   "cell_type": "code",
   "execution_count": 142,
   "metadata": {},
   "outputs": [
    {
     "data": {
      "image/png": "[encoded data removed]",
      "text/plain": [
       "<Figure size 432x288 with 2 Axes>"
      ]
     },
     "metadata": {
      "needs_background": "light"
     },
     "output_type": "display_data"
    },
    {
     "name": "stdout",
     "output_type": "stream",
     "text": [
      "Test loss: 3.76\n",
      "Test accuracy: 0.667\n"
     ]
    }
   ],
   "source": [
    "plot_training_history(history, model)\n",
    "loss, accuracy = model.evaluate(testing_features, y_testing, verbose=False)\n",
    "print(f'Test loss: {loss:.3}')\n",
    "print(f'Test accuracy: {accuracy:.3}')"
   ]
  },
  {
   "cell_type": "code",
   "execution_count": 143,
   "metadata": {
    "scrolled": true
   },
   "outputs": [
    {
     "data": {
      "image/png": "[encoded data removed]",
      "text/plain": [
       "<Figure size 1080x1080 with 2 Axes>"
      ]
     },
     "metadata": {
      "needs_background": "light"
     },
     "output_type": "display_data"
    }
   ],
   "source": [
    "# When did our evaluator do poorly?\n",
    "predictions = model.predict(testing_features)\n",
    "cm = confusion_matrix(np.argmax(predictions, axis=1), np.argmax(y_testing, axis=1))\n",
    "plt.figure(figsize = (15, 15))\n",
    "\n",
    "name_labels = labels_list\n",
    "\n",
    "sn.heatmap(cm, annot=True, xticklabels=name_labels, yticklabels=name_labels)\n",
    "plt.show()"
   ]
  },
  {
   "cell_type": "markdown",
   "metadata": {},
   "source": [
    "# PART Ic - Transfer Learning (XCEPTION)"
   ]
  },
  {
   "cell_type": "markdown",
   "metadata": {},
   "source": [
    "### FINAL FORMATING IMAGES BEFORE INPUT TO LEGACY NET"
   ]
  },
  {
   "cell_type": "code",
   "execution_count": 39,
   "metadata": {},
   "outputs": [],
   "source": [
    "def adjust_input_image_xception(rgb_data):\n",
    "    adjusted = ppi_xception(rgb_data)\n",
    "    \n",
    "    return adjusted"
   ]
  },
  {
   "cell_type": "code",
   "execution_count": 40,
   "metadata": {},
   "outputs": [],
   "source": [
    "X_training = np.array([adjust_input_image_xception(x) for x in image_array_big_dataset_training])"
   ]
  },
  {
   "cell_type": "code",
   "execution_count": 41,
   "metadata": {},
   "outputs": [],
   "source": [
    "X_testing = np.array([adjust_input_image_xception(x) for x in image_array_big_dataset_testing])"
   ]
  },
  {
   "cell_type": "code",
   "execution_count": 42,
   "metadata": {},
   "outputs": [],
   "source": [
    "base_model = Xception(weights='imagenet', include_top=False, input_shape=(96,96, 3))"
   ]
  },
  {
   "cell_type": "code",
   "execution_count": 43,
   "metadata": {},
   "outputs": [
    {
     "name": "stdout",
     "output_type": "stream",
     "text": [
      "0 input_1\n",
      "1 block1_conv1\n",
      "2 block1_conv1_bn\n",
      "3 block1_conv1_act\n",
      "4 block1_conv2\n",
      "5 block1_conv2_bn\n",
      "6 block1_conv2_act\n",
      "7 block2_sepconv1\n",
      "8 block2_sepconv1_bn\n",
      "9 block2_sepconv2_act\n",
      "10 block2_sepconv2\n",
      "11 block2_sepconv2_bn\n",
      "12 conv2d\n",
      "13 block2_pool\n",
      "14 batch_normalization\n",
      "15 add\n",
      "16 block3_sepconv1_act\n",
      "17 block3_sepconv1\n",
      "18 block3_sepconv1_bn\n",
      "19 block3_sepconv2_act\n",
      "20 block3_sepconv2\n",
      "21 block3_sepconv2_bn\n",
      "22 conv2d_1\n",
      "23 block3_pool\n",
      "24 batch_normalization_1\n",
      "25 add_1\n",
      "26 block4_sepconv1_act\n",
      "27 block4_sepconv1\n",
      "28 block4_sepconv1_bn\n",
      "29 block4_sepconv2_act\n",
      "30 block4_sepconv2\n",
      "31 block4_sepconv2_bn\n",
      "32 conv2d_2\n",
      "33 block4_pool\n",
      "34 batch_normalization_2\n",
      "35 add_2\n",
      "36 block5_sepconv1_act\n",
      "37 block5_sepconv1\n",
      "38 block5_sepconv1_bn\n",
      "39 block5_sepconv2_act\n",
      "40 block5_sepconv2\n",
      "41 block5_sepconv2_bn\n",
      "42 block5_sepconv3_act\n",
      "43 block5_sepconv3\n",
      "44 block5_sepconv3_bn\n",
      "45 add_3\n",
      "46 block6_sepconv1_act\n",
      "47 block6_sepconv1\n",
      "48 block6_sepconv1_bn\n",
      "49 block6_sepconv2_act\n",
      "50 block6_sepconv2\n",
      "51 block6_sepconv2_bn\n",
      "52 block6_sepconv3_act\n",
      "53 block6_sepconv3\n",
      "54 block6_sepconv3_bn\n",
      "55 add_4\n",
      "56 block7_sepconv1_act\n",
      "57 block7_sepconv1\n",
      "58 block7_sepconv1_bn\n",
      "59 block7_sepconv2_act\n",
      "60 block7_sepconv2\n",
      "61 block7_sepconv2_bn\n",
      "62 block7_sepconv3_act\n",
      "63 block7_sepconv3\n",
      "64 block7_sepconv3_bn\n",
      "65 add_5\n",
      "66 block8_sepconv1_act\n",
      "67 block8_sepconv1\n",
      "68 block8_sepconv1_bn\n",
      "69 block8_sepconv2_act\n",
      "70 block8_sepconv2\n",
      "71 block8_sepconv2_bn\n",
      "72 block8_sepconv3_act\n",
      "73 block8_sepconv3\n",
      "74 block8_sepconv3_bn\n",
      "75 add_6\n",
      "76 block9_sepconv1_act\n",
      "77 block9_sepconv1\n",
      "78 block9_sepconv1_bn\n",
      "79 block9_sepconv2_act\n",
      "80 block9_sepconv2\n",
      "81 block9_sepconv2_bn\n",
      "82 block9_sepconv3_act\n",
      "83 block9_sepconv3\n",
      "84 block9_sepconv3_bn\n",
      "85 add_7\n",
      "86 block10_sepconv1_act\n",
      "87 block10_sepconv1\n",
      "88 block10_sepconv1_bn\n",
      "89 block10_sepconv2_act\n",
      "90 block10_sepconv2\n",
      "91 block10_sepconv2_bn\n",
      "92 block10_sepconv3_act\n",
      "93 block10_sepconv3\n",
      "94 block10_sepconv3_bn\n",
      "95 add_8\n",
      "96 block11_sepconv1_act\n",
      "97 block11_sepconv1\n",
      "98 block11_sepconv1_bn\n",
      "99 block11_sepconv2_act\n",
      "100 block11_sepconv2\n",
      "101 block11_sepconv2_bn\n",
      "102 block11_sepconv3_act\n",
      "103 block11_sepconv3\n",
      "104 block11_sepconv3_bn\n",
      "105 add_9\n",
      "106 block12_sepconv1_act\n",
      "107 block12_sepconv1\n",
      "108 block12_sepconv1_bn\n",
      "109 block12_sepconv2_act\n",
      "110 block12_sepconv2\n",
      "111 block12_sepconv2_bn\n",
      "112 block12_sepconv3_act\n",
      "113 block12_sepconv3\n",
      "114 block12_sepconv3_bn\n",
      "115 add_10\n",
      "116 block13_sepconv1_act\n",
      "117 block13_sepconv1\n",
      "118 block13_sepconv1_bn\n",
      "119 block13_sepconv2_act\n",
      "120 block13_sepconv2\n",
      "121 block13_sepconv2_bn\n",
      "122 conv2d_3\n",
      "123 block13_pool\n",
      "124 batch_normalization_3\n",
      "125 add_11\n",
      "126 block14_sepconv1\n",
      "127 block14_sepconv1_bn\n",
      "128 block14_sepconv1_act\n",
      "129 block14_sepconv2\n",
      "130 block14_sepconv2_bn\n",
      "131 block14_sepconv2_act\n"
     ]
    }
   ],
   "source": [
    "for i, layer in enumerate(base_model.layers):\n",
    "    print(i, layer.name)"
   ]
  },
  {
   "cell_type": "code",
   "execution_count": 44,
   "metadata": {},
   "outputs": [
    {
     "name": "stdout",
     "output_type": "stream",
     "text": [
      "Model: \"xception\"\n",
      "__________________________________________________________________________________________________\n",
      "Layer (type)                    Output Shape         Param #     Connected to                     \n",
      "==================================================================================================\n",
      "input_1 (InputLayer)            [(None, 96, 96, 3)]  0                                            \n",
      "__________________________________________________________________________________________________\n",
      "block1_conv1 (Conv2D)           (None, 47, 47, 32)   864         input_1[0][0]                    \n",
      "__________________________________________________________________________________________________\n",
      "block1_conv1_bn (BatchNormaliza (None, 47, 47, 32)   128         block1_conv1[0][0]               \n",
      "__________________________________________________________________________________________________\n",
      "block1_conv1_act (Activation)   (None, 47, 47, 32)   0           block1_conv1_bn[0][0]            \n",
      "__________________________________________________________________________________________________\n",
      "block1_conv2 (Conv2D)           (None, 45, 45, 64)   18432       block1_conv1_act[0][0]           \n",
      "__________________________________________________________________________________________________\n",
      "block1_conv2_bn (BatchNormaliza (None, 45, 45, 64)   256         block1_conv2[0][0]               \n",
      "__________________________________________________________________________________________________\n",
      "block1_conv2_act (Activation)   (None, 45, 45, 64)   0           block1_conv2_bn[0][0]            \n",
      "__________________________________________________________________________________________________\n",
      "block2_sepconv1 (SeparableConv2 (None, 45, 45, 128)  8768        block1_conv2_act[0][0]           \n",
      "__________________________________________________________________________________________________\n",
      "block2_sepconv1_bn (BatchNormal (None, 45, 45, 128)  512         block2_sepconv1[0][0]            \n",
      "__________________________________________________________________________________________________\n",
      "block2_sepconv2_act (Activation (None, 45, 45, 128)  0           block2_sepconv1_bn[0][0]         \n",
      "__________________________________________________________________________________________________\n",
      "block2_sepconv2 (SeparableConv2 (None, 45, 45, 128)  17536       block2_sepconv2_act[0][0]        \n",
      "__________________________________________________________________________________________________\n",
      "block2_sepconv2_bn (BatchNormal (None, 45, 45, 128)  512         block2_sepconv2[0][0]            \n",
      "__________________________________________________________________________________________________\n",
      "conv2d (Conv2D)                 (None, 23, 23, 128)  8192        block1_conv2_act[0][0]           \n",
      "__________________________________________________________________________________________________\n",
      "block2_pool (MaxPooling2D)      (None, 23, 23, 128)  0           block2_sepconv2_bn[0][0]         \n",
      "__________________________________________________________________________________________________\n",
      "batch_normalization (BatchNorma (None, 23, 23, 128)  512         conv2d[0][0]                     \n",
      "__________________________________________________________________________________________________\n",
      "add (Add)                       (None, 23, 23, 128)  0           block2_pool[0][0]                \n",
      "                                                                 batch_normalization[0][0]        \n",
      "__________________________________________________________________________________________________\n",
      "block3_sepconv1_act (Activation (None, 23, 23, 128)  0           add[0][0]                        \n",
      "__________________________________________________________________________________________________\n",
      "block3_sepconv1 (SeparableConv2 (None, 23, 23, 256)  33920       block3_sepconv1_act[0][0]        \n",
      "__________________________________________________________________________________________________\n",
      "block3_sepconv1_bn (BatchNormal (None, 23, 23, 256)  1024        block3_sepconv1[0][0]            \n",
      "__________________________________________________________________________________________________\n",
      "block3_sepconv2_act (Activation (None, 23, 23, 256)  0           block3_sepconv1_bn[0][0]         \n",
      "__________________________________________________________________________________________________\n",
      "block3_sepconv2 (SeparableConv2 (None, 23, 23, 256)  67840       block3_sepconv2_act[0][0]        \n",
      "__________________________________________________________________________________________________\n",
      "block3_sepconv2_bn (BatchNormal (None, 23, 23, 256)  1024        block3_sepconv2[0][0]            \n",
      "__________________________________________________________________________________________________\n",
      "conv2d_1 (Conv2D)               (None, 12, 12, 256)  32768       add[0][0]                        \n",
      "__________________________________________________________________________________________________\n",
      "block3_pool (MaxPooling2D)      (None, 12, 12, 256)  0           block3_sepconv2_bn[0][0]         \n",
      "__________________________________________________________________________________________________\n",
      "batch_normalization_1 (BatchNor (None, 12, 12, 256)  1024        conv2d_1[0][0]                   \n",
      "__________________________________________________________________________________________________\n",
      "add_1 (Add)                     (None, 12, 12, 256)  0           block3_pool[0][0]                \n",
      "                                                                 batch_normalization_1[0][0]      \n",
      "__________________________________________________________________________________________________\n",
      "block4_sepconv1_act (Activation (None, 12, 12, 256)  0           add_1[0][0]                      \n",
      "__________________________________________________________________________________________________\n",
      "block4_sepconv1 (SeparableConv2 (None, 12, 12, 728)  188672      block4_sepconv1_act[0][0]        \n",
      "__________________________________________________________________________________________________\n",
      "block4_sepconv1_bn (BatchNormal (None, 12, 12, 728)  2912        block4_sepconv1[0][0]            \n",
      "__________________________________________________________________________________________________\n",
      "block4_sepconv2_act (Activation (None, 12, 12, 728)  0           block4_sepconv1_bn[0][0]         \n",
      "__________________________________________________________________________________________________\n",
      "block4_sepconv2 (SeparableConv2 (None, 12, 12, 728)  536536      block4_sepconv2_act[0][0]        \n",
      "__________________________________________________________________________________________________\n",
      "block4_sepconv2_bn (BatchNormal (None, 12, 12, 728)  2912        block4_sepconv2[0][0]            \n",
      "__________________________________________________________________________________________________\n",
      "conv2d_2 (Conv2D)               (None, 6, 6, 728)    186368      add_1[0][0]                      \n",
      "__________________________________________________________________________________________________\n",
      "block4_pool (MaxPooling2D)      (None, 6, 6, 728)    0           block4_sepconv2_bn[0][0]         \n",
      "__________________________________________________________________________________________________\n",
      "batch_normalization_2 (BatchNor (None, 6, 6, 728)    2912        conv2d_2[0][0]                   \n",
      "__________________________________________________________________________________________________\n",
      "add_2 (Add)                     (None, 6, 6, 728)    0           block4_pool[0][0]                \n",
      "                                                                 batch_normalization_2[0][0]      \n",
      "__________________________________________________________________________________________________\n",
      "block5_sepconv1_act (Activation (None, 6, 6, 728)    0           add_2[0][0]                      \n",
      "__________________________________________________________________________________________________\n",
      "block5_sepconv1 (SeparableConv2 (None, 6, 6, 728)    536536      block5_sepconv1_act[0][0]        \n",
      "__________________________________________________________________________________________________\n",
      "block5_sepconv1_bn (BatchNormal (None, 6, 6, 728)    2912        block5_sepconv1[0][0]            \n",
      "__________________________________________________________________________________________________\n",
      "block5_sepconv2_act (Activation (None, 6, 6, 728)    0           block5_sepconv1_bn[0][0]         \n",
      "__________________________________________________________________________________________________\n",
      "block5_sepconv2 (SeparableConv2 (None, 6, 6, 728)    536536      block5_sepconv2_act[0][0]        \n",
      "__________________________________________________________________________________________________\n",
      "block5_sepconv2_bn (BatchNormal (None, 6, 6, 728)    2912        block5_sepconv2[0][0]            \n",
      "__________________________________________________________________________________________________\n",
      "block5_sepconv3_act (Activation (None, 6, 6, 728)    0           block5_sepconv2_bn[0][0]         \n",
      "__________________________________________________________________________________________________\n",
      "block5_sepconv3 (SeparableConv2 (None, 6, 6, 728)    536536      block5_sepconv3_act[0][0]        \n",
      "__________________________________________________________________________________________________\n",
      "block5_sepconv3_bn (BatchNormal (None, 6, 6, 728)    2912        block5_sepconv3[0][0]            \n",
      "__________________________________________________________________________________________________\n",
      "add_3 (Add)                     (None, 6, 6, 728)    0           block5_sepconv3_bn[0][0]         \n",
      "                                                                 add_2[0][0]                      \n",
      "__________________________________________________________________________________________________\n",
      "block6_sepconv1_act (Activation (None, 6, 6, 728)    0           add_3[0][0]                      \n",
      "__________________________________________________________________________________________________\n",
      "block6_sepconv1 (SeparableConv2 (None, 6, 6, 728)    536536      block6_sepconv1_act[0][0]        \n",
      "__________________________________________________________________________________________________\n",
      "block6_sepconv1_bn (BatchNormal (None, 6, 6, 728)    2912        block6_sepconv1[0][0]            \n",
      "__________________________________________________________________________________________________\n",
      "block6_sepconv2_act (Activation (None, 6, 6, 728)    0           block6_sepconv1_bn[0][0]         \n",
      "__________________________________________________________________________________________________\n",
      "block6_sepconv2 (SeparableConv2 (None, 6, 6, 728)    536536      block6_sepconv2_act[0][0]        \n",
      "__________________________________________________________________________________________________\n",
      "block6_sepconv2_bn (BatchNormal (None, 6, 6, 728)    2912        block6_sepconv2[0][0]            \n",
      "__________________________________________________________________________________________________\n",
      "block6_sepconv3_act (Activation (None, 6, 6, 728)    0           block6_sepconv2_bn[0][0]         \n",
      "__________________________________________________________________________________________________\n",
      "block6_sepconv3 (SeparableConv2 (None, 6, 6, 728)    536536      block6_sepconv3_act[0][0]        \n",
      "__________________________________________________________________________________________________\n",
      "block6_sepconv3_bn (BatchNormal (None, 6, 6, 728)    2912        block6_sepconv3[0][0]            \n",
      "__________________________________________________________________________________________________\n",
      "add_4 (Add)                     (None, 6, 6, 728)    0           block6_sepconv3_bn[0][0]         \n",
      "                                                                 add_3[0][0]                      \n",
      "__________________________________________________________________________________________________\n",
      "block7_sepconv1_act (Activation (None, 6, 6, 728)    0           add_4[0][0]                      \n",
      "__________________________________________________________________________________________________\n",
      "block7_sepconv1 (SeparableConv2 (None, 6, 6, 728)    536536      block7_sepconv1_act[0][0]        \n",
      "__________________________________________________________________________________________________\n",
      "block7_sepconv1_bn (BatchNormal (None, 6, 6, 728)    2912        block7_sepconv1[0][0]            \n",
      "__________________________________________________________________________________________________\n",
      "block7_sepconv2_act (Activation (None, 6, 6, 728)    0           block7_sepconv1_bn[0][0]         \n",
      "__________________________________________________________________________________________________\n",
      "block7_sepconv2 (SeparableConv2 (None, 6, 6, 728)    536536      block7_sepconv2_act[0][0]        \n",
      "__________________________________________________________________________________________________\n",
      "block7_sepconv2_bn (BatchNormal (None, 6, 6, 728)    2912        block7_sepconv2[0][0]            \n",
      "__________________________________________________________________________________________________\n",
      "block7_sepconv3_act (Activation (None, 6, 6, 728)    0           block7_sepconv2_bn[0][0]         \n",
      "__________________________________________________________________________________________________\n",
      "block7_sepconv3 (SeparableConv2 (None, 6, 6, 728)    536536      block7_sepconv3_act[0][0]        \n",
      "__________________________________________________________________________________________________\n",
      "block7_sepconv3_bn (BatchNormal (None, 6, 6, 728)    2912        block7_sepconv3[0][0]            \n",
      "__________________________________________________________________________________________________\n",
      "add_5 (Add)                     (None, 6, 6, 728)    0           block7_sepconv3_bn[0][0]         \n",
      "                                                                 add_4[0][0]                      \n",
      "__________________________________________________________________________________________________\n",
      "block8_sepconv1_act (Activation (None, 6, 6, 728)    0           add_5[0][0]                      \n",
      "__________________________________________________________________________________________________\n",
      "block8_sepconv1 (SeparableConv2 (None, 6, 6, 728)    536536      block8_sepconv1_act[0][0]        \n",
      "__________________________________________________________________________________________________\n",
      "block8_sepconv1_bn (BatchNormal (None, 6, 6, 728)    2912        block8_sepconv1[0][0]            \n",
      "__________________________________________________________________________________________________\n",
      "block8_sepconv2_act (Activation (None, 6, 6, 728)    0           block8_sepconv1_bn[0][0]         \n",
      "__________________________________________________________________________________________________\n",
      "block8_sepconv2 (SeparableConv2 (None, 6, 6, 728)    536536      block8_sepconv2_act[0][0]        \n",
      "__________________________________________________________________________________________________\n",
      "block8_sepconv2_bn (BatchNormal (None, 6, 6, 728)    2912        block8_sepconv2[0][0]            \n",
      "__________________________________________________________________________________________________\n",
      "block8_sepconv3_act (Activation (None, 6, 6, 728)    0           block8_sepconv2_bn[0][0]         \n",
      "__________________________________________________________________________________________________\n",
      "block8_sepconv3 (SeparableConv2 (None, 6, 6, 728)    536536      block8_sepconv3_act[0][0]        \n",
      "__________________________________________________________________________________________________\n",
      "block8_sepconv3_bn (BatchNormal (None, 6, 6, 728)    2912        block8_sepconv3[0][0]            \n",
      "__________________________________________________________________________________________________\n",
      "add_6 (Add)                     (None, 6, 6, 728)    0           block8_sepconv3_bn[0][0]         \n",
      "                                                                 add_5[0][0]                      \n",
      "__________________________________________________________________________________________________\n",
      "block9_sepconv1_act (Activation (None, 6, 6, 728)    0           add_6[0][0]                      \n",
      "__________________________________________________________________________________________________\n",
      "block9_sepconv1 (SeparableConv2 (None, 6, 6, 728)    536536      block9_sepconv1_act[0][0]        \n",
      "__________________________________________________________________________________________________\n",
      "block9_sepconv1_bn (BatchNormal (None, 6, 6, 728)    2912        block9_sepconv1[0][0]            \n",
      "__________________________________________________________________________________________________\n",
      "block9_sepconv2_act (Activation (None, 6, 6, 728)    0           block9_sepconv1_bn[0][0]         \n",
      "__________________________________________________________________________________________________\n",
      "block9_sepconv2 (SeparableConv2 (None, 6, 6, 728)    536536      block9_sepconv2_act[0][0]        \n",
      "__________________________________________________________________________________________________\n",
      "block9_sepconv2_bn (BatchNormal (None, 6, 6, 728)    2912        block9_sepconv2[0][0]            \n",
      "__________________________________________________________________________________________________\n",
      "block9_sepconv3_act (Activation (None, 6, 6, 728)    0           block9_sepconv2_bn[0][0]         \n",
      "__________________________________________________________________________________________________\n",
      "block9_sepconv3 (SeparableConv2 (None, 6, 6, 728)    536536      block9_sepconv3_act[0][0]        \n",
      "__________________________________________________________________________________________________\n",
      "block9_sepconv3_bn (BatchNormal (None, 6, 6, 728)    2912        block9_sepconv3[0][0]            \n",
      "__________________________________________________________________________________________________\n",
      "add_7 (Add)                     (None, 6, 6, 728)    0           block9_sepconv3_bn[0][0]         \n",
      "                                                                 add_6[0][0]                      \n",
      "__________________________________________________________________________________________________\n",
      "block10_sepconv1_act (Activatio (None, 6, 6, 728)    0           add_7[0][0]                      \n",
      "__________________________________________________________________________________________________\n",
      "block10_sepconv1 (SeparableConv (None, 6, 6, 728)    536536      block10_sepconv1_act[0][0]       \n",
      "__________________________________________________________________________________________________\n",
      "block10_sepconv1_bn (BatchNorma (None, 6, 6, 728)    2912        block10_sepconv1[0][0]           \n",
      "__________________________________________________________________________________________________\n",
      "block10_sepconv2_act (Activatio (None, 6, 6, 728)    0           block10_sepconv1_bn[0][0]        \n",
      "__________________________________________________________________________________________________\n",
      "block10_sepconv2 (SeparableConv (None, 6, 6, 728)    536536      block10_sepconv2_act[0][0]       \n",
      "__________________________________________________________________________________________________\n",
      "block10_sepconv2_bn (BatchNorma (None, 6, 6, 728)    2912        block10_sepconv2[0][0]           \n",
      "__________________________________________________________________________________________________\n",
      "block10_sepconv3_act (Activatio (None, 6, 6, 728)    0           block10_sepconv2_bn[0][0]        \n",
      "__________________________________________________________________________________________________\n",
      "block10_sepconv3 (SeparableConv (None, 6, 6, 728)    536536      block10_sepconv3_act[0][0]       \n",
      "__________________________________________________________________________________________________\n",
      "block10_sepconv3_bn (BatchNorma (None, 6, 6, 728)    2912        block10_sepconv3[0][0]           \n",
      "__________________________________________________________________________________________________\n",
      "add_8 (Add)                     (None, 6, 6, 728)    0           block10_sepconv3_bn[0][0]        \n",
      "                                                                 add_7[0][0]                      \n",
      "__________________________________________________________________________________________________\n",
      "block11_sepconv1_act (Activatio (None, 6, 6, 728)    0           add_8[0][0]                      \n",
      "__________________________________________________________________________________________________\n",
      "block11_sepconv1 (SeparableConv (None, 6, 6, 728)    536536      block11_sepconv1_act[0][0]       \n",
      "__________________________________________________________________________________________________\n",
      "block11_sepconv1_bn (BatchNorma (None, 6, 6, 728)    2912        block11_sepconv1[0][0]           \n",
      "__________________________________________________________________________________________________\n",
      "block11_sepconv2_act (Activatio (None, 6, 6, 728)    0           block11_sepconv1_bn[0][0]        \n",
      "__________________________________________________________________________________________________\n",
      "block11_sepconv2 (SeparableConv (None, 6, 6, 728)    536536      block11_sepconv2_act[0][0]       \n",
      "__________________________________________________________________________________________________\n",
      "block11_sepconv2_bn (BatchNorma (None, 6, 6, 728)    2912        block11_sepconv2[0][0]           \n",
      "__________________________________________________________________________________________________\n",
      "block11_sepconv3_act (Activatio (None, 6, 6, 728)    0           block11_sepconv2_bn[0][0]        \n",
      "__________________________________________________________________________________________________\n",
      "block11_sepconv3 (SeparableConv (None, 6, 6, 728)    536536      block11_sepconv3_act[0][0]       \n",
      "__________________________________________________________________________________________________\n",
      "block11_sepconv3_bn (BatchNorma (None, 6, 6, 728)    2912        block11_sepconv3[0][0]           \n",
      "__________________________________________________________________________________________________\n",
      "add_9 (Add)                     (None, 6, 6, 728)    0           block11_sepconv3_bn[0][0]        \n",
      "                                                                 add_8[0][0]                      \n",
      "__________________________________________________________________________________________________\n",
      "block12_sepconv1_act (Activatio (None, 6, 6, 728)    0           add_9[0][0]                      \n",
      "__________________________________________________________________________________________________\n",
      "block12_sepconv1 (SeparableConv (None, 6, 6, 728)    536536      block12_sepconv1_act[0][0]       \n",
      "__________________________________________________________________________________________________\n",
      "block12_sepconv1_bn (BatchNorma (None, 6, 6, 728)    2912        block12_sepconv1[0][0]           \n",
      "__________________________________________________________________________________________________\n",
      "block12_sepconv2_act (Activatio (None, 6, 6, 728)    0           block12_sepconv1_bn[0][0]        \n",
      "__________________________________________________________________________________________________\n",
      "block12_sepconv2 (SeparableConv (None, 6, 6, 728)    536536      block12_sepconv2_act[0][0]       \n",
      "__________________________________________________________________________________________________\n",
      "block12_sepconv2_bn (BatchNorma (None, 6, 6, 728)    2912        block12_sepconv2[0][0]           \n",
      "__________________________________________________________________________________________________\n",
      "block12_sepconv3_act (Activatio (None, 6, 6, 728)    0           block12_sepconv2_bn[0][0]        \n",
      "__________________________________________________________________________________________________\n",
      "block12_sepconv3 (SeparableConv (None, 6, 6, 728)    536536      block12_sepconv3_act[0][0]       \n",
      "__________________________________________________________________________________________________\n",
      "block12_sepconv3_bn (BatchNorma (None, 6, 6, 728)    2912        block12_sepconv3[0][0]           \n",
      "__________________________________________________________________________________________________\n",
      "add_10 (Add)                    (None, 6, 6, 728)    0           block12_sepconv3_bn[0][0]        \n",
      "                                                                 add_9[0][0]                      \n",
      "__________________________________________________________________________________________________\n",
      "block13_sepconv1_act (Activatio (None, 6, 6, 728)    0           add_10[0][0]                     \n",
      "__________________________________________________________________________________________________\n",
      "block13_sepconv1 (SeparableConv (None, 6, 6, 728)    536536      block13_sepconv1_act[0][0]       \n",
      "__________________________________________________________________________________________________\n",
      "block13_sepconv1_bn (BatchNorma (None, 6, 6, 728)    2912        block13_sepconv1[0][0]           \n",
      "__________________________________________________________________________________________________\n",
      "block13_sepconv2_act (Activatio (None, 6, 6, 728)    0           block13_sepconv1_bn[0][0]        \n",
      "__________________________________________________________________________________________________\n",
      "block13_sepconv2 (SeparableConv (None, 6, 6, 1024)   752024      block13_sepconv2_act[0][0]       \n",
      "__________________________________________________________________________________________________\n",
      "block13_sepconv2_bn (BatchNorma (None, 6, 6, 1024)   4096        block13_sepconv2[0][0]           \n",
      "__________________________________________________________________________________________________\n",
      "conv2d_3 (Conv2D)               (None, 3, 3, 1024)   745472      add_10[0][0]                     \n",
      "__________________________________________________________________________________________________\n",
      "block13_pool (MaxPooling2D)     (None, 3, 3, 1024)   0           block13_sepconv2_bn[0][0]        \n",
      "__________________________________________________________________________________________________\n",
      "batch_normalization_3 (BatchNor (None, 3, 3, 1024)   4096        conv2d_3[0][0]                   \n",
      "__________________________________________________________________________________________________\n",
      "add_11 (Add)                    (None, 3, 3, 1024)   0           block13_pool[0][0]               \n",
      "                                                                 batch_normalization_3[0][0]      \n",
      "__________________________________________________________________________________________________\n",
      "block14_sepconv1 (SeparableConv (None, 3, 3, 1536)   1582080     add_11[0][0]                     \n",
      "__________________________________________________________________________________________________\n",
      "block14_sepconv1_bn (BatchNorma (None, 3, 3, 1536)   6144        block14_sepconv1[0][0]           \n",
      "__________________________________________________________________________________________________\n",
      "block14_sepconv1_act (Activatio (None, 3, 3, 1536)   0           block14_sepconv1_bn[0][0]        \n",
      "__________________________________________________________________________________________________\n",
      "block14_sepconv2 (SeparableConv (None, 3, 3, 2048)   3159552     block14_sepconv1_act[0][0]       \n",
      "__________________________________________________________________________________________________\n",
      "block14_sepconv2_bn (BatchNorma (None, 3, 3, 2048)   8192        block14_sepconv2[0][0]           \n",
      "__________________________________________________________________________________________________\n",
      "block14_sepconv2_act (Activatio (None, 3, 3, 2048)   0           block14_sepconv2_bn[0][0]        \n",
      "==================================================================================================\n",
      "Total params: 20,861,480\n",
      "Trainable params: 20,806,952\n",
      "Non-trainable params: 54,528\n",
      "__________________________________________________________________________________________________\n"
     ]
    }
   ],
   "source": [
    "base_model.summary()"
   ]
  },
  {
   "cell_type": "code",
   "execution_count": 3,
   "metadata": {},
   "outputs": [],
   "source": [
    "# LONG PROCESS HERE\n",
    "# KERACT allows to visualize each layer\n",
    "keract_inputs = X_training[:1]\n",
    "keract_targets = y_training[:1]\n",
    "activations = get_activations(base_model, keract_inputs)\n",
    "display_activations(activations, cmap=\"gray\", save=False)"
   ]
  },
  {
   "cell_type": "code",
   "execution_count": 45,
   "metadata": {},
   "outputs": [],
   "source": [
    "training_features = base_model.predict(X_training)\n",
    "#np.savez('MobileNetV2_features_train', features=training_features)"
   ]
  },
  {
   "cell_type": "code",
   "execution_count": 46,
   "metadata": {},
   "outputs": [
    {
     "data": {
      "text/plain": [
       "(9000, 3, 3, 2048)"
      ]
     },
     "execution_count": 46,
     "metadata": {},
     "output_type": "execute_result"
    }
   ],
   "source": [
    "training_features.shape"
   ]
  },
  {
   "cell_type": "code",
   "execution_count": 47,
   "metadata": {},
   "outputs": [],
   "source": [
    "testing_features = base_model.predict(X_testing)\n",
    "#np.savez('MobileNetV2_features_test', features=testing_features)"
   ]
  },
  {
   "cell_type": "code",
   "execution_count": 48,
   "metadata": {},
   "outputs": [
    {
     "data": {
      "text/plain": [
       "(450, 3, 3, 2048)"
      ]
     },
     "execution_count": 48,
     "metadata": {},
     "output_type": "execute_result"
    }
   ],
   "source": [
    "testing_features.shape"
   ]
  },
  {
   "cell_type": "code",
   "execution_count": 49,
   "metadata": {},
   "outputs": [],
   "source": [
    "model = Sequential()\n",
    "model.add(GlobalAveragePooling2D(input_shape=training_features.shape[1:]))\n",
    "\n",
    "model.add(Dense(units=640, activation='relu'))\n",
    "model.add(Dropout(rate=0.4))\n",
    "model.add(Dense(units=320, activation='relu'))\n",
    "model.add(Dropout(rate=0.2))\n",
    "model.add(Dense(units=NUM_CLASSES, activation='softmax'))\n",
    "\n",
    "model.compile(loss='categorical_crossentropy', optimizer='adam', metrics=['accuracy'])"
   ]
  },
  {
   "cell_type": "code",
   "execution_count": 53,
   "metadata": {
    "scrolled": true
   },
   "outputs": [
    {
     "name": "stdout",
     "output_type": "stream",
     "text": [
      "Train on 7200 samples, validate on 1800 samples\n",
      "Epoch 1/20\n",
      "7200/7200 [==============================] - 10s 1ms/sample - loss: 1.4812 - accuracy: 0.4618 - val_loss: 6.4830 - val_accuracy: 0.0000e+00\n",
      "Epoch 2/20\n",
      "7200/7200 [==============================] - 6s 870us/sample - loss: 1.0492 - accuracy: 0.6183 - val_loss: 8.3482 - val_accuracy: 0.0100\n",
      "Epoch 3/20\n",
      "7200/7200 [==============================] - 6s 839us/sample - loss: 0.8547 - accuracy: 0.6899 - val_loss: 7.4202 - val_accuracy: 0.0206\n",
      "Epoch 4/20\n",
      "7200/7200 [==============================] - 6s 838us/sample - loss: 0.7276 - accuracy: 0.7400 - val_loss: 8.3841 - val_accuracy: 0.0533\n",
      "Epoch 5/20\n",
      "7200/7200 [==============================] - 7s 907us/sample - loss: 0.6665 - accuracy: 0.7636 - val_loss: 8.9047 - val_accuracy: 0.0967\n",
      "Epoch 6/20\n",
      "7200/7200 [==============================] - 6s 806us/sample - loss: 0.5755 - accuracy: 0.7985 - val_loss: 9.5398 - val_accuracy: 0.1661\n",
      "Epoch 7/20\n",
      "7200/7200 [==============================] - 6s 845us/sample - loss: 0.5134 - accuracy: 0.8213 - val_loss: 11.0769 - val_accuracy: 0.1250\n",
      "Epoch 8/20\n",
      "7200/7200 [==============================] - 6s 847us/sample - loss: 0.4618 - accuracy: 0.8358 - val_loss: 10.8774 - val_accuracy: 0.0989\n",
      "Epoch 9/20\n",
      "7200/7200 [==============================] - 6s 860us/sample - loss: 0.4083 - accuracy: 0.8578 - val_loss: 11.3800 - val_accuracy: 0.2017\n",
      "Epoch 10/20\n",
      "7200/7200 [==============================] - 7s 929us/sample - loss: 0.3811 - accuracy: 0.8669 - val_loss: 11.6269 - val_accuracy: 0.2272\n",
      "Epoch 11/20\n",
      "7200/7200 [==============================] - 7s 988us/sample - loss: 0.3744 - accuracy: 0.8668 - val_loss: 11.7694 - val_accuracy: 0.1489\n",
      "Epoch 12/20\n",
      "7200/7200 [==============================] - 6s 902us/sample - loss: 0.3270 - accuracy: 0.8850 - val_loss: 12.0680 - val_accuracy: 0.1839\n",
      "Epoch 13/20\n",
      "7200/7200 [==============================] - 7s 913us/sample - loss: 0.3162 - accuracy: 0.8906 - val_loss: 12.5403 - val_accuracy: 0.2061\n",
      "Epoch 14/20\n",
      "7200/7200 [==============================] - 6s 867us/sample - loss: 0.3122 - accuracy: 0.8896 - val_loss: 13.2083 - val_accuracy: 0.1606\n",
      "Epoch 15/20\n",
      "7200/7200 [==============================] - 8s 1ms/sample - loss: 0.3091 - accuracy: 0.8919 - val_loss: 12.2601 - val_accuracy: 0.2644\n",
      "Epoch 16/20\n",
      "7200/7200 [==============================] - 8s 1ms/sample - loss: 0.2733 - accuracy: 0.9068 - val_loss: 11.1406 - val_accuracy: 0.2283\n",
      "Epoch 17/20\n",
      "7200/7200 [==============================] - 6s 876us/sample - loss: 0.2445 - accuracy: 0.9139 - val_loss: 15.3000 - val_accuracy: 0.2133\n",
      "Epoch 18/20\n",
      "7200/7200 [==============================] - 7s 924us/sample - loss: 0.2534 - accuracy: 0.9122 - val_loss: 13.5005 - val_accuracy: 0.3300\n",
      "Epoch 19/20\n",
      "7200/7200 [==============================] - 7s 950us/sample - loss: 0.2389 - accuracy: 0.9157 - val_loss: 16.2596 - val_accuracy: 0.2589\n",
      "Epoch 20/20\n",
      "7200/7200 [==============================] - 6s 875us/sample - loss: 0.2532 - accuracy: 0.9133 - val_loss: 13.2015 - val_accuracy: 0.2256\n"
     ]
    }
   ],
   "source": [
    "history = model.fit(training_features, y_training, batch_size=32, epochs=20, validation_split=0.2, verbose=True,\n",
    "                   shuffle=True)"
   ]
  },
  {
   "cell_type": "code",
   "execution_count": 54,
   "metadata": {},
   "outputs": [
    {
     "data": {
      "image/png": "[encoded data removed]",
      "text/plain": [
       "<Figure size 432x288 with 2 Axes>"
      ]
     },
     "metadata": {
      "needs_background": "light"
     },
     "output_type": "display_data"
    },
    {
     "name": "stdout",
     "output_type": "stream",
     "text": [
      "Test loss: 5.58\n",
      "Test accuracy: 0.613\n"
     ]
    }
   ],
   "source": [
    "plot_training_history(history, model)\n",
    "loss, accuracy = model.evaluate(testing_features, y_testing, verbose=False)\n",
    "print(f'Test loss: {loss:.3}')\n",
    "print(f'Test accuracy: {accuracy:.3}')"
   ]
  },
  {
   "cell_type": "code",
   "execution_count": 55,
   "metadata": {
    "scrolled": true
   },
   "outputs": [
    {
     "data": {
      "image/png": "[encoded data removed]",
      "text/plain": [
       "<Figure size 1080x1080 with 2 Axes>"
      ]
     },
     "metadata": {
      "needs_background": "light"
     },
     "output_type": "display_data"
    }
   ],
   "source": [
    "# When did our evaluator do poorly?\n",
    "predictions = model.predict(testing_features)\n",
    "cm = confusion_matrix(np.argmax(predictions, axis=1), np.argmax(y_testing, axis=1))\n",
    "plt.figure(figsize = (15, 15))\n",
    "\n",
    "name_labels = labels_list\n",
    "\n",
    "sn.heatmap(cm, annot=True, xticklabels=name_labels, yticklabels=name_labels)\n",
    "plt.show()"
   ]
  },
  {
   "cell_type": "markdown",
   "metadata": {},
   "source": [
    "# PART Id - Transfer Learning (VGG19)"
   ]
  },
  {
   "cell_type": "markdown",
   "metadata": {},
   "source": [
    "### FINAL FORMATING IMAGES BEFORE INPUT TO LEGACY NET"
   ]
  },
  {
   "cell_type": "code",
   "execution_count": 86,
   "metadata": {},
   "outputs": [],
   "source": [
    "def adjust_input_image_vgg19(rgb_data):\n",
    "    adjusted = ppi_vgg19(rgb_data)\n",
    "    \n",
    "    return adjusted"
   ]
  },
  {
   "cell_type": "code",
   "execution_count": 87,
   "metadata": {},
   "outputs": [],
   "source": [
    "X_training = np.array([adjust_input_image_vgg19(x) for x in image_array_big_dataset_training])"
   ]
  },
  {
   "cell_type": "code",
   "execution_count": 88,
   "metadata": {},
   "outputs": [],
   "source": [
    "X_testing = np.array([adjust_input_image_vgg19(x) for x in image_array_big_dataset_testing])"
   ]
  },
  {
   "cell_type": "code",
   "execution_count": 89,
   "metadata": {},
   "outputs": [],
   "source": [
    "base_model = VGG19(weights='imagenet', include_top=False, input_shape=(96,96, 3))"
   ]
  },
  {
   "cell_type": "code",
   "execution_count": 90,
   "metadata": {},
   "outputs": [
    {
     "name": "stdout",
     "output_type": "stream",
     "text": [
      "0 input_2\n",
      "1 block1_conv1\n",
      "2 block1_conv2\n",
      "3 block1_pool\n",
      "4 block2_conv1\n",
      "5 block2_conv2\n",
      "6 block2_pool\n",
      "7 block3_conv1\n",
      "8 block3_conv2\n",
      "9 block3_conv3\n",
      "10 block3_conv4\n",
      "11 block3_pool\n",
      "12 block4_conv1\n",
      "13 block4_conv2\n",
      "14 block4_conv3\n",
      "15 block4_conv4\n",
      "16 block4_pool\n",
      "17 block5_conv1\n",
      "18 block5_conv2\n",
      "19 block5_conv3\n",
      "20 block5_conv4\n",
      "21 block5_pool\n"
     ]
    }
   ],
   "source": [
    "for i, layer in enumerate(base_model.layers):\n",
    "    print(i, layer.name)"
   ]
  },
  {
   "cell_type": "code",
   "execution_count": 91,
   "metadata": {},
   "outputs": [
    {
     "name": "stdout",
     "output_type": "stream",
     "text": [
      "Model: \"vgg19\"\n",
      "_________________________________________________________________\n",
      "Layer (type)                 Output Shape              Param #   \n",
      "=================================================================\n",
      "input_2 (InputLayer)         [(None, 96, 96, 3)]       0         \n",
      "_________________________________________________________________\n",
      "block1_conv1 (Conv2D)        (None, 96, 96, 64)        1792      \n",
      "_________________________________________________________________\n",
      "block1_conv2 (Conv2D)        (None, 96, 96, 64)        36928     \n",
      "_________________________________________________________________\n",
      "block1_pool (MaxPooling2D)   (None, 48, 48, 64)        0         \n",
      "_________________________________________________________________\n",
      "block2_conv1 (Conv2D)        (None, 48, 48, 128)       73856     \n",
      "_________________________________________________________________\n",
      "block2_conv2 (Conv2D)        (None, 48, 48, 128)       147584    \n",
      "_________________________________________________________________\n",
      "block2_pool (MaxPooling2D)   (None, 24, 24, 128)       0         \n",
      "_________________________________________________________________\n",
      "block3_conv1 (Conv2D)        (None, 24, 24, 256)       295168    \n",
      "_________________________________________________________________\n",
      "block3_conv2 (Conv2D)        (None, 24, 24, 256)       590080    \n",
      "_________________________________________________________________\n",
      "block3_conv3 (Conv2D)        (None, 24, 24, 256)       590080    \n",
      "_________________________________________________________________\n",
      "block3_conv4 (Conv2D)        (None, 24, 24, 256)       590080    \n",
      "_________________________________________________________________\n",
      "block3_pool (MaxPooling2D)   (None, 12, 12, 256)       0         \n",
      "_________________________________________________________________\n",
      "block4_conv1 (Conv2D)        (None, 12, 12, 512)       1180160   \n",
      "_________________________________________________________________\n",
      "block4_conv2 (Conv2D)        (None, 12, 12, 512)       2359808   \n",
      "_________________________________________________________________\n",
      "block4_conv3 (Conv2D)        (None, 12, 12, 512)       2359808   \n",
      "_________________________________________________________________\n",
      "block4_conv4 (Conv2D)        (None, 12, 12, 512)       2359808   \n",
      "_________________________________________________________________\n",
      "block4_pool (MaxPooling2D)   (None, 6, 6, 512)         0         \n",
      "_________________________________________________________________\n",
      "block5_conv1 (Conv2D)        (None, 6, 6, 512)         2359808   \n",
      "_________________________________________________________________\n",
      "block5_conv2 (Conv2D)        (None, 6, 6, 512)         2359808   \n",
      "_________________________________________________________________\n",
      "block5_conv3 (Conv2D)        (None, 6, 6, 512)         2359808   \n",
      "_________________________________________________________________\n",
      "block5_conv4 (Conv2D)        (None, 6, 6, 512)         2359808   \n",
      "_________________________________________________________________\n",
      "block5_pool (MaxPooling2D)   (None, 3, 3, 512)         0         \n",
      "=================================================================\n",
      "Total params: 20,024,384\n",
      "Trainable params: 20,024,384\n",
      "Non-trainable params: 0\n",
      "_________________________________________________________________\n"
     ]
    }
   ],
   "source": [
    "base_model.summary()"
   ]
  },
  {
   "cell_type": "code",
   "execution_count": 4,
   "metadata": {},
   "outputs": [],
   "source": [
    "# LONG PROCESS HERE\n",
    "# KERACT allows to visualize each layer\n",
    "keract_inputs = X_training[:1]\n",
    "keract_targets = y_training[:1]\n",
    "activations = get_activations(base_model, keract_inputs)\n",
    "display_activations(activations, cmap=\"gray\", save=False)"
   ]
  },
  {
   "cell_type": "code",
   "execution_count": 93,
   "metadata": {},
   "outputs": [],
   "source": [
    "training_features = base_model.predict(X_training)\n",
    "#np.savez('MobileNetV2_features_train', features=training_features)"
   ]
  },
  {
   "cell_type": "code",
   "execution_count": 94,
   "metadata": {},
   "outputs": [
    {
     "data": {
      "text/plain": [
       "(9000, 3, 3, 512)"
      ]
     },
     "execution_count": 94,
     "metadata": {},
     "output_type": "execute_result"
    }
   ],
   "source": [
    "training_features.shape"
   ]
  },
  {
   "cell_type": "code",
   "execution_count": 96,
   "metadata": {},
   "outputs": [],
   "source": [
    "testing_features = base_model.predict(X_testing)\n",
    "#np.savez('MobileNetV2_features_test', features=testing_features)"
   ]
  },
  {
   "cell_type": "code",
   "execution_count": 97,
   "metadata": {},
   "outputs": [
    {
     "data": {
      "text/plain": [
       "(450, 3, 3, 512)"
      ]
     },
     "execution_count": 97,
     "metadata": {},
     "output_type": "execute_result"
    }
   ],
   "source": [
    "testing_features.shape"
   ]
  },
  {
   "cell_type": "code",
   "execution_count": 98,
   "metadata": {},
   "outputs": [],
   "source": [
    "model = Sequential()\n",
    "model.add(GlobalAveragePooling2D(input_shape=training_features.shape[1:]))\n",
    "\n",
    "model.add(Dense(units=640, activation='relu'))\n",
    "model.add(Dropout(rate=0.4))\n",
    "model.add(Dense(units=320, activation='relu'))\n",
    "model.add(Dropout(rate=0.2))\n",
    "model.add(Dense(units=NUM_CLASSES, activation='softmax'))\n",
    "\n",
    "model.compile(loss='categorical_crossentropy', optimizer='adam', metrics=['accuracy'])"
   ]
  },
  {
   "cell_type": "code",
   "execution_count": 99,
   "metadata": {
    "scrolled": true
   },
   "outputs": [
    {
     "name": "stdout",
     "output_type": "stream",
     "text": [
      "Train on 7200 samples, validate on 1800 samples\n",
      "Epoch 1/20\n",
      "7200/7200 [==============================] - 5s 668us/sample - loss: 1.8074 - accuracy: 0.4614 - val_loss: 6.4530 - val_accuracy: 0.0289\n",
      "Epoch 2/20\n",
      "7200/7200 [==============================] - 3s 424us/sample - loss: 0.9424 - accuracy: 0.6689 - val_loss: 7.9513 - val_accuracy: 0.1156\n",
      "Epoch 3/20\n",
      "7200/7200 [==============================] - 3s 425us/sample - loss: 0.6804 - accuracy: 0.7600 - val_loss: 9.1605 - val_accuracy: 0.1033\n",
      "Epoch 4/20\n",
      "7200/7200 [==============================] - 3s 430us/sample - loss: 0.5629 - accuracy: 0.8071 - val_loss: 9.4723 - val_accuracy: 0.1461\n",
      "Epoch 5/20\n",
      "7200/7200 [==============================] - 3s 440us/sample - loss: 0.4589 - accuracy: 0.8418 - val_loss: 9.5726 - val_accuracy: 0.1711\n",
      "Epoch 6/20\n",
      "7200/7200 [==============================] - 3s 430us/sample - loss: 0.3919 - accuracy: 0.8671 - val_loss: 10.5115 - val_accuracy: 0.1800\n",
      "Epoch 7/20\n",
      "7200/7200 [==============================] - 3s 424us/sample - loss: 0.3387 - accuracy: 0.8839 - val_loss: 11.1543 - val_accuracy: 0.1989\n",
      "Epoch 8/20\n",
      "7200/7200 [==============================] - 3s 425us/sample - loss: 0.2864 - accuracy: 0.8996 - val_loss: 10.9296 - val_accuracy: 0.2789\n",
      "Epoch 9/20\n",
      "7200/7200 [==============================] - 3s 380us/sample - loss: 0.2698 - accuracy: 0.9057 - val_loss: 11.3502 - val_accuracy: 0.2783\n",
      "Epoch 10/20\n",
      "7200/7200 [==============================] - 3s 381us/sample - loss: 0.2688 - accuracy: 0.9099 - val_loss: 12.9934 - val_accuracy: 0.2906\n",
      "Epoch 11/20\n",
      "7200/7200 [==============================] - 3s 390us/sample - loss: 0.2487 - accuracy: 0.9154 - val_loss: 11.8186 - val_accuracy: 0.2100\n",
      "Epoch 12/20\n",
      "7200/7200 [==============================] - 3s 388us/sample - loss: 0.2200 - accuracy: 0.9240 - val_loss: 14.1090 - val_accuracy: 0.1872\n",
      "Epoch 13/20\n",
      "7200/7200 [==============================] - 3s 383us/sample - loss: 0.1946 - accuracy: 0.9344 - val_loss: 14.4496 - val_accuracy: 0.2783\n",
      "Epoch 14/20\n",
      "7200/7200 [==============================] - 3s 383us/sample - loss: 0.1839 - accuracy: 0.9335 - val_loss: 13.7160 - val_accuracy: 0.2622\n",
      "Epoch 15/20\n",
      "7200/7200 [==============================] - 3s 379us/sample - loss: 0.1726 - accuracy: 0.9390 - val_loss: 12.8754 - val_accuracy: 0.3000\n",
      "Epoch 16/20\n",
      "7200/7200 [==============================] - 3s 380us/sample - loss: 0.1868 - accuracy: 0.9401 - val_loss: 14.2724 - val_accuracy: 0.2844\n",
      "Epoch 17/20\n",
      "7200/7200 [==============================] - 3s 380us/sample - loss: 0.1599 - accuracy: 0.9458 - val_loss: 13.6514 - val_accuracy: 0.2456\n",
      "Epoch 18/20\n",
      "7200/7200 [==============================] - 3s 383us/sample - loss: 0.1667 - accuracy: 0.9457 - val_loss: 11.9511 - val_accuracy: 0.3189\n",
      "Epoch 19/20\n",
      "7200/7200 [==============================] - 3s 383us/sample - loss: 0.1545 - accuracy: 0.9499 - val_loss: 14.2654 - val_accuracy: 0.3400\n",
      "Epoch 20/20\n",
      "7200/7200 [==============================] - 3s 379us/sample - loss: 0.1615 - accuracy: 0.9461 - val_loss: 15.1687 - val_accuracy: 0.3094\n"
     ]
    }
   ],
   "source": [
    "history = model.fit(training_features, y_training, batch_size=32, epochs=20, validation_split=0.2, verbose=True,\n",
    "                   shuffle=True)"
   ]
  },
  {
   "cell_type": "code",
   "execution_count": 100,
   "metadata": {},
   "outputs": [
    {
     "data": {
      "image/png": "[encoded data removed]",
      "text/plain": [
       "<Figure size 432x288 with 2 Axes>"
      ]
     },
     "metadata": {
      "needs_background": "light"
     },
     "output_type": "display_data"
    },
    {
     "name": "stdout",
     "output_type": "stream",
     "text": [
      "Test loss: 6.69\n",
      "Test accuracy: 0.633\n"
     ]
    }
   ],
   "source": [
    "plot_training_history(history, model)\n",
    "loss, accuracy = model.evaluate(testing_features, y_testing, verbose=False)\n",
    "print(f'Test loss: {loss:.3}')\n",
    "print(f'Test accuracy: {accuracy:.3}')"
   ]
  },
  {
   "cell_type": "code",
   "execution_count": 101,
   "metadata": {
    "scrolled": true
   },
   "outputs": [
    {
     "data": {
      "image/png": "[encoded data removed]",
      "text/plain": [
       "<Figure size 1080x1080 with 2 Axes>"
      ]
     },
     "metadata": {
      "needs_background": "light"
     },
     "output_type": "display_data"
    }
   ],
   "source": [
    "# When did our evaluator do poorly?\n",
    "predictions = model.predict(testing_features)\n",
    "cm = confusion_matrix(np.argmax(predictions, axis=1), np.argmax(y_testing, axis=1))\n",
    "plt.figure(figsize = (15, 15))\n",
    "\n",
    "name_labels = labels_list\n",
    "\n",
    "sn.heatmap(cm, annot=True, xticklabels=name_labels, yticklabels=name_labels)\n",
    "plt.show()"
   ]
  },
  {
   "cell_type": "markdown",
   "metadata": {},
   "source": [
    "# PART 2 - Ignoring Some Layers and Fine Tuning (MOBILENET_V2)"
   ]
  },
  {
   "cell_type": "markdown",
   "metadata": {},
   "source": [
    "### FINAL FORMATING IMAGES BEFORE INPUT TO LEGACY NET"
   ]
  },
  {
   "cell_type": "code",
   "execution_count": 37,
   "metadata": {},
   "outputs": [],
   "source": [
    "def adjust_input_image_mobilnet_v2(rgb_data):\n",
    "    adjusted = ppi_mobilnet_v2(rgb_data)\n",
    "    \n",
    "    return adjusted"
   ]
  },
  {
   "cell_type": "code",
   "execution_count": 38,
   "metadata": {},
   "outputs": [],
   "source": [
    "X_training = np.array([adjust_input_image_mobilnet_v2(x) for x in image_array_big_dataset_training])"
   ]
  },
  {
   "cell_type": "code",
   "execution_count": 39,
   "metadata": {},
   "outputs": [],
   "source": [
    "y_training = to_categorical(labels_code_CATEGORY_big_dataset_training, NUM_CLASSES)"
   ]
  },
  {
   "cell_type": "code",
   "execution_count": 40,
   "metadata": {},
   "outputs": [],
   "source": [
    "X_testing = np.array([adjust_input_image_mobilnet_v2(x) for x in image_array_big_dataset_testing])"
   ]
  },
  {
   "cell_type": "code",
   "execution_count": 41,
   "metadata": {},
   "outputs": [],
   "source": [
    "y_testing = to_categorical(labels_code_CATEGORY_big_dataset_testing, NUM_CLASSES)"
   ]
  },
  {
   "cell_type": "code",
   "execution_count": 42,
   "metadata": {
    "scrolled": true
   },
   "outputs": [],
   "source": [
    "# MOBILENET V2\n",
    "base_model = MobileNetV2(weights='imagenet', include_top=False, input_shape=(96,96, 3))\n",
    "\n",
    "# Layers go from 0-154\n",
    "#   initial=0-9\n",
    "#   block1 = 10-18\n",
    "#   block2 = 19-27\n",
    "#   block3 = 28-36\n",
    "#   block4 = 37-45\n",
    "#   block5 = 46-54\n",
    "#   block6 = 55-63\n",
    "#.  block7 = 64-72\n",
    "#   block8 = 73-81\n",
    "#.  block9 = 81-90\n",
    "#   block10= 91-98\n",
    "#   block11= 99-107\n",
    "#.  block12= 108-116\n",
    "#.  block13= 117-125\n",
    "#   block14= 126-134\n",
    "#.  block15= 135-143\n",
    "#.  block16= 144-151\n",
    "#.  final_conv = 152, \n",
    "#   conv_bn 153\n",
    "#   out_relu = 154\n"
   ]
  },
  {
   "cell_type": "code",
   "execution_count": 43,
   "metadata": {},
   "outputs": [
    {
     "name": "stdout",
     "output_type": "stream",
     "text": [
      "0 input_1\n",
      "1 Conv1_pad\n",
      "2 Conv1\n",
      "3 bn_Conv1\n",
      "4 Conv1_relu\n",
      "5 expanded_conv_depthwise\n",
      "6 expanded_conv_depthwise_BN\n",
      "7 expanded_conv_depthwise_relu\n",
      "8 expanded_conv_project\n",
      "9 expanded_conv_project_BN\n",
      "10 block_1_expand\n",
      "11 block_1_expand_BN\n",
      "12 block_1_expand_relu\n",
      "13 block_1_pad\n",
      "14 block_1_depthwise\n",
      "15 block_1_depthwise_BN\n",
      "16 block_1_depthwise_relu\n",
      "17 block_1_project\n",
      "18 block_1_project_BN\n",
      "19 block_2_expand\n",
      "20 block_2_expand_BN\n",
      "21 block_2_expand_relu\n",
      "22 block_2_depthwise\n",
      "23 block_2_depthwise_BN\n",
      "24 block_2_depthwise_relu\n",
      "25 block_2_project\n",
      "26 block_2_project_BN\n",
      "27 block_2_add\n",
      "28 block_3_expand\n",
      "29 block_3_expand_BN\n",
      "30 block_3_expand_relu\n",
      "31 block_3_pad\n",
      "32 block_3_depthwise\n",
      "33 block_3_depthwise_BN\n",
      "34 block_3_depthwise_relu\n",
      "35 block_3_project\n",
      "36 block_3_project_BN\n",
      "37 block_4_expand\n",
      "38 block_4_expand_BN\n",
      "39 block_4_expand_relu\n",
      "40 block_4_depthwise\n",
      "41 block_4_depthwise_BN\n",
      "42 block_4_depthwise_relu\n",
      "43 block_4_project\n",
      "44 block_4_project_BN\n",
      "45 block_4_add\n",
      "46 block_5_expand\n",
      "47 block_5_expand_BN\n",
      "48 block_5_expand_relu\n",
      "49 block_5_depthwise\n",
      "50 block_5_depthwise_BN\n",
      "51 block_5_depthwise_relu\n",
      "52 block_5_project\n",
      "53 block_5_project_BN\n",
      "54 block_5_add\n",
      "55 block_6_expand\n",
      "56 block_6_expand_BN\n",
      "57 block_6_expand_relu\n",
      "58 block_6_pad\n",
      "59 block_6_depthwise\n",
      "60 block_6_depthwise_BN\n",
      "61 block_6_depthwise_relu\n",
      "62 block_6_project\n",
      "63 block_6_project_BN\n",
      "64 block_7_expand\n",
      "65 block_7_expand_BN\n",
      "66 block_7_expand_relu\n",
      "67 block_7_depthwise\n",
      "68 block_7_depthwise_BN\n",
      "69 block_7_depthwise_relu\n",
      "70 block_7_project\n",
      "71 block_7_project_BN\n",
      "72 block_7_add\n",
      "73 block_8_expand\n",
      "74 block_8_expand_BN\n",
      "75 block_8_expand_relu\n",
      "76 block_8_depthwise\n",
      "77 block_8_depthwise_BN\n",
      "78 block_8_depthwise_relu\n",
      "79 block_8_project\n",
      "80 block_8_project_BN\n",
      "81 block_8_add\n",
      "82 block_9_expand\n",
      "83 block_9_expand_BN\n",
      "84 block_9_expand_relu\n",
      "85 block_9_depthwise\n",
      "86 block_9_depthwise_BN\n",
      "87 block_9_depthwise_relu\n",
      "88 block_9_project\n",
      "89 block_9_project_BN\n",
      "90 block_9_add\n",
      "91 block_10_expand\n",
      "92 block_10_expand_BN\n",
      "93 block_10_expand_relu\n",
      "94 block_10_depthwise\n",
      "95 block_10_depthwise_BN\n",
      "96 block_10_depthwise_relu\n",
      "97 block_10_project\n",
      "98 block_10_project_BN\n",
      "99 block_11_expand\n",
      "100 block_11_expand_BN\n",
      "101 block_11_expand_relu\n",
      "102 block_11_depthwise\n",
      "103 block_11_depthwise_BN\n",
      "104 block_11_depthwise_relu\n",
      "105 block_11_project\n",
      "106 block_11_project_BN\n",
      "107 block_11_add\n",
      "108 block_12_expand\n",
      "109 block_12_expand_BN\n",
      "110 block_12_expand_relu\n",
      "111 block_12_depthwise\n",
      "112 block_12_depthwise_BN\n",
      "113 block_12_depthwise_relu\n",
      "114 block_12_project\n",
      "115 block_12_project_BN\n",
      "116 block_12_add\n",
      "117 block_13_expand\n",
      "118 block_13_expand_BN\n",
      "119 block_13_expand_relu\n",
      "120 block_13_pad\n",
      "121 block_13_depthwise\n",
      "122 block_13_depthwise_BN\n",
      "123 block_13_depthwise_relu\n",
      "124 block_13_project\n",
      "125 block_13_project_BN\n",
      "126 block_14_expand\n",
      "127 block_14_expand_BN\n",
      "128 block_14_expand_relu\n",
      "129 block_14_depthwise\n",
      "130 block_14_depthwise_BN\n",
      "131 block_14_depthwise_relu\n",
      "132 block_14_project\n",
      "133 block_14_project_BN\n",
      "134 block_14_add\n",
      "135 block_15_expand\n",
      "136 block_15_expand_BN\n",
      "137 block_15_expand_relu\n",
      "138 block_15_depthwise\n",
      "139 block_15_depthwise_BN\n",
      "140 block_15_depthwise_relu\n",
      "141 block_15_project\n",
      "142 block_15_project_BN\n",
      "143 block_15_add\n",
      "144 block_16_expand\n",
      "145 block_16_expand_BN\n",
      "146 block_16_expand_relu\n",
      "147 block_16_depthwise\n",
      "148 block_16_depthwise_BN\n",
      "149 block_16_depthwise_relu\n",
      "150 block_16_project\n",
      "151 block_16_project_BN\n",
      "152 Conv_1\n",
      "153 Conv_1_bn\n",
      "154 out_relu\n"
     ]
    }
   ],
   "source": [
    "for i, layer in enumerate(base_model.layers):\n",
    "    print(i, layer.name)"
   ]
  },
  {
   "cell_type": "code",
   "execution_count": 44,
   "metadata": {},
   "outputs": [
    {
     "name": "stdout",
     "output_type": "stream",
     "text": [
      "Model: \"mobilenetv2_1.00_96\"\n",
      "__________________________________________________________________________________________________\n",
      "Layer (type)                    Output Shape         Param #     Connected to                     \n",
      "==================================================================================================\n",
      "input_1 (InputLayer)            [(None, 96, 96, 3)]  0                                            \n",
      "__________________________________________________________________________________________________\n",
      "Conv1_pad (ZeroPadding2D)       (None, 97, 97, 3)    0           input_1[0][0]                    \n",
      "__________________________________________________________________________________________________\n",
      "Conv1 (Conv2D)                  (None, 48, 48, 32)   864         Conv1_pad[0][0]                  \n",
      "__________________________________________________________________________________________________\n",
      "bn_Conv1 (BatchNormalization)   (None, 48, 48, 32)   128         Conv1[0][0]                      \n",
      "__________________________________________________________________________________________________\n",
      "Conv1_relu (ReLU)               (None, 48, 48, 32)   0           bn_Conv1[0][0]                   \n",
      "__________________________________________________________________________________________________\n",
      "expanded_conv_depthwise (Depthw (None, 48, 48, 32)   288         Conv1_relu[0][0]                 \n",
      "__________________________________________________________________________________________________\n",
      "expanded_conv_depthwise_BN (Bat (None, 48, 48, 32)   128         expanded_conv_depthwise[0][0]    \n",
      "__________________________________________________________________________________________________\n",
      "expanded_conv_depthwise_relu (R (None, 48, 48, 32)   0           expanded_conv_depthwise_BN[0][0] \n",
      "__________________________________________________________________________________________________\n",
      "expanded_conv_project (Conv2D)  (None, 48, 48, 16)   512         expanded_conv_depthwise_relu[0][0\n",
      "__________________________________________________________________________________________________\n",
      "expanded_conv_project_BN (Batch (None, 48, 48, 16)   64          expanded_conv_project[0][0]      \n",
      "__________________________________________________________________________________________________\n",
      "block_1_expand (Conv2D)         (None, 48, 48, 96)   1536        expanded_conv_project_BN[0][0]   \n",
      "__________________________________________________________________________________________________\n",
      "block_1_expand_BN (BatchNormali (None, 48, 48, 96)   384         block_1_expand[0][0]             \n",
      "__________________________________________________________________________________________________\n",
      "block_1_expand_relu (ReLU)      (None, 48, 48, 96)   0           block_1_expand_BN[0][0]          \n",
      "__________________________________________________________________________________________________\n",
      "block_1_pad (ZeroPadding2D)     (None, 49, 49, 96)   0           block_1_expand_relu[0][0]        \n",
      "__________________________________________________________________________________________________\n",
      "block_1_depthwise (DepthwiseCon (None, 24, 24, 96)   864         block_1_pad[0][0]                \n",
      "__________________________________________________________________________________________________\n",
      "block_1_depthwise_BN (BatchNorm (None, 24, 24, 96)   384         block_1_depthwise[0][0]          \n",
      "__________________________________________________________________________________________________\n",
      "block_1_depthwise_relu (ReLU)   (None, 24, 24, 96)   0           block_1_depthwise_BN[0][0]       \n",
      "__________________________________________________________________________________________________\n",
      "block_1_project (Conv2D)        (None, 24, 24, 24)   2304        block_1_depthwise_relu[0][0]     \n",
      "__________________________________________________________________________________________________\n",
      "block_1_project_BN (BatchNormal (None, 24, 24, 24)   96          block_1_project[0][0]            \n",
      "__________________________________________________________________________________________________\n",
      "block_2_expand (Conv2D)         (None, 24, 24, 144)  3456        block_1_project_BN[0][0]         \n",
      "__________________________________________________________________________________________________\n",
      "block_2_expand_BN (BatchNormali (None, 24, 24, 144)  576         block_2_expand[0][0]             \n",
      "__________________________________________________________________________________________________\n",
      "block_2_expand_relu (ReLU)      (None, 24, 24, 144)  0           block_2_expand_BN[0][0]          \n",
      "__________________________________________________________________________________________________\n",
      "block_2_depthwise (DepthwiseCon (None, 24, 24, 144)  1296        block_2_expand_relu[0][0]        \n",
      "__________________________________________________________________________________________________\n",
      "block_2_depthwise_BN (BatchNorm (None, 24, 24, 144)  576         block_2_depthwise[0][0]          \n",
      "__________________________________________________________________________________________________\n",
      "block_2_depthwise_relu (ReLU)   (None, 24, 24, 144)  0           block_2_depthwise_BN[0][0]       \n",
      "__________________________________________________________________________________________________\n",
      "block_2_project (Conv2D)        (None, 24, 24, 24)   3456        block_2_depthwise_relu[0][0]     \n",
      "__________________________________________________________________________________________________\n",
      "block_2_project_BN (BatchNormal (None, 24, 24, 24)   96          block_2_project[0][0]            \n",
      "__________________________________________________________________________________________________\n",
      "block_2_add (Add)               (None, 24, 24, 24)   0           block_1_project_BN[0][0]         \n",
      "                                                                 block_2_project_BN[0][0]         \n",
      "__________________________________________________________________________________________________\n",
      "block_3_expand (Conv2D)         (None, 24, 24, 144)  3456        block_2_add[0][0]                \n",
      "__________________________________________________________________________________________________\n",
      "block_3_expand_BN (BatchNormali (None, 24, 24, 144)  576         block_3_expand[0][0]             \n",
      "__________________________________________________________________________________________________\n",
      "block_3_expand_relu (ReLU)      (None, 24, 24, 144)  0           block_3_expand_BN[0][0]          \n",
      "__________________________________________________________________________________________________\n",
      "block_3_pad (ZeroPadding2D)     (None, 25, 25, 144)  0           block_3_expand_relu[0][0]        \n",
      "__________________________________________________________________________________________________\n",
      "block_3_depthwise (DepthwiseCon (None, 12, 12, 144)  1296        block_3_pad[0][0]                \n",
      "__________________________________________________________________________________________________\n",
      "block_3_depthwise_BN (BatchNorm (None, 12, 12, 144)  576         block_3_depthwise[0][0]          \n",
      "__________________________________________________________________________________________________\n",
      "block_3_depthwise_relu (ReLU)   (None, 12, 12, 144)  0           block_3_depthwise_BN[0][0]       \n",
      "__________________________________________________________________________________________________\n",
      "block_3_project (Conv2D)        (None, 12, 12, 32)   4608        block_3_depthwise_relu[0][0]     \n",
      "__________________________________________________________________________________________________\n",
      "block_3_project_BN (BatchNormal (None, 12, 12, 32)   128         block_3_project[0][0]            \n",
      "__________________________________________________________________________________________________\n",
      "block_4_expand (Conv2D)         (None, 12, 12, 192)  6144        block_3_project_BN[0][0]         \n",
      "__________________________________________________________________________________________________\n",
      "block_4_expand_BN (BatchNormali (None, 12, 12, 192)  768         block_4_expand[0][0]             \n",
      "__________________________________________________________________________________________________\n",
      "block_4_expand_relu (ReLU)      (None, 12, 12, 192)  0           block_4_expand_BN[0][0]          \n",
      "__________________________________________________________________________________________________\n",
      "block_4_depthwise (DepthwiseCon (None, 12, 12, 192)  1728        block_4_expand_relu[0][0]        \n",
      "__________________________________________________________________________________________________\n",
      "block_4_depthwise_BN (BatchNorm (None, 12, 12, 192)  768         block_4_depthwise[0][0]          \n",
      "__________________________________________________________________________________________________\n",
      "block_4_depthwise_relu (ReLU)   (None, 12, 12, 192)  0           block_4_depthwise_BN[0][0]       \n",
      "__________________________________________________________________________________________________\n",
      "block_4_project (Conv2D)        (None, 12, 12, 32)   6144        block_4_depthwise_relu[0][0]     \n",
      "__________________________________________________________________________________________________\n",
      "block_4_project_BN (BatchNormal (None, 12, 12, 32)   128         block_4_project[0][0]            \n",
      "__________________________________________________________________________________________________\n",
      "block_4_add (Add)               (None, 12, 12, 32)   0           block_3_project_BN[0][0]         \n",
      "                                                                 block_4_project_BN[0][0]         \n",
      "__________________________________________________________________________________________________\n",
      "block_5_expand (Conv2D)         (None, 12, 12, 192)  6144        block_4_add[0][0]                \n",
      "__________________________________________________________________________________________________\n",
      "block_5_expand_BN (BatchNormali (None, 12, 12, 192)  768         block_5_expand[0][0]             \n",
      "__________________________________________________________________________________________________\n",
      "block_5_expand_relu (ReLU)      (None, 12, 12, 192)  0           block_5_expand_BN[0][0]          \n",
      "__________________________________________________________________________________________________\n",
      "block_5_depthwise (DepthwiseCon (None, 12, 12, 192)  1728        block_5_expand_relu[0][0]        \n",
      "__________________________________________________________________________________________________\n",
      "block_5_depthwise_BN (BatchNorm (None, 12, 12, 192)  768         block_5_depthwise[0][0]          \n",
      "__________________________________________________________________________________________________\n",
      "block_5_depthwise_relu (ReLU)   (None, 12, 12, 192)  0           block_5_depthwise_BN[0][0]       \n",
      "__________________________________________________________________________________________________\n",
      "block_5_project (Conv2D)        (None, 12, 12, 32)   6144        block_5_depthwise_relu[0][0]     \n",
      "__________________________________________________________________________________________________\n",
      "block_5_project_BN (BatchNormal (None, 12, 12, 32)   128         block_5_project[0][0]            \n",
      "__________________________________________________________________________________________________\n",
      "block_5_add (Add)               (None, 12, 12, 32)   0           block_4_add[0][0]                \n",
      "                                                                 block_5_project_BN[0][0]         \n",
      "__________________________________________________________________________________________________\n",
      "block_6_expand (Conv2D)         (None, 12, 12, 192)  6144        block_5_add[0][0]                \n",
      "__________________________________________________________________________________________________\n",
      "block_6_expand_BN (BatchNormali (None, 12, 12, 192)  768         block_6_expand[0][0]             \n",
      "__________________________________________________________________________________________________\n",
      "block_6_expand_relu (ReLU)      (None, 12, 12, 192)  0           block_6_expand_BN[0][0]          \n",
      "__________________________________________________________________________________________________\n",
      "block_6_pad (ZeroPadding2D)     (None, 13, 13, 192)  0           block_6_expand_relu[0][0]        \n",
      "__________________________________________________________________________________________________\n",
      "block_6_depthwise (DepthwiseCon (None, 6, 6, 192)    1728        block_6_pad[0][0]                \n",
      "__________________________________________________________________________________________________\n",
      "block_6_depthwise_BN (BatchNorm (None, 6, 6, 192)    768         block_6_depthwise[0][0]          \n",
      "__________________________________________________________________________________________________\n",
      "block_6_depthwise_relu (ReLU)   (None, 6, 6, 192)    0           block_6_depthwise_BN[0][0]       \n",
      "__________________________________________________________________________________________________\n",
      "block_6_project (Conv2D)        (None, 6, 6, 64)     12288       block_6_depthwise_relu[0][0]     \n",
      "__________________________________________________________________________________________________\n",
      "block_6_project_BN (BatchNormal (None, 6, 6, 64)     256         block_6_project[0][0]            \n",
      "__________________________________________________________________________________________________\n",
      "block_7_expand (Conv2D)         (None, 6, 6, 384)    24576       block_6_project_BN[0][0]         \n",
      "__________________________________________________________________________________________________\n",
      "block_7_expand_BN (BatchNormali (None, 6, 6, 384)    1536        block_7_expand[0][0]             \n",
      "__________________________________________________________________________________________________\n",
      "block_7_expand_relu (ReLU)      (None, 6, 6, 384)    0           block_7_expand_BN[0][0]          \n",
      "__________________________________________________________________________________________________\n",
      "block_7_depthwise (DepthwiseCon (None, 6, 6, 384)    3456        block_7_expand_relu[0][0]        \n",
      "__________________________________________________________________________________________________\n",
      "block_7_depthwise_BN (BatchNorm (None, 6, 6, 384)    1536        block_7_depthwise[0][0]          \n",
      "__________________________________________________________________________________________________\n",
      "block_7_depthwise_relu (ReLU)   (None, 6, 6, 384)    0           block_7_depthwise_BN[0][0]       \n",
      "__________________________________________________________________________________________________\n",
      "block_7_project (Conv2D)        (None, 6, 6, 64)     24576       block_7_depthwise_relu[0][0]     \n",
      "__________________________________________________________________________________________________\n",
      "block_7_project_BN (BatchNormal (None, 6, 6, 64)     256         block_7_project[0][0]            \n",
      "__________________________________________________________________________________________________\n",
      "block_7_add (Add)               (None, 6, 6, 64)     0           block_6_project_BN[0][0]         \n",
      "                                                                 block_7_project_BN[0][0]         \n",
      "__________________________________________________________________________________________________\n",
      "block_8_expand (Conv2D)         (None, 6, 6, 384)    24576       block_7_add[0][0]                \n",
      "__________________________________________________________________________________________________\n",
      "block_8_expand_BN (BatchNormali (None, 6, 6, 384)    1536        block_8_expand[0][0]             \n",
      "__________________________________________________________________________________________________\n",
      "block_8_expand_relu (ReLU)      (None, 6, 6, 384)    0           block_8_expand_BN[0][0]          \n",
      "__________________________________________________________________________________________________\n",
      "block_8_depthwise (DepthwiseCon (None, 6, 6, 384)    3456        block_8_expand_relu[0][0]        \n",
      "__________________________________________________________________________________________________\n",
      "block_8_depthwise_BN (BatchNorm (None, 6, 6, 384)    1536        block_8_depthwise[0][0]          \n",
      "__________________________________________________________________________________________________\n",
      "block_8_depthwise_relu (ReLU)   (None, 6, 6, 384)    0           block_8_depthwise_BN[0][0]       \n",
      "__________________________________________________________________________________________________\n",
      "block_8_project (Conv2D)        (None, 6, 6, 64)     24576       block_8_depthwise_relu[0][0]     \n",
      "__________________________________________________________________________________________________\n",
      "block_8_project_BN (BatchNormal (None, 6, 6, 64)     256         block_8_project[0][0]            \n",
      "__________________________________________________________________________________________________\n",
      "block_8_add (Add)               (None, 6, 6, 64)     0           block_7_add[0][0]                \n",
      "                                                                 block_8_project_BN[0][0]         \n",
      "__________________________________________________________________________________________________\n",
      "block_9_expand (Conv2D)         (None, 6, 6, 384)    24576       block_8_add[0][0]                \n",
      "__________________________________________________________________________________________________\n",
      "block_9_expand_BN (BatchNormali (None, 6, 6, 384)    1536        block_9_expand[0][0]             \n",
      "__________________________________________________________________________________________________\n",
      "block_9_expand_relu (ReLU)      (None, 6, 6, 384)    0           block_9_expand_BN[0][0]          \n",
      "__________________________________________________________________________________________________\n",
      "block_9_depthwise (DepthwiseCon (None, 6, 6, 384)    3456        block_9_expand_relu[0][0]        \n",
      "__________________________________________________________________________________________________\n",
      "block_9_depthwise_BN (BatchNorm (None, 6, 6, 384)    1536        block_9_depthwise[0][0]          \n",
      "__________________________________________________________________________________________________\n",
      "block_9_depthwise_relu (ReLU)   (None, 6, 6, 384)    0           block_9_depthwise_BN[0][0]       \n",
      "__________________________________________________________________________________________________\n",
      "block_9_project (Conv2D)        (None, 6, 6, 64)     24576       block_9_depthwise_relu[0][0]     \n",
      "__________________________________________________________________________________________________\n",
      "block_9_project_BN (BatchNormal (None, 6, 6, 64)     256         block_9_project[0][0]            \n",
      "__________________________________________________________________________________________________\n",
      "block_9_add (Add)               (None, 6, 6, 64)     0           block_8_add[0][0]                \n",
      "                                                                 block_9_project_BN[0][0]         \n",
      "__________________________________________________________________________________________________\n",
      "block_10_expand (Conv2D)        (None, 6, 6, 384)    24576       block_9_add[0][0]                \n",
      "__________________________________________________________________________________________________\n",
      "block_10_expand_BN (BatchNormal (None, 6, 6, 384)    1536        block_10_expand[0][0]            \n",
      "__________________________________________________________________________________________________\n",
      "block_10_expand_relu (ReLU)     (None, 6, 6, 384)    0           block_10_expand_BN[0][0]         \n",
      "__________________________________________________________________________________________________\n",
      "block_10_depthwise (DepthwiseCo (None, 6, 6, 384)    3456        block_10_expand_relu[0][0]       \n",
      "__________________________________________________________________________________________________\n",
      "block_10_depthwise_BN (BatchNor (None, 6, 6, 384)    1536        block_10_depthwise[0][0]         \n",
      "__________________________________________________________________________________________________\n",
      "block_10_depthwise_relu (ReLU)  (None, 6, 6, 384)    0           block_10_depthwise_BN[0][0]      \n",
      "__________________________________________________________________________________________________\n",
      "block_10_project (Conv2D)       (None, 6, 6, 96)     36864       block_10_depthwise_relu[0][0]    \n",
      "__________________________________________________________________________________________________\n",
      "block_10_project_BN (BatchNorma (None, 6, 6, 96)     384         block_10_project[0][0]           \n",
      "__________________________________________________________________________________________________\n",
      "block_11_expand (Conv2D)        (None, 6, 6, 576)    55296       block_10_project_BN[0][0]        \n",
      "__________________________________________________________________________________________________\n",
      "block_11_expand_BN (BatchNormal (None, 6, 6, 576)    2304        block_11_expand[0][0]            \n",
      "__________________________________________________________________________________________________\n",
      "block_11_expand_relu (ReLU)     (None, 6, 6, 576)    0           block_11_expand_BN[0][0]         \n",
      "__________________________________________________________________________________________________\n",
      "block_11_depthwise (DepthwiseCo (None, 6, 6, 576)    5184        block_11_expand_relu[0][0]       \n",
      "__________________________________________________________________________________________________\n",
      "block_11_depthwise_BN (BatchNor (None, 6, 6, 576)    2304        block_11_depthwise[0][0]         \n",
      "__________________________________________________________________________________________________\n",
      "block_11_depthwise_relu (ReLU)  (None, 6, 6, 576)    0           block_11_depthwise_BN[0][0]      \n",
      "__________________________________________________________________________________________________\n",
      "block_11_project (Conv2D)       (None, 6, 6, 96)     55296       block_11_depthwise_relu[0][0]    \n",
      "__________________________________________________________________________________________________\n",
      "block_11_project_BN (BatchNorma (None, 6, 6, 96)     384         block_11_project[0][0]           \n",
      "__________________________________________________________________________________________________\n",
      "block_11_add (Add)              (None, 6, 6, 96)     0           block_10_project_BN[0][0]        \n",
      "                                                                 block_11_project_BN[0][0]        \n",
      "__________________________________________________________________________________________________\n",
      "block_12_expand (Conv2D)        (None, 6, 6, 576)    55296       block_11_add[0][0]               \n",
      "__________________________________________________________________________________________________\n",
      "block_12_expand_BN (BatchNormal (None, 6, 6, 576)    2304        block_12_expand[0][0]            \n",
      "__________________________________________________________________________________________________\n",
      "block_12_expand_relu (ReLU)     (None, 6, 6, 576)    0           block_12_expand_BN[0][0]         \n",
      "__________________________________________________________________________________________________\n",
      "block_12_depthwise (DepthwiseCo (None, 6, 6, 576)    5184        block_12_expand_relu[0][0]       \n",
      "__________________________________________________________________________________________________\n",
      "block_12_depthwise_BN (BatchNor (None, 6, 6, 576)    2304        block_12_depthwise[0][0]         \n",
      "__________________________________________________________________________________________________\n",
      "block_12_depthwise_relu (ReLU)  (None, 6, 6, 576)    0           block_12_depthwise_BN[0][0]      \n",
      "__________________________________________________________________________________________________\n",
      "block_12_project (Conv2D)       (None, 6, 6, 96)     55296       block_12_depthwise_relu[0][0]    \n",
      "__________________________________________________________________________________________________\n",
      "block_12_project_BN (BatchNorma (None, 6, 6, 96)     384         block_12_project[0][0]           \n",
      "__________________________________________________________________________________________________\n",
      "block_12_add (Add)              (None, 6, 6, 96)     0           block_11_add[0][0]               \n",
      "                                                                 block_12_project_BN[0][0]        \n",
      "__________________________________________________________________________________________________\n",
      "block_13_expand (Conv2D)        (None, 6, 6, 576)    55296       block_12_add[0][0]               \n",
      "__________________________________________________________________________________________________\n",
      "block_13_expand_BN (BatchNormal (None, 6, 6, 576)    2304        block_13_expand[0][0]            \n",
      "__________________________________________________________________________________________________\n",
      "block_13_expand_relu (ReLU)     (None, 6, 6, 576)    0           block_13_expand_BN[0][0]         \n",
      "__________________________________________________________________________________________________\n",
      "block_13_pad (ZeroPadding2D)    (None, 7, 7, 576)    0           block_13_expand_relu[0][0]       \n",
      "__________________________________________________________________________________________________\n",
      "block_13_depthwise (DepthwiseCo (None, 3, 3, 576)    5184        block_13_pad[0][0]               \n",
      "__________________________________________________________________________________________________\n",
      "block_13_depthwise_BN (BatchNor (None, 3, 3, 576)    2304        block_13_depthwise[0][0]         \n",
      "__________________________________________________________________________________________________\n",
      "block_13_depthwise_relu (ReLU)  (None, 3, 3, 576)    0           block_13_depthwise_BN[0][0]      \n",
      "__________________________________________________________________________________________________\n",
      "block_13_project (Conv2D)       (None, 3, 3, 160)    92160       block_13_depthwise_relu[0][0]    \n",
      "__________________________________________________________________________________________________\n",
      "block_13_project_BN (BatchNorma (None, 3, 3, 160)    640         block_13_project[0][0]           \n",
      "__________________________________________________________________________________________________\n",
      "block_14_expand (Conv2D)        (None, 3, 3, 960)    153600      block_13_project_BN[0][0]        \n",
      "__________________________________________________________________________________________________\n",
      "block_14_expand_BN (BatchNormal (None, 3, 3, 960)    3840        block_14_expand[0][0]            \n",
      "__________________________________________________________________________________________________\n",
      "block_14_expand_relu (ReLU)     (None, 3, 3, 960)    0           block_14_expand_BN[0][0]         \n",
      "__________________________________________________________________________________________________\n",
      "block_14_depthwise (DepthwiseCo (None, 3, 3, 960)    8640        block_14_expand_relu[0][0]       \n",
      "__________________________________________________________________________________________________\n",
      "block_14_depthwise_BN (BatchNor (None, 3, 3, 960)    3840        block_14_depthwise[0][0]         \n",
      "__________________________________________________________________________________________________\n",
      "block_14_depthwise_relu (ReLU)  (None, 3, 3, 960)    0           block_14_depthwise_BN[0][0]      \n",
      "__________________________________________________________________________________________________\n",
      "block_14_project (Conv2D)       (None, 3, 3, 160)    153600      block_14_depthwise_relu[0][0]    \n",
      "__________________________________________________________________________________________________\n",
      "block_14_project_BN (BatchNorma (None, 3, 3, 160)    640         block_14_project[0][0]           \n",
      "__________________________________________________________________________________________________\n",
      "block_14_add (Add)              (None, 3, 3, 160)    0           block_13_project_BN[0][0]        \n",
      "                                                                 block_14_project_BN[0][0]        \n",
      "__________________________________________________________________________________________________\n",
      "block_15_expand (Conv2D)        (None, 3, 3, 960)    153600      block_14_add[0][0]               \n",
      "__________________________________________________________________________________________________\n",
      "block_15_expand_BN (BatchNormal (None, 3, 3, 960)    3840        block_15_expand[0][0]            \n",
      "__________________________________________________________________________________________________\n",
      "block_15_expand_relu (ReLU)     (None, 3, 3, 960)    0           block_15_expand_BN[0][0]         \n",
      "__________________________________________________________________________________________________\n",
      "block_15_depthwise (DepthwiseCo (None, 3, 3, 960)    8640        block_15_expand_relu[0][0]       \n",
      "__________________________________________________________________________________________________\n",
      "block_15_depthwise_BN (BatchNor (None, 3, 3, 960)    3840        block_15_depthwise[0][0]         \n",
      "__________________________________________________________________________________________________\n",
      "block_15_depthwise_relu (ReLU)  (None, 3, 3, 960)    0           block_15_depthwise_BN[0][0]      \n",
      "__________________________________________________________________________________________________\n",
      "block_15_project (Conv2D)       (None, 3, 3, 160)    153600      block_15_depthwise_relu[0][0]    \n",
      "__________________________________________________________________________________________________\n",
      "block_15_project_BN (BatchNorma (None, 3, 3, 160)    640         block_15_project[0][0]           \n",
      "__________________________________________________________________________________________________\n",
      "block_15_add (Add)              (None, 3, 3, 160)    0           block_14_add[0][0]               \n",
      "                                                                 block_15_project_BN[0][0]        \n",
      "__________________________________________________________________________________________________\n",
      "block_16_expand (Conv2D)        (None, 3, 3, 960)    153600      block_15_add[0][0]               \n",
      "__________________________________________________________________________________________________\n",
      "block_16_expand_BN (BatchNormal (None, 3, 3, 960)    3840        block_16_expand[0][0]            \n",
      "__________________________________________________________________________________________________\n",
      "block_16_expand_relu (ReLU)     (None, 3, 3, 960)    0           block_16_expand_BN[0][0]         \n",
      "__________________________________________________________________________________________________\n",
      "block_16_depthwise (DepthwiseCo (None, 3, 3, 960)    8640        block_16_expand_relu[0][0]       \n",
      "__________________________________________________________________________________________________\n",
      "block_16_depthwise_BN (BatchNor (None, 3, 3, 960)    3840        block_16_depthwise[0][0]         \n",
      "__________________________________________________________________________________________________\n",
      "block_16_depthwise_relu (ReLU)  (None, 3, 3, 960)    0           block_16_depthwise_BN[0][0]      \n",
      "__________________________________________________________________________________________________\n",
      "block_16_project (Conv2D)       (None, 3, 3, 320)    307200      block_16_depthwise_relu[0][0]    \n",
      "__________________________________________________________________________________________________\n",
      "block_16_project_BN (BatchNorma (None, 3, 3, 320)    1280        block_16_project[0][0]           \n",
      "__________________________________________________________________________________________________\n",
      "Conv_1 (Conv2D)                 (None, 3, 3, 1280)   409600      block_16_project_BN[0][0]        \n",
      "__________________________________________________________________________________________________\n",
      "Conv_1_bn (BatchNormalization)  (None, 3, 3, 1280)   5120        Conv_1[0][0]                     \n",
      "__________________________________________________________________________________________________\n",
      "out_relu (ReLU)                 (None, 3, 3, 1280)   0           Conv_1_bn[0][0]                  \n",
      "==================================================================================================\n"
     ]
    },
    {
     "name": "stdout",
     "output_type": "stream",
     "text": [
      "Total params: 2,257,984\n",
      "Trainable params: 2,223,872\n",
      "Non-trainable params: 34,112\n",
      "__________________________________________________________________________________________________\n"
     ]
    }
   ],
   "source": [
    "base_model.summary()"
   ]
  },
  {
   "cell_type": "code",
   "execution_count": 45,
   "metadata": {},
   "outputs": [],
   "source": [
    "training_features = base_model.predict(X_training)\n",
    "#np.savez('MobileNetV2_features_train', features=training_features)"
   ]
  },
  {
   "cell_type": "code",
   "execution_count": 47,
   "metadata": {},
   "outputs": [],
   "source": [
    "testing_features = base_model.predict(X_testing)\n",
    "#np.savez('MobileNetV2_features_test', features=testing_features)"
   ]
  },
  {
   "cell_type": "markdown",
   "metadata": {},
   "source": [
    "### BUILDING AGAIN THE COMPOSITE NET AND FREEZE SOME DEEP LAYERS GRADUALLY"
   ]
  },
  {
   "cell_type": "code",
   "execution_count": 60,
   "metadata": {},
   "outputs": [
    {
     "name": "stdout",
     "output_type": "stream",
     "text": [
      "Train on 7200 samples, validate on 1800 samples\n",
      "Epoch 1/5\n",
      "7200/7200 [==============================] - 347s 48ms/sample - loss: 0.8170 - accuracy: 0.7269 - val_loss: 9.4577 - val_accuracy: 0.0189\n",
      "Epoch 2/5\n",
      "7200/7200 [==============================] - 330s 46ms/sample - loss: 0.2723 - accuracy: 0.9115 - val_loss: 9.7714 - val_accuracy: 0.0244\n",
      "Epoch 3/5\n",
      "7200/7200 [==============================] - 325s 45ms/sample - loss: 0.1733 - accuracy: 0.9457 - val_loss: 10.9315 - val_accuracy: 0.0394\n",
      "Epoch 4/5\n",
      "7200/7200 [==============================] - 321s 45ms/sample - loss: 0.1111 - accuracy: 0.9658 - val_loss: 8.9498 - val_accuracy: 0.0411\n",
      "Epoch 5/5\n",
      "7200/7200 [==============================] - 328s 46ms/sample - loss: 0.0836 - accuracy: 0.9728 - val_loss: 8.4545 - val_accuracy: 0.0594\n"
     ]
    },
    {
     "data": {
      "image/png": "[encoded data removed]",
      "text/plain": [
       "<Figure size 432x288 with 2 Axes>"
      ]
     },
     "metadata": {
      "needs_background": "light"
     },
     "output_type": "display_data"
    },
    {
     "name": "stdout",
     "output_type": "stream",
     "text": [
      "Test loss: 4.58\n",
      "Test accuracy: 0.309\n",
      "Optimizer loop index is : 1\n",
      "Freezed layers numbers : 143\n",
      "Train on 7200 samples, validate on 1800 samples\n",
      "Epoch 1/5\n",
      "7200/7200 [==============================] - 378s 52ms/sample - loss: 0.6621 - accuracy: 0.7851 - val_loss: 6.9525 - val_accuracy: 0.0417\n",
      "Epoch 2/5\n",
      "7200/7200 [==============================] - 355s 49ms/sample - loss: 0.1841 - accuracy: 0.9492 - val_loss: 8.1817 - val_accuracy: 0.0344\n",
      "Epoch 3/5\n",
      "7200/7200 [==============================] - 352s 49ms/sample - loss: 0.0999 - accuracy: 0.9700 - val_loss: 7.3773 - val_accuracy: 0.3683\n",
      "Epoch 4/5\n",
      "7200/7200 [==============================] - 351s 49ms/sample - loss: 0.0756 - accuracy: 0.9796 - val_loss: 10.2642 - val_accuracy: 0.4444\n",
      "Epoch 5/5\n",
      "7200/7200 [==============================] - 350s 49ms/sample - loss: 0.0605 - accuracy: 0.9837 - val_loss: 5.5040 - val_accuracy: 0.3611\n"
     ]
    },
    {
     "data": {
      "image/png": "[encoded data removed]",
      "text/plain": [
       "<Figure size 432x288 with 2 Axes>"
      ]
     },
     "metadata": {
      "needs_background": "light"
     },
     "output_type": "display_data"
    },
    {
     "name": "stdout",
     "output_type": "stream",
     "text": [
      "Test loss: 5.7\n",
      "Test accuracy: 0.3\n",
      "Optimizer loop index is : 2\n",
      "Freezed layers numbers : 116\n",
      "Train on 7200 samples, validate on 1800 samples\n",
      "Epoch 1/5\n",
      "7200/7200 [==============================] - 394s 55ms/sample - loss: 0.6520 - accuracy: 0.7947 - val_loss: 9.6833 - val_accuracy: 5.5556e-04\n",
      "Epoch 2/5\n",
      "7200/7200 [==============================] - 376s 52ms/sample - loss: 0.1613 - accuracy: 0.9503 - val_loss: 11.9201 - val_accuracy: 0.1094\n",
      "Epoch 3/5\n",
      "7200/7200 [==============================] - 378s 52ms/sample - loss: 0.0867 - accuracy: 0.9754 - val_loss: 6.6546 - val_accuracy: 0.3150\n",
      "Epoch 4/5\n",
      "7200/7200 [==============================] - 376s 52ms/sample - loss: 0.0808 - accuracy: 0.9749 - val_loss: 8.8652 - val_accuracy: 0.0300\n",
      "Epoch 5/5\n",
      "7200/7200 [==============================] - 378s 53ms/sample - loss: 0.0471 - accuracy: 0.9867 - val_loss: 14.5723 - val_accuracy: 0.0489\n"
     ]
    },
    {
     "data": {
      "image/png": "[encoded data removed]",
      "text/plain": [
       "<Figure size 432x288 with 2 Axes>"
      ]
     },
     "metadata": {
      "needs_background": "light"
     },
     "output_type": "display_data"
    },
    {
     "name": "stdout",
     "output_type": "stream",
     "text": [
      "Test loss: 4.29\n",
      "Test accuracy: 0.582\n",
      "Optimizer loop index is : 3\n",
      "Freezed layers numbers : 90\n",
      "Train on 7200 samples, validate on 1800 samples\n",
      "Epoch 1/5\n",
      "7200/7200 [==============================] - 417s 58ms/sample - loss: 0.6741 - accuracy: 0.7858 - val_loss: 10.9747 - val_accuracy: 0.0000e+00\n",
      "Epoch 2/5\n",
      "7200/7200 [==============================] - 398s 55ms/sample - loss: 0.1770 - accuracy: 0.9493 - val_loss: 13.8716 - val_accuracy: 0.0000e+00\n",
      "Epoch 3/5\n",
      "7200/7200 [==============================] - 390s 54ms/sample - loss: 0.1069 - accuracy: 0.9722 - val_loss: 10.9703 - val_accuracy: 0.0000e+00\n",
      "Epoch 4/5\n",
      "7200/7200 [==============================] - 434s 60ms/sample - loss: 0.0678 - accuracy: 0.9807 - val_loss: 16.1094 - val_accuracy: 0.0000e+00\n",
      "Epoch 5/5\n",
      "7200/7200 [==============================] - 512s 71ms/sample - loss: 0.0456 - accuracy: 0.9876 - val_loss: 13.7911 - val_accuracy: 0.0000e+00\n"
     ]
    },
    {
     "data": {
      "image/png": "[encoded data removed]",
      "text/plain": [
       "<Figure size 432x288 with 2 Axes>"
      ]
     },
     "metadata": {
      "needs_background": "light"
     },
     "output_type": "display_data"
    },
    {
     "name": "stdout",
     "output_type": "stream",
     "text": [
      "Test loss: 6.0\n",
      "Test accuracy: 0.438\n",
      "Optimizer loop index is : 4\n",
      "Freezed layers numbers : 54\n",
      "Train on 7200 samples, validate on 1800 samples\n",
      "Epoch 1/5\n",
      "7200/7200 [==============================] - 432s 60ms/sample - loss: 1.3948 - accuracy: 0.5057 - val_loss: 6.0459 - val_accuracy: 0.0000e+00\n",
      "Epoch 2/5\n",
      "7200/7200 [==============================] - 420s 58ms/sample - loss: 0.6362 - accuracy: 0.7850 - val_loss: 6.3039 - val_accuracy: 5.5556e-04\n",
      "Epoch 3/5\n",
      "7200/7200 [==============================] - 416s 58ms/sample - loss: 0.3541 - accuracy: 0.8832 - val_loss: 6.6269 - val_accuracy: 0.0106\n",
      "Epoch 4/5\n",
      "7200/7200 [==============================] - 410s 57ms/sample - loss: 0.2217 - accuracy: 0.9281 - val_loss: 7.4542 - val_accuracy: 0.0044\n",
      "Epoch 5/5\n",
      "7200/7200 [==============================] - 400s 56ms/sample - loss: 0.1652 - accuracy: 0.9460 - val_loss: 6.3000 - val_accuracy: 0.0850\n"
     ]
    },
    {
     "data": {
      "image/png": "[encoded data removed]",
      "text/plain": [
       "<Figure size 432x288 with 2 Axes>"
      ]
     },
     "metadata": {
      "needs_background": "light"
     },
     "output_type": "display_data"
    },
    {
     "name": "stdout",
     "output_type": "stream",
     "text": [
      "Test loss: 2.88\n",
      "Test accuracy: 0.333\n",
      "Optimizer loop index is : 5\n",
      "Freezed layers numbers : 143\n",
      "Train on 7200 samples, validate on 1800 samples\n",
      "Epoch 1/5\n",
      "7200/7200 [==============================] - 442s 61ms/sample - loss: 1.1335 - accuracy: 0.6065 - val_loss: 6.5304 - val_accuracy: 0.0000e+00\n",
      "Epoch 2/5\n",
      "7200/7200 [==============================] - 371s 52ms/sample - loss: 0.2937 - accuracy: 0.9067 - val_loss: 7.2957 - val_accuracy: 0.0000e+00\n",
      "Epoch 3/5\n",
      "7200/7200 [==============================] - 354s 49ms/sample - loss: 0.1259 - accuracy: 0.9608 - val_loss: 6.9580 - val_accuracy: 0.0033\n",
      "Epoch 4/5\n",
      "7200/7200 [==============================] - 352s 49ms/sample - loss: 0.0688 - accuracy: 0.9811 - val_loss: 6.4425 - val_accuracy: 0.0272\n",
      "Epoch 5/5\n",
      "7200/7200 [==============================] - 347s 48ms/sample - loss: 0.0402 - accuracy: 0.9894 - val_loss: 6.9331 - val_accuracy: 0.0450\n"
     ]
    },
    {
     "data": {
      "image/png": "[encoded data removed]",
      "text/plain": [
       "<Figure size 432x288 with 2 Axes>"
      ]
     },
     "metadata": {
      "needs_background": "light"
     },
     "output_type": "display_data"
    },
    {
     "name": "stdout",
     "output_type": "stream",
     "text": [
      "Test loss: 2.73\n",
      "Test accuracy: 0.384\n",
      "Optimizer loop index is : 6\n",
      "Freezed layers numbers : 116\n",
      "Train on 7200 samples, validate on 1800 samples\n",
      "Epoch 1/5\n",
      "7200/7200 [==============================] - 390s 54ms/sample - loss: 1.0353 - accuracy: 0.6475 - val_loss: 7.1968 - val_accuracy: 0.0000e+00\n",
      "Epoch 2/5\n",
      "7200/7200 [==============================] - 383s 53ms/sample - loss: 0.1931 - accuracy: 0.9421 - val_loss: 7.8271 - val_accuracy: 0.0022\n",
      "Epoch 3/5\n",
      "7200/7200 [==============================] - 380s 53ms/sample - loss: 0.0673 - accuracy: 0.9810 - val_loss: 7.9063 - val_accuracy: 0.0011\n",
      "Epoch 4/5\n",
      "7200/7200 [==============================] - 412s 57ms/sample - loss: 0.0293 - accuracy: 0.9933 - val_loss: 8.0333 - val_accuracy: 0.0044\n",
      "Epoch 5/5\n",
      "7200/7200 [==============================] - 465s 65ms/sample - loss: 0.0240 - accuracy: 0.9940 - val_loss: 8.1782 - val_accuracy: 0.0111\n"
     ]
    },
    {
     "data": {
      "image/png": "[encoded data removed]",
      "text/plain": [
       "<Figure size 432x288 with 2 Axes>"
      ]
     },
     "metadata": {
      "needs_background": "light"
     },
     "output_type": "display_data"
    },
    {
     "name": "stdout",
     "output_type": "stream",
     "text": [
      "Test loss: 2.94\n",
      "Test accuracy: 0.456\n",
      "Optimizer loop index is : 7\n",
      "Freezed layers numbers : 90\n",
      "Train on 7200 samples, validate on 1800 samples\n",
      "Epoch 1/5\n",
      "7200/7200 [==============================] - 521s 72ms/sample - loss: 0.9729 - accuracy: 0.6636 - val_loss: 7.5227 - val_accuracy: 0.0000e+00\n",
      "Epoch 2/5\n",
      "7200/7200 [==============================] - 502s 70ms/sample - loss: 0.1511 - accuracy: 0.9536 - val_loss: 7.1595 - val_accuracy: 0.0067\n",
      "Epoch 3/5\n",
      "7200/7200 [==============================] - 431s 60ms/sample - loss: 0.0527 - accuracy: 0.9850 - val_loss: 8.0710 - val_accuracy: 0.0128\n",
      "Epoch 4/5\n",
      "7200/7200 [==============================] - 410s 57ms/sample - loss: 0.0328 - accuracy: 0.9908 - val_loss: 7.0425 - val_accuracy: 0.1028\n",
      "Epoch 5/5\n",
      "7200/7200 [==============================] - 402s 56ms/sample - loss: 0.0176 - accuracy: 0.9957 - val_loss: 7.0589 - val_accuracy: 0.1711\n"
     ]
    },
    {
     "data": {
      "image/png": "[encoded data removed]",
      "text/plain": [
       "<Figure size 432x288 with 2 Axes>"
      ]
     },
     "metadata": {
      "needs_background": "light"
     },
     "output_type": "display_data"
    },
    {
     "name": "stdout",
     "output_type": "stream",
     "text": [
      "Test loss: 2.46\n",
      "Test accuracy: 0.513\n",
      "Optimizer loop index is : 8\n",
      "Freezed layers numbers : 54\n",
      "Train on 7200 samples, validate on 1800 samples\n",
      "Epoch 1/5\n",
      "7200/7200 [==============================] - 350s 49ms/sample - loss: 2.1908 - accuracy: 0.1882 - val_loss: 4.4202 - val_accuracy: 0.0000e+00\n",
      "Epoch 2/5\n",
      "7200/7200 [==============================] - 346s 48ms/sample - loss: 1.8523 - accuracy: 0.3064 - val_loss: 4.8170 - val_accuracy: 0.0000e+00\n",
      "Epoch 3/5\n",
      "7200/7200 [==============================] - 337s 47ms/sample - loss: 1.6037 - accuracy: 0.4226 - val_loss: 5.0644 - val_accuracy: 0.0000e+00\n",
      "Epoch 4/5\n",
      "7200/7200 [==============================] - 339s 47ms/sample - loss: 1.4205 - accuracy: 0.5046 - val_loss: 5.2828 - val_accuracy: 0.0000e+00\n",
      "Epoch 5/5\n",
      "7200/7200 [==============================] - 339s 47ms/sample - loss: 1.2683 - accuracy: 0.5622 - val_loss: 5.4650 - val_accuracy: 0.0000e+00\n"
     ]
    },
    {
     "data": {
      "image/png": "[encoded data removed]",
      "text/plain": [
       "<Figure size 432x288 with 2 Axes>"
      ]
     },
     "metadata": {
      "needs_background": "light"
     },
     "output_type": "display_data"
    },
    {
     "name": "stdout",
     "output_type": "stream",
     "text": [
      "Test loss: 2.53\n",
      "Test accuracy: 0.227\n",
      "Optimizer loop index is : 9\n",
      "Freezed layers numbers : 143\n",
      "Train on 7200 samples, validate on 1800 samples\n",
      "Epoch 1/5\n",
      "7200/7200 [==============================] - 372s 52ms/sample - loss: 2.1630 - accuracy: 0.2083 - val_loss: 3.9703 - val_accuracy: 0.0000e+00\n",
      "Epoch 2/5\n",
      "7200/7200 [==============================] - 352s 49ms/sample - loss: 1.7163 - accuracy: 0.3747 - val_loss: 4.4434 - val_accuracy: 0.0000e+00\n",
      "Epoch 3/5\n",
      "7200/7200 [==============================] - 360s 50ms/sample - loss: 1.4053 - accuracy: 0.5128 - val_loss: 4.6939 - val_accuracy: 0.0000e+00\n",
      "Epoch 4/5\n",
      "7200/7200 [==============================] - 361s 50ms/sample - loss: 1.1613 - accuracy: 0.6103 - val_loss: 4.8313 - val_accuracy: 0.0000e+00\n",
      "Epoch 5/5\n",
      "7200/7200 [==============================] - 359s 50ms/sample - loss: 0.9769 - accuracy: 0.6765 - val_loss: 4.7700 - val_accuracy: 0.0000e+00\n"
     ]
    },
    {
     "data": {
      "image/png": "[encoded data removed]",
      "text/plain": [
       "<Figure size 432x288 with 2 Axes>"
      ]
     },
     "metadata": {
      "needs_background": "light"
     },
     "output_type": "display_data"
    },
    {
     "name": "stdout",
     "output_type": "stream",
     "text": [
      "Test loss: 2.42\n",
      "Test accuracy: 0.209\n",
      "Optimizer loop index is : 10\n",
      "Freezed layers numbers : 116\n",
      "Train on 7200 samples, validate on 1800 samples\n",
      "Epoch 1/5\n",
      "7200/7200 [==============================] - 394s 55ms/sample - loss: 2.1928 - accuracy: 0.1939 - val_loss: 4.4714 - val_accuracy: 0.0000e+00\n",
      "Epoch 2/5\n",
      "7200/7200 [==============================] - 418s 58ms/sample - loss: 1.7342 - accuracy: 0.3653 - val_loss: 4.8036 - val_accuracy: 0.0000e+00\n",
      "Epoch 3/5\n",
      "7200/7200 [==============================] - 386s 54ms/sample - loss: 1.4050 - accuracy: 0.5203 - val_loss: 4.9742 - val_accuracy: 0.0000e+00\n",
      "Epoch 4/5\n",
      "7200/7200 [==============================] - 387s 54ms/sample - loss: 1.1104 - accuracy: 0.6308 - val_loss: 5.0884 - val_accuracy: 0.0000e+00\n",
      "Epoch 5/5\n",
      "7200/7200 [==============================] - 385s 53ms/sample - loss: 0.8887 - accuracy: 0.7132 - val_loss: 5.1664 - val_accuracy: 0.0000e+00\n"
     ]
    },
    {
     "data": {
      "image/png": "[encoded data removed]",
      "text/plain": [
       "<Figure size 432x288 with 2 Axes>"
      ]
     },
     "metadata": {
      "needs_background": "light"
     },
     "output_type": "display_data"
    },
    {
     "name": "stdout",
     "output_type": "stream",
     "text": [
      "Test loss: 2.51\n",
      "Test accuracy: 0.262\n",
      "Optimizer loop index is : 11\n",
      "Freezed layers numbers : 90\n",
      "Train on 7200 samples, validate on 1800 samples\n",
      "Epoch 1/5\n",
      "7200/7200 [==============================] - 426s 59ms/sample - loss: 2.1180 - accuracy: 0.2254 - val_loss: 3.7309 - val_accuracy: 0.0000e+00\n",
      "Epoch 2/5\n",
      "7200/7200 [==============================] - 401s 56ms/sample - loss: 1.6130 - accuracy: 0.4256 - val_loss: 4.3141 - val_accuracy: 0.0000e+00\n",
      "Epoch 3/5\n",
      "7200/7200 [==============================] - 412s 57ms/sample - loss: 1.2265 - accuracy: 0.5867 - val_loss: 4.6366 - val_accuracy: 0.0000e+00\n",
      "Epoch 4/5\n",
      "7200/7200 [==============================] - 412s 57ms/sample - loss: 0.9039 - accuracy: 0.7138 - val_loss: 4.8715 - val_accuracy: 0.0000e+00\n",
      "Epoch 5/5\n",
      "7200/7200 [==============================] - 410s 57ms/sample - loss: 0.6847 - accuracy: 0.7908 - val_loss: 4.9559 - val_accuracy: 0.0000e+00\n"
     ]
    },
    {
     "data": {
      "image/png": "[encoded data removed]",
      "text/plain": [
       "<Figure size 432x288 with 2 Axes>"
      ]
     },
     "metadata": {
      "needs_background": "light"
     },
     "output_type": "display_data"
    },
    {
     "name": "stdout",
     "output_type": "stream",
     "text": [
      "Test loss: 2.43\n",
      "Test accuracy: 0.296\n",
      "Optimizer loop index is : 12\n",
      "Freezed layers numbers : 54\n"
     ]
    }
   ],
   "source": [
    "optimizers = [SGD(learning_rate=0.1),SGD(learning_rate=0.01),SGD(learning_rate=0.001)] \n",
    "# Adam(lr=0.1),Adam(lr=0.01),Adam(lr=0.001),\n",
    "\n",
    "freeze_layer_counts = [\n",
    "    143, # Bloc 0 to 15 frozen\n",
    "    116, # Bloc 0 to 12 frozen\n",
    "    90, # Bloc 0 to 9 frozen\n",
    "    54 # Bloc 0 to 5 frozen\n",
    "]\n",
    "\n",
    "# This takes a LOOOOONNNNNNNGGGGG time, don't re-run it unless you're prepared to wait. \n",
    "for optimizer, freeze_first_n_layers in product(optimizers, freeze_layer_counts):\n",
    "    def transfer_from_mobilenet(optimizer, freeze_first_n_layers, batch_size, epochs):\n",
    "        base_model = MobileNetV2(weights='imagenet', include_top=False, input_shape=(96, 96, 3))\n",
    "\n",
    "        # We'll use the same \"squeeze\" w/ dropout structure from above...\n",
    "        # We have to use the \"functional\" API now, which is why we're not using model.add\n",
    "        old_top = base_model.output\n",
    "        old_top = GlobalAveragePooling2D()(old_top)\n",
    "        old_top = Dense(units=640, activation='relu')(old_top)\n",
    "        old_top = Dropout(rate=0.4)(old_top)\n",
    "        old_top = Dense(units=320, activation='relu')(old_top)\n",
    "        old_top = Dropout(rate=0.2)(old_top)\n",
    "        new_top = Dense(NUM_CLASSES, activation='softmax')(old_top)\n",
    "\n",
    "        model = Model(inputs=base_model.input, outputs=new_top)\n",
    "\n",
    "        for layer in model.layers[:freeze_first_n_layers]:\n",
    "            layer.trainable = False\n",
    "\n",
    "        model.compile(optimizer=optimizer, loss='categorical_crossentropy', metrics=['accuracy'])\n",
    "\n",
    "        history = model.fit(X_training, y_training, batch_size=batch_size, epochs=epochs, validation_split=0.2, verbose=True,\n",
    "                           shuffle=True)\n",
    "\n",
    "        return history, model\n",
    "\n",
    "\n",
    "\n",
    "    history, model = transfer_from_mobilenet(optimizer, freeze_first_n_layers, 32, 5)\n",
    "    #model.save(os.path.join(save_directory, saved_name))\n",
    "    plot_training_history(history, model)\n",
    "    \n",
    "    loss, accuracy = model.evaluate(X_testing, y_testing, verbose=False)\n",
    "    print(f'Test loss: {loss:.3}')\n",
    "    print(f'Test accuracy: {accuracy:.3}')\n",
    "    print(f'Optimizer loop index is : {lr}')\n",
    "    print(f'Freezed layers numbers : {freeze_first_n_layers}')\n",
    "    "
   ]
  },
  {
   "cell_type": "markdown",
   "metadata": {},
   "source": [
    "# PART 3a - Adjusting Fully Connected Classifier with Fine Tuning on MobilNetV2"
   ]
  },
  {
   "cell_type": "raw",
   "metadata": {},
   "source": [
    "Base Line : using MOBILNET_V2, 116 layers frozen, SGD(learning_rate=0.1)"
   ]
  },
  {
   "cell_type": "markdown",
   "metadata": {},
   "source": [
    "### FINAL FORMATING IMAGES BEFORE INPUT TO LEGACY NET"
   ]
  },
  {
   "cell_type": "code",
   "execution_count": 88,
   "metadata": {},
   "outputs": [],
   "source": [
    "def adjust_input_image_mobilnet_v2(rgb_data):\n",
    "    adjusted = ppi_mobilnet_v2(rgb_data)\n",
    "    \n",
    "    return adjusted"
   ]
  },
  {
   "cell_type": "code",
   "execution_count": 89,
   "metadata": {},
   "outputs": [],
   "source": [
    "X_training = np.array([adjust_input_image_mobilnet_v2(x) for x in image_array_big_dataset_training])"
   ]
  },
  {
   "cell_type": "code",
   "execution_count": 90,
   "metadata": {},
   "outputs": [],
   "source": [
    "y_training = to_categorical(labels_code_CATEGORY_big_dataset_training, NUM_CLASSES)"
   ]
  },
  {
   "cell_type": "code",
   "execution_count": 91,
   "metadata": {},
   "outputs": [],
   "source": [
    "X_testing = np.array([adjust_input_image_mobilnet_v2(x) for x in image_array_big_dataset_testing])"
   ]
  },
  {
   "cell_type": "code",
   "execution_count": 92,
   "metadata": {},
   "outputs": [],
   "source": [
    "y_testing = to_categorical(labels_code_CATEGORY_big_dataset_testing, NUM_CLASSES)"
   ]
  },
  {
   "cell_type": "code",
   "execution_count": 97,
   "metadata": {},
   "outputs": [
    {
     "name": "stdout",
     "output_type": "stream",
     "text": [
      "Train on 7200 samples, validate on 1800 samples\n",
      "Epoch 1/10\n",
      "7200/7200 [==============================] - 413s 57ms/sample - loss: 0.6498 - accuracy: 0.7907 - val_loss: 15.5033 - val_accuracy: 0.0000e+00\n",
      "Epoch 2/10\n",
      "7200/7200 [==============================] - 363s 50ms/sample - loss: 0.1712 - accuracy: 0.9524 - val_loss: 18.2173 - val_accuracy: 0.0000e+00\n",
      "Epoch 3/10\n",
      "7200/7200 [==============================] - 360s 50ms/sample - loss: 0.1200 - accuracy: 0.9633 - val_loss: 7.1325 - val_accuracy: 0.1911\n",
      "Epoch 4/10\n",
      "7200/7200 [==============================] - 356s 49ms/sample - loss: 0.0762 - accuracy: 0.9800 - val_loss: 6.5102 - val_accuracy: 0.1339\n",
      "Epoch 5/10\n",
      "7200/7200 [==============================] - 363s 50ms/sample - loss: 0.0431 - accuracy: 0.9875 - val_loss: 10.6390 - val_accuracy: 0.0811\n",
      "Epoch 6/10\n",
      "7200/7200 [==============================] - 414s 57ms/sample - loss: 0.0424 - accuracy: 0.9885 - val_loss: 15.1063 - val_accuracy: 0.1100\n",
      "Epoch 7/10\n",
      "7200/7200 [==============================] - 411s 57ms/sample - loss: 0.0313 - accuracy: 0.9892 - val_loss: 12.0018 - val_accuracy: 0.0694\n",
      "Epoch 8/10\n",
      "7200/7200 [==============================] - 361s 50ms/sample - loss: 0.0346 - accuracy: 0.9907 - val_loss: 8.5175 - val_accuracy: 0.1611\n",
      "Epoch 9/10\n",
      "7200/7200 [==============================] - 359s 50ms/sample - loss: 0.0261 - accuracy: 0.9931 - val_loss: 6.7522 - val_accuracy: 0.2672\n",
      "Epoch 10/10\n",
      "7200/7200 [==============================] - 361s 50ms/sample - loss: 0.0179 - accuracy: 0.9944 - val_loss: 7.7081 - val_accuracy: 0.0911\n"
     ]
    },
    {
     "data": {
      "image/png": "[encoded data removed]",
      "text/plain": [
       "<Figure size 432x288 with 2 Axes>"
      ]
     },
     "metadata": {
      "needs_background": "light"
     },
     "output_type": "display_data"
    },
    {
     "name": "stdout",
     "output_type": "stream",
     "text": [
      "Test loss: 4.65\n",
      "Test accuracy: 0.413\n",
      "Optimizer loop index is : 12\n",
      "Freezed layers numbers : 116\n"
     ]
    }
   ],
   "source": [
    "optimizers = [SGD(learning_rate=0.1)]\n",
    "\n",
    "freeze_layer_counts = [116] # Bloc 0 to 12 frozen\n",
    " \n",
    "for optimizer, freeze_first_n_layers in product(optimizers, freeze_layer_counts):\n",
    "    def transfer_from_mobilenet(optimizer, freeze_first_n_layers, batch_size, epochs):\n",
    "        base_model = MobileNetV2(weights='imagenet', include_top=False, input_shape=(96, 96, 3))\n",
    "\n",
    "        # We'll use the same \"squeeze\" w/ dropout structure from above...\n",
    "        # We have to use the \"functional\" API now, which is why we're not using model.add\n",
    "        old_top = base_model.output\n",
    "        old_top = GlobalAveragePooling2D()(old_top)\n",
    "        old_top = Dense(units=640, activation='relu')(old_top)\n",
    "        old_top = Dropout(rate=0.4)(old_top)\n",
    "        old_top = Dense(units=320, activation='relu')(old_top)\n",
    "        old_top = Dropout(rate=0.2)(old_top)\n",
    "        new_top = Dense(NUM_CLASSES, activation='softmax')(old_top)\n",
    "\n",
    "        model = Model(inputs=base_model.input, outputs=new_top)\n",
    "\n",
    "        for layer in model.layers[:freeze_first_n_layers]:\n",
    "            layer.trainable = False\n",
    "\n",
    "        model.compile(optimizer=optimizer, loss='categorical_crossentropy', metrics=['accuracy'])\n",
    "\n",
    "        history = model.fit(X_training, y_training, batch_size=batch_size, epochs=epochs, validation_split=0.2, verbose=True,\n",
    "                           shuffle=True)\n",
    "\n",
    "        return history, model\n",
    "\n",
    "\n",
    "    history, model = transfer_from_mobilenet(optimizer, freeze_first_n_layers, 32, 10)\n",
    "    #model.save(os.path.join(save_directory, saved_name))\n",
    "    plot_training_history(history, model)\n",
    "    \n",
    "    loss, accuracy = model.evaluate(X_testing, y_testing, verbose=False)\n",
    "    print(f'Test loss: {loss:.3}')\n",
    "    print(f'Test accuracy: {accuracy:.3}')\n",
    "    print(f'Optimizer loop index is : {lr}')\n",
    "    print(f'Freezed layers numbers : {freeze_first_n_layers}')\n",
    "    "
   ]
  },
  {
   "cell_type": "raw",
   "metadata": {},
   "source": [
    "After many variations (no records) .... this is the best I could do"
   ]
  },
  {
   "cell_type": "raw",
   "metadata": {},
   "source": [
    "I take the best and extend more epochs :"
   ]
  },
  {
   "cell_type": "code",
   "execution_count": 98,
   "metadata": {},
   "outputs": [
    {
     "name": "stdout",
     "output_type": "stream",
     "text": [
      "Train on 7200 samples, validate on 1800 samples\n",
      "Epoch 1/30\n",
      "7200/7200 [==============================] - 378s 52ms/sample - loss: 0.5120 - accuracy: 0.8322 - val_loss: 9.8713 - val_accuracy: 0.0044\n",
      "Epoch 2/30\n",
      "7200/7200 [==============================] - 351s 49ms/sample - loss: 0.1233 - accuracy: 0.9642 - val_loss: 11.0515 - val_accuracy: 0.0767\n",
      "Epoch 3/30\n",
      "7200/7200 [==============================] - 355s 49ms/sample - loss: 0.0685 - accuracy: 0.9778 - val_loss: 19.6362 - val_accuracy: 0.0000e+00\n",
      "Epoch 4/30\n",
      "7200/7200 [==============================] - 356s 50ms/sample - loss: 0.0496 - accuracy: 0.9862 - val_loss: 12.1213 - val_accuracy: 0.0633\n",
      "Epoch 5/30\n",
      "7200/7200 [==============================] - 359s 50ms/sample - loss: 0.0355 - accuracy: 0.9886 - val_loss: 13.8871 - val_accuracy: 0.0139\n",
      "Epoch 6/30\n",
      "7200/7200 [==============================] - 349s 48ms/sample - loss: 0.0220 - accuracy: 0.9935 - val_loss: 14.2594 - val_accuracy: 0.0217\n",
      "Epoch 7/30\n",
      "7200/7200 [==============================] - 358s 50ms/sample - loss: 0.0254 - accuracy: 0.9919 - val_loss: 15.8376 - val_accuracy: 0.0050\n",
      "Epoch 8/30\n",
      "7200/7200 [==============================] - 356s 50ms/sample - loss: 0.0347 - accuracy: 0.9892 - val_loss: 12.9968 - val_accuracy: 0.0244\n",
      "Epoch 9/30\n",
      "7200/7200 [==============================] - 349s 48ms/sample - loss: 0.0197 - accuracy: 0.9936 - val_loss: 11.9176 - val_accuracy: 0.0733\n",
      "Epoch 10/30\n",
      "7200/7200 [==============================] - 359s 50ms/sample - loss: 0.0145 - accuracy: 0.9957 - val_loss: 15.2946 - val_accuracy: 0.0033\n",
      "Epoch 11/30\n",
      "7200/7200 [==============================] - 362s 50ms/sample - loss: 0.0091 - accuracy: 0.9972 - val_loss: 12.2429 - val_accuracy: 0.0300\n",
      "Epoch 12/30\n",
      "7200/7200 [==============================] - 350s 49ms/sample - loss: 0.0104 - accuracy: 0.9968 - val_loss: 10.3584 - val_accuracy: 0.0511\n",
      "Epoch 13/30\n",
      "7200/7200 [==============================] - 355s 49ms/sample - loss: 0.0141 - accuracy: 0.9961 - val_loss: 12.5570 - val_accuracy: 0.0117\n",
      "Epoch 14/30\n",
      "7200/7200 [==============================] - 347s 48ms/sample - loss: 0.0117 - accuracy: 0.9965 - val_loss: 12.1812 - val_accuracy: 0.0072\n",
      "Epoch 15/30\n",
      "7200/7200 [==============================] - 362s 50ms/sample - loss: 0.0078 - accuracy: 0.9976 - val_loss: 8.9263 - val_accuracy: 0.1728\n",
      "Epoch 16/30\n",
      "7200/7200 [==============================] - 357s 50ms/sample - loss: 0.0073 - accuracy: 0.9974 - val_loss: 9.5966 - val_accuracy: 0.0828\n",
      "Epoch 17/30\n",
      "7200/7200 [==============================] - 350s 49ms/sample - loss: 0.0072 - accuracy: 0.9982 - val_loss: 9.6756 - val_accuracy: 0.0644\n",
      "Epoch 18/30\n",
      "7200/7200 [==============================] - 356s 50ms/sample - loss: 0.0095 - accuracy: 0.9976 - val_loss: 9.6999 - val_accuracy: 0.0828\n",
      "Epoch 19/30\n",
      "7200/7200 [==============================] - 356s 49ms/sample - loss: 0.0103 - accuracy: 0.9965 - val_loss: 7.5780 - val_accuracy: 0.2489\n",
      "Epoch 20/30\n",
      "7200/7200 [==============================] - 351s 49ms/sample - loss: 0.0024 - accuracy: 0.9993 - val_loss: 8.9784 - val_accuracy: 0.2300\n",
      "Epoch 21/30\n",
      "7200/7200 [==============================] - 355s 49ms/sample - loss: 0.0051 - accuracy: 0.9982 - val_loss: 9.3008 - val_accuracy: 0.1872\n",
      "Epoch 22/30\n",
      "7200/7200 [==============================] - 349s 49ms/sample - loss: 0.0026 - accuracy: 0.9990 - val_loss: 11.5649 - val_accuracy: 0.0789\n",
      "Epoch 23/30\n",
      "7200/7200 [==============================] - 355s 49ms/sample - loss: 0.0059 - accuracy: 0.9985 - val_loss: 12.2634 - val_accuracy: 0.1000\n",
      "Epoch 24/30\n",
      "7200/7200 [==============================] - 355s 49ms/sample - loss: 0.0031 - accuracy: 0.9993 - val_loss: 10.9538 - val_accuracy: 0.0772\n",
      "Epoch 25/30\n",
      "7200/7200 [==============================] - 347s 48ms/sample - loss: 0.0025 - accuracy: 0.9992 - val_loss: 12.9921 - val_accuracy: 0.0128\n",
      "Epoch 26/30\n",
      "7200/7200 [==============================] - 356s 49ms/sample - loss: 0.0043 - accuracy: 0.9985 - val_loss: 11.7477 - val_accuracy: 0.0044\n",
      "Epoch 27/30\n",
      "7200/7200 [==============================] - 350s 49ms/sample - loss: 0.0036 - accuracy: 0.9993 - val_loss: 10.7910 - val_accuracy: 0.0122\n",
      "Epoch 28/30\n",
      "7200/7200 [==============================] - 356s 49ms/sample - loss: 0.0078 - accuracy: 0.9979 - val_loss: 11.0876 - val_accuracy: 0.0167\n",
      "Epoch 29/30\n",
      "7200/7200 [==============================] - 356s 49ms/sample - loss: 0.0074 - accuracy: 0.9976 - val_loss: 9.5728 - val_accuracy: 0.0628\n",
      "Epoch 30/30\n",
      "7200/7200 [==============================] - 347s 48ms/sample - loss: 0.0028 - accuracy: 0.9993 - val_loss: 9.8309 - val_accuracy: 0.0811\n"
     ]
    },
    {
     "data": {
      "image/png": "[encoded data removed]",
      "text/plain": [
       "<Figure size 432x288 with 2 Axes>"
      ]
     },
     "metadata": {
      "needs_background": "light"
     },
     "output_type": "display_data"
    },
    {
     "name": "stdout",
     "output_type": "stream",
     "text": [
      "Test loss: 2.58\n",
      "Test accuracy: 0.524\n",
      "Optimizer loop index is : 12\n",
      "Freezed layers numbers : 116\n"
     ]
    }
   ],
   "source": [
    "save_directory = 'saved_models'\n",
    "\n",
    "optimizers = [SGD(learning_rate=0.1)]\n",
    "\n",
    "freeze_layer_counts = [116]\n",
    "\n",
    "model_saver=ModelCheckpoint('WEIGHTS_ONLY_CHECKPOINT_BEST_CNN_TRANSFER_MOBILNETV2_WITH_FINE_TUNNING_FAMILY_FACES.hdf5',\n",
    "                            save_best_only=True)\n",
    "\n",
    "for optimizer, freeze_first_n_layers in product(optimizers, freeze_layer_counts):\n",
    "    def transfer_from_mobilenet(optimizer, freeze_first_n_layers, batch_size, epochs):\n",
    "        base_model = MobileNetV2(weights='imagenet', include_top=False, input_shape=(96, 96, 3))\n",
    "\n",
    "        # We'll use the same \"squeeze\" w/ dropout structure from above...\n",
    "        # We have to use the \"functional\" API now, which is why we're not using model.add\n",
    "        old_top = base_model.output\n",
    "        old_top = GlobalAveragePooling2D()(old_top)\n",
    "        old_top = Dense(units=128, activation='relu')(old_top)\n",
    "        old_top = Dropout(rate=0.2)(old_top)\n",
    "        new_top = Dense(NUM_CLASSES, activation='softmax')(old_top)\n",
    "\n",
    "        model = Model(inputs=base_model.input, outputs=new_top)\n",
    "\n",
    "        for layer in model.layers[:freeze_first_n_layers]:\n",
    "            layer.trainable = False\n",
    "\n",
    "        model.compile(optimizer=optimizer, loss='categorical_crossentropy', metrics=['accuracy'])\n",
    "\n",
    "        history = model.fit(X_training, y_training, batch_size=batch_size, epochs=epochs, validation_split=0.2, verbose=True,\n",
    "                           shuffle=True, callbacks=[model_saver])\n",
    "\n",
    "        return history, model\n",
    "\n",
    "    history, model = transfer_from_mobilenet(optimizer, freeze_first_n_layers, 32, 30)\n",
    "    #model.save(os.path.join(save_directory, saved_name))\n",
    "    plot_training_history(history, model)\n",
    "    \n",
    "    loss, accuracy = model.evaluate(X_testing, y_testing, verbose=False)\n",
    "    print(f'Test loss: {loss:.3}')\n",
    "    print(f'Test accuracy: {accuracy:.3}')\n",
    "    print(f'Optimizer loop index is : {lr}')\n",
    "    print(f'Freezed layers numbers : {freeze_first_n_layers}')"
   ]
  },
  {
   "cell_type": "raw",
   "metadata": {},
   "source": [
    "clear over fitting... looks like the simpler the classifier, the better...\n",
    "looks like I am unable to retrain finely the feature extractor layers (CNN)"
   ]
  },
  {
   "cell_type": "markdown",
   "metadata": {},
   "source": [
    "# PART 3b - Adjusting Fully Connected Classifier but NO Fine Tuning on MobilNetV2 ...\n",
    "using MOBILNET_V2, all frozen"
   ]
  },
  {
   "cell_type": "markdown",
   "metadata": {},
   "source": [
    "### FINAL FORMATING IMAGES BEFORE INPUT TO LEGACY NET"
   ]
  },
  {
   "cell_type": "code",
   "execution_count": 37,
   "metadata": {},
   "outputs": [],
   "source": [
    "def adjust_input_image_mobilnet_v2(rgb_data):\n",
    "    adjusted = ppi_mobilnet_v2(rgb_data)\n",
    "    \n",
    "    return adjusted"
   ]
  },
  {
   "cell_type": "code",
   "execution_count": 38,
   "metadata": {},
   "outputs": [],
   "source": [
    "X_training = np.array([adjust_input_image_mobilnet_v2(x) for x in image_array_big_dataset_training])"
   ]
  },
  {
   "cell_type": "code",
   "execution_count": 39,
   "metadata": {},
   "outputs": [],
   "source": [
    "y_training = to_categorical(labels_code_CATEGORY_big_dataset_training, NUM_CLASSES)"
   ]
  },
  {
   "cell_type": "code",
   "execution_count": 40,
   "metadata": {},
   "outputs": [],
   "source": [
    "X_testing = np.array([adjust_input_image_mobilnet_v2(x) for x in image_array_big_dataset_testing])"
   ]
  },
  {
   "cell_type": "code",
   "execution_count": 41,
   "metadata": {},
   "outputs": [],
   "source": [
    "y_testing = to_categorical(labels_code_CATEGORY_big_dataset_testing, NUM_CLASSES)"
   ]
  },
  {
   "cell_type": "code",
   "execution_count": 42,
   "metadata": {},
   "outputs": [],
   "source": [
    "model_saver=ModelCheckpoint('WEIGHTS_ONLY_CHECKPOINT_BEST_CNN_TRANSFER_MOBILNETV2_NO_FINE_TUNNING_FAMILY_FACES.hdf5',\n",
    "                            save_best_only=True)"
   ]
  },
  {
   "cell_type": "code",
   "execution_count": 43,
   "metadata": {},
   "outputs": [],
   "source": [
    "base_model = MobileNetV2(weights='imagenet', include_top=False, input_shape=(96,96, 3))"
   ]
  },
  {
   "cell_type": "code",
   "execution_count": 44,
   "metadata": {},
   "outputs": [],
   "source": [
    "training_features = base_model.predict(X_training)\n",
    "testing_features = base_model.predict(X_testing)"
   ]
  },
  {
   "cell_type": "code",
   "execution_count": 51,
   "metadata": {},
   "outputs": [],
   "source": [
    "model = Sequential()"
   ]
  },
  {
   "cell_type": "code",
   "execution_count": 52,
   "metadata": {},
   "outputs": [
    {
     "name": "stdout",
     "output_type": "stream",
     "text": [
      "Model: \"sequential_4\"\n",
      "_________________________________________________________________\n",
      "Layer (type)                 Output Shape              Param #   \n",
      "=================================================================\n",
      "global_average_pooling2d_4 ( (None, 1280)              0         \n",
      "_________________________________________________________________\n",
      "dense_12 (Dense)             (None, 128)               163968    \n",
      "_________________________________________________________________\n",
      "dropout_8 (Dropout)          (None, 128)               0         \n",
      "_________________________________________________________________\n",
      "dense_13 (Dense)             (None, 64)                8256      \n",
      "_________________________________________________________________\n",
      "dropout_9 (Dropout)          (None, 64)                0         \n",
      "_________________________________________________________________\n",
      "dense_14 (Dense)             (None, 9)                 585       \n",
      "=================================================================\n",
      "Total params: 172,809\n",
      "Trainable params: 172,809\n",
      "Non-trainable params: 0\n",
      "_________________________________________________________________\n",
      "Train on 8100 samples, validate on 900 samples\n",
      "Epoch 1/10\n",
      "8100/8100 [==============================] - 3s 311us/sample - loss: 1.6488 - accuracy: 0.4015 - val_loss: 3.2027 - val_accuracy: 0.0033\n",
      "Epoch 2/10\n",
      "8100/8100 [==============================] - 2s 227us/sample - loss: 0.9890 - accuracy: 0.6594 - val_loss: 1.7910 - val_accuracy: 0.3067\n",
      "Epoch 3/10\n",
      "8100/8100 [==============================] - 2s 200us/sample - loss: 0.6842 - accuracy: 0.7672 - val_loss: 1.5452 - val_accuracy: 0.4767\n",
      "Epoch 4/10\n",
      "8100/8100 [==============================] - 2s 225us/sample - loss: 0.5518 - accuracy: 0.8183 - val_loss: 0.9032 - val_accuracy: 0.6644\n",
      "Epoch 5/10\n",
      "8100/8100 [==============================] - 2s 193us/sample - loss: 0.4560 - accuracy: 0.8473 - val_loss: 1.5029 - val_accuracy: 0.4589\n",
      "Epoch 6/10\n",
      "8100/8100 [==============================] - 2s 193us/sample - loss: 0.3910 - accuracy: 0.8702 - val_loss: 0.9092 - val_accuracy: 0.6944\n",
      "Epoch 7/10\n",
      "8100/8100 [==============================] - 2s 197us/sample - loss: 0.3205 - accuracy: 0.8902 - val_loss: 0.8448 - val_accuracy: 0.7356\n",
      "Epoch 8/10\n",
      "8100/8100 [==============================] - 2s 215us/sample - loss: 0.2780 - accuracy: 0.9012 - val_loss: 0.5566 - val_accuracy: 0.8167\n",
      "Epoch 9/10\n",
      "8100/8100 [==============================] - 2s 193us/sample - loss: 0.2652 - accuracy: 0.9089 - val_loss: 0.7809 - val_accuracy: 0.7300\n",
      "Epoch 10/10\n",
      "8100/8100 [==============================] - 2s 193us/sample - loss: 0.2504 - accuracy: 0.9140 - val_loss: 0.8715 - val_accuracy: 0.7656\n"
     ]
    }
   ],
   "source": [
    "model.add(GlobalAveragePooling2D(input_shape=training_features.shape[1:]))\n",
    "\n",
    "model.add(Dense(units=128, activation='relu'))\n",
    "model.add(Dropout(rate=0.4))\n",
    "model.add(Dense(units=64, activation='relu'))\n",
    "model.add(Dropout(rate=0.2))\n",
    "model.add(Dense(units=NUM_CLASSES, activation='softmax'))\n",
    "\n",
    "model.compile(loss='categorical_crossentropy', optimizer='adam', metrics=['accuracy'])\n",
    "model.summary()\n",
    "\n",
    "history = model.fit(training_features, y_training, batch_size=32, epochs=10, validation_split=0.1, verbose=True,\n",
    "                   shuffle=True, callbacks=[model_saver])\n"
   ]
  },
  {
   "cell_type": "code",
   "execution_count": 53,
   "metadata": {},
   "outputs": [
    {
     "data": {
      "image/png": "[encoded data removed]",
      "text/plain": [
       "<Figure size 432x288 with 2 Axes>"
      ]
     },
     "metadata": {
      "needs_background": "light"
     },
     "output_type": "display_data"
    },
    {
     "name": "stdout",
     "output_type": "stream",
     "text": [
      "Test loss: 4.58\n",
      "Test accuracy: 0.32\n"
     ]
    }
   ],
   "source": [
    "plot_training_history(history, model)\n",
    "loss, accuracy = model.evaluate(testing_features, y_testing, verbose=False)\n",
    "print(f'Test loss: {loss:.3}')\n",
    "print(f'Test accuracy: {accuracy:.3}')"
   ]
  },
  {
   "cell_type": "code",
   "execution_count": 54,
   "metadata": {
    "scrolled": true
   },
   "outputs": [
    {
     "data": {
      "image/png": "[encoded data removed]",
      "text/plain": [
       "<Figure size 1080x1080 with 2 Axes>"
      ]
     },
     "metadata": {
      "needs_background": "light"
     },
     "output_type": "display_data"
    }
   ],
   "source": [
    "# When did our evaluator do poorly?\n",
    "predictions = model.predict(testing_features)\n",
    "cm = confusion_matrix(np.argmax(predictions, axis=1), np.argmax(y_testing, axis=1))\n",
    "plt.figure(figsize = (15, 15))\n",
    "\n",
    "name_labels = labels_list\n",
    "\n",
    "sn.heatmap(cm, annot=True, xticklabels=name_labels, yticklabels=name_labels)\n",
    "plt.show()"
   ]
  },
  {
   "cell_type": "markdown",
   "metadata": {},
   "source": [
    "# PART 3c - Adjusting Fully Connected Classifier but NO Fine Tuning on VGG19\n",
    "using VGG19, all frozen"
   ]
  },
  {
   "cell_type": "markdown",
   "metadata": {},
   "source": [
    "### FINAL FORMATING IMAGES BEFORE INPUT TO LEGACY NET"
   ]
  },
  {
   "cell_type": "code",
   "execution_count": 82,
   "metadata": {},
   "outputs": [],
   "source": [
    "def adjust_input_image_vgg19(rgb_data):\n",
    "    adjusted = ppi_vgg19(rgb_data)\n",
    "    \n",
    "    return adjusted"
   ]
  },
  {
   "cell_type": "code",
   "execution_count": 83,
   "metadata": {},
   "outputs": [],
   "source": [
    "X_training = np.array([adjust_input_image_vgg19(x) for x in image_array_big_dataset_training])"
   ]
  },
  {
   "cell_type": "code",
   "execution_count": 84,
   "metadata": {},
   "outputs": [],
   "source": [
    "y_training = to_categorical(labels_code_CATEGORY_big_dataset_training, NUM_CLASSES)"
   ]
  },
  {
   "cell_type": "code",
   "execution_count": 85,
   "metadata": {},
   "outputs": [],
   "source": [
    "X_testing = np.array([adjust_input_image_vgg19(x) for x in image_array_big_dataset_testing])"
   ]
  },
  {
   "cell_type": "code",
   "execution_count": 86,
   "metadata": {},
   "outputs": [],
   "source": [
    "y_testing = to_categorical(labels_code_CATEGORY_big_dataset_testing, NUM_CLASSES)"
   ]
  },
  {
   "cell_type": "code",
   "execution_count": 87,
   "metadata": {},
   "outputs": [],
   "source": [
    "model_saver=ModelCheckpoint('WEIGHTS_ONLY_CHECKPOINT_BEST_CNN_TRANSFER_VGG19_NO_FINE_TUNNING_FAMILY_FACES.hdf5',\n",
    "                            save_best_only=True)"
   ]
  },
  {
   "cell_type": "code",
   "execution_count": 88,
   "metadata": {},
   "outputs": [],
   "source": [
    "base_model = VGG19(weights='imagenet', include_top=False, input_shape=(96,96, 3))"
   ]
  },
  {
   "cell_type": "code",
   "execution_count": 89,
   "metadata": {},
   "outputs": [
    {
     "name": "stdout",
     "output_type": "stream",
     "text": [
      "Model: \"vgg19\"\n",
      "_________________________________________________________________\n",
      "Layer (type)                 Output Shape              Param #   \n",
      "=================================================================\n",
      "input_2 (InputLayer)         [(None, 96, 96, 3)]       0         \n",
      "_________________________________________________________________\n",
      "block1_conv1 (Conv2D)        (None, 96, 96, 64)        1792      \n",
      "_________________________________________________________________\n",
      "block1_conv2 (Conv2D)        (None, 96, 96, 64)        36928     \n",
      "_________________________________________________________________\n",
      "block1_pool (MaxPooling2D)   (None, 48, 48, 64)        0         \n",
      "_________________________________________________________________\n",
      "block2_conv1 (Conv2D)        (None, 48, 48, 128)       73856     \n",
      "_________________________________________________________________\n",
      "block2_conv2 (Conv2D)        (None, 48, 48, 128)       147584    \n",
      "_________________________________________________________________\n",
      "block2_pool (MaxPooling2D)   (None, 24, 24, 128)       0         \n",
      "_________________________________________________________________\n",
      "block3_conv1 (Conv2D)        (None, 24, 24, 256)       295168    \n",
      "_________________________________________________________________\n",
      "block3_conv2 (Conv2D)        (None, 24, 24, 256)       590080    \n",
      "_________________________________________________________________\n",
      "block3_conv3 (Conv2D)        (None, 24, 24, 256)       590080    \n",
      "_________________________________________________________________\n",
      "block3_conv4 (Conv2D)        (None, 24, 24, 256)       590080    \n",
      "_________________________________________________________________\n",
      "block3_pool (MaxPooling2D)   (None, 12, 12, 256)       0         \n",
      "_________________________________________________________________\n",
      "block4_conv1 (Conv2D)        (None, 12, 12, 512)       1180160   \n",
      "_________________________________________________________________\n",
      "block4_conv2 (Conv2D)        (None, 12, 12, 512)       2359808   \n",
      "_________________________________________________________________\n",
      "block4_conv3 (Conv2D)        (None, 12, 12, 512)       2359808   \n",
      "_________________________________________________________________\n",
      "block4_conv4 (Conv2D)        (None, 12, 12, 512)       2359808   \n",
      "_________________________________________________________________\n",
      "block4_pool (MaxPooling2D)   (None, 6, 6, 512)         0         \n",
      "_________________________________________________________________\n",
      "block5_conv1 (Conv2D)        (None, 6, 6, 512)         2359808   \n",
      "_________________________________________________________________\n",
      "block5_conv2 (Conv2D)        (None, 6, 6, 512)         2359808   \n",
      "_________________________________________________________________\n",
      "block5_conv3 (Conv2D)        (None, 6, 6, 512)         2359808   \n",
      "_________________________________________________________________\n",
      "block5_conv4 (Conv2D)        (None, 6, 6, 512)         2359808   \n",
      "_________________________________________________________________\n",
      "block5_pool (MaxPooling2D)   (None, 3, 3, 512)         0         \n",
      "=================================================================\n",
      "Total params: 20,024,384\n",
      "Trainable params: 20,024,384\n",
      "Non-trainable params: 0\n",
      "_________________________________________________________________\n"
     ]
    }
   ],
   "source": [
    "base_model.summary()"
   ]
  },
  {
   "cell_type": "code",
   "execution_count": 95,
   "metadata": {},
   "outputs": [],
   "source": [
    "training_features = base_model.predict(X_training)\n",
    "testing_features = base_model.predict(X_testing)"
   ]
  },
  {
   "cell_type": "code",
   "execution_count": 106,
   "metadata": {},
   "outputs": [
    {
     "data": {
      "text/plain": [
       "(9000, 3, 3, 512)"
      ]
     },
     "execution_count": 106,
     "metadata": {},
     "output_type": "execute_result"
    }
   ],
   "source": [
    "# Warning : No more 1280 feature maps of 3x3 pixels (adapt classifier squeeze accordinigly)\n",
    "training_features.shape"
   ]
  },
  {
   "cell_type": "code",
   "execution_count": 96,
   "metadata": {},
   "outputs": [],
   "source": [
    "model = Sequential()"
   ]
  },
  {
   "cell_type": "code",
   "execution_count": 97,
   "metadata": {},
   "outputs": [
    {
     "name": "stdout",
     "output_type": "stream",
     "text": [
      "Model: \"sequential_6\"\n",
      "_________________________________________________________________\n",
      "Layer (type)                 Output Shape              Param #   \n",
      "=================================================================\n",
      "global_average_pooling2d_6 ( (None, 512)               0         \n",
      "_________________________________________________________________\n",
      "dense_18 (Dense)             (None, 128)               65664     \n",
      "_________________________________________________________________\n",
      "dropout_12 (Dropout)         (None, 128)               0         \n",
      "_________________________________________________________________\n",
      "dense_19 (Dense)             (None, 64)                8256      \n",
      "_________________________________________________________________\n",
      "dropout_13 (Dropout)         (None, 64)                0         \n",
      "_________________________________________________________________\n",
      "dense_20 (Dense)             (None, 9)                 585       \n",
      "=================================================================\n",
      "Total params: 74,505\n",
      "Trainable params: 74,505\n",
      "Non-trainable params: 0\n",
      "_________________________________________________________________\n",
      "Train on 8100 samples, validate on 900 samples\n",
      "Epoch 1/30\n",
      "8100/8100 [==============================] - 7s 819us/sample - loss: 2.3438 - accuracy: 0.2521 - val_loss: 3.1783 - val_accuracy: 0.0033\n",
      "Epoch 2/30\n",
      "8100/8100 [==============================] - 1s 132us/sample - loss: 1.5709 - accuracy: 0.4321 - val_loss: 3.0888 - val_accuracy: 0.0222\n",
      "Epoch 3/30\n",
      "8100/8100 [==============================] - 1s 132us/sample - loss: 1.2980 - accuracy: 0.5310 - val_loss: 2.8007 - val_accuracy: 0.0744\n",
      "Epoch 4/30\n",
      "8100/8100 [==============================] - 1s 131us/sample - loss: 1.1313 - accuracy: 0.5986 - val_loss: 2.3841 - val_accuracy: 0.2244\n",
      "Epoch 5/30\n",
      "8100/8100 [==============================] - 1s 129us/sample - loss: 0.9967 - accuracy: 0.6453 - val_loss: 2.2214 - val_accuracy: 0.2678\n",
      "Epoch 6/30\n",
      "8100/8100 [==============================] - 1s 130us/sample - loss: 0.8899 - accuracy: 0.6894 - val_loss: 2.0642 - val_accuracy: 0.3789\n",
      "Epoch 7/30\n",
      "8100/8100 [==============================] - 1s 139us/sample - loss: 0.8052 - accuracy: 0.7195 - val_loss: 1.9165 - val_accuracy: 0.4689\n",
      "Epoch 8/30\n",
      "8100/8100 [==============================] - 1s 155us/sample - loss: 0.7293 - accuracy: 0.7416 - val_loss: 1.5499 - val_accuracy: 0.4967\n",
      "Epoch 9/30\n",
      "8100/8100 [==============================] - 1s 129us/sample - loss: 0.6484 - accuracy: 0.7693 - val_loss: 1.6938 - val_accuracy: 0.5344\n",
      "Epoch 10/30\n",
      "8100/8100 [==============================] - 1s 131us/sample - loss: 0.6028 - accuracy: 0.7931 - val_loss: 1.7320 - val_accuracy: 0.5178\n",
      "Epoch 11/30\n",
      "8100/8100 [==============================] - 1s 129us/sample - loss: 0.5709 - accuracy: 0.8086 - val_loss: 1.6819 - val_accuracy: 0.5100\n",
      "Epoch 12/30\n",
      "8100/8100 [==============================] - 2s 246us/sample - loss: 0.5288 - accuracy: 0.8144 - val_loss: 0.9889 - val_accuracy: 0.7133\n",
      "Epoch 13/30\n",
      "8100/8100 [==============================] - 1s 136us/sample - loss: 0.5080 - accuracy: 0.8263 - val_loss: 1.3046 - val_accuracy: 0.6322\n",
      "Epoch 14/30\n",
      "8100/8100 [==============================] - 1s 129us/sample - loss: 0.5064 - accuracy: 0.8259 - val_loss: 1.1896 - val_accuracy: 0.6644\n",
      "Epoch 15/30\n",
      "8100/8100 [==============================] - 1s 130us/sample - loss: 0.4605 - accuracy: 0.8417 - val_loss: 1.4024 - val_accuracy: 0.6356\n",
      "Epoch 16/30\n",
      "8100/8100 [==============================] - 1s 129us/sample - loss: 0.4502 - accuracy: 0.8460 - val_loss: 1.0290 - val_accuracy: 0.6833\n",
      "Epoch 17/30\n",
      "8100/8100 [==============================] - 1s 130us/sample - loss: 0.4235 - accuracy: 0.8526 - val_loss: 1.4379 - val_accuracy: 0.6089\n",
      "Epoch 18/30\n",
      "8100/8100 [==============================] - 1s 130us/sample - loss: 0.3895 - accuracy: 0.8621 - val_loss: 1.5283 - val_accuracy: 0.6133\n",
      "Epoch 19/30\n",
      "8100/8100 [==============================] - 1s 137us/sample - loss: 0.4081 - accuracy: 0.8601 - val_loss: 1.3149 - val_accuracy: 0.6133\n",
      "Epoch 20/30\n",
      "8100/8100 [==============================] - 1s 131us/sample - loss: 0.3849 - accuracy: 0.8690 - val_loss: 1.4561 - val_accuracy: 0.5756\n",
      "Epoch 21/30\n",
      "8100/8100 [==============================] - 1s 130us/sample - loss: 0.3629 - accuracy: 0.8738 - val_loss: 1.3068 - val_accuracy: 0.6256\n",
      "Epoch 22/30\n",
      "8100/8100 [==============================] - 1s 132us/sample - loss: 0.3454 - accuracy: 0.8806 - val_loss: 1.4961 - val_accuracy: 0.6511\n",
      "Epoch 23/30\n",
      "8100/8100 [==============================] - 1s 142us/sample - loss: 0.3417 - accuracy: 0.8802 - val_loss: 0.9732 - val_accuracy: 0.7311\n",
      "Epoch 24/30\n",
      "8100/8100 [==============================] - 1s 132us/sample - loss: 0.3472 - accuracy: 0.8802 - val_loss: 1.3730 - val_accuracy: 0.6422\n",
      "Epoch 25/30\n",
      "8100/8100 [==============================] - 1s 130us/sample - loss: 0.3085 - accuracy: 0.8958 - val_loss: 1.3492 - val_accuracy: 0.6500\n",
      "Epoch 26/30\n",
      "8100/8100 [==============================] - 1s 130us/sample - loss: 0.3213 - accuracy: 0.8881 - val_loss: 1.1591 - val_accuracy: 0.7078\n",
      "Epoch 27/30\n",
      "8100/8100 [==============================] - 1s 132us/sample - loss: 0.2930 - accuracy: 0.8973 - val_loss: 1.1031 - val_accuracy: 0.6889\n",
      "Epoch 28/30\n",
      "8100/8100 [==============================] - 1s 130us/sample - loss: 0.3123 - accuracy: 0.8904 - val_loss: 1.2203 - val_accuracy: 0.6789\n",
      "Epoch 29/30\n",
      "8100/8100 [==============================] - 1s 131us/sample - loss: 0.2932 - accuracy: 0.8983 - val_loss: 1.3790 - val_accuracy: 0.6222\n",
      "Epoch 30/30\n",
      "8100/8100 [==============================] - 1s 127us/sample - loss: 0.2953 - accuracy: 0.8968 - val_loss: 1.7718 - val_accuracy: 0.5522\n"
     ]
    }
   ],
   "source": [
    "model.add(GlobalAveragePooling2D(input_shape=training_features.shape[1:]))\n",
    "\n",
    "model.add(Dense(units=128, activation='relu'))\n",
    "model.add(Dropout(rate=0.4))\n",
    "model.add(Dense(units=64, activation='relu'))\n",
    "model.add(Dropout(rate=0.2))\n",
    "model.add(Dense(units=NUM_CLASSES, activation='softmax'))\n",
    "\n",
    "model.compile(loss='categorical_crossentropy', optimizer='adam', metrics=['accuracy'])\n",
    "model.summary()\n",
    "\n",
    "history = model.fit(training_features, y_training, batch_size=32, epochs=30, validation_split=0.1, verbose=True,\n",
    "                   shuffle=True, callbacks=[model_saver])\n"
   ]
  },
  {
   "cell_type": "code",
   "execution_count": 98,
   "metadata": {
    "scrolled": true
   },
   "outputs": [
    {
     "data": {
      "image/png": "[encoded data removed]",
      "text/plain": [
       "<Figure size 432x288 with 2 Axes>"
      ]
     },
     "metadata": {
      "needs_background": "light"
     },
     "output_type": "display_data"
    },
    {
     "name": "stdout",
     "output_type": "stream",
     "text": [
      "Test loss: 1.45\n",
      "Test accuracy: 0.693\n"
     ]
    }
   ],
   "source": [
    "plot_training_history(history, model)\n",
    "loss, accuracy = model.evaluate(testing_features, y_testing, verbose=False)\n",
    "print(f'Test loss: {loss:.3}')\n",
    "print(f'Test accuracy: {accuracy:.3}')"
   ]
  },
  {
   "cell_type": "code",
   "execution_count": 99,
   "metadata": {
    "scrolled": true
   },
   "outputs": [
    {
     "data": {
      "image/png": "[encoded data removed]",
      "text/plain": [
       "<Figure size 1080x1080 with 2 Axes>"
      ]
     },
     "metadata": {
      "needs_background": "light"
     },
     "output_type": "display_data"
    }
   ],
   "source": [
    "# When did our evaluator do poorly?\n",
    "predictions = model.predict(testing_features)\n",
    "cm = confusion_matrix(np.argmax(predictions, axis=1), np.argmax(y_testing, axis=1))\n",
    "plt.figure(figsize = (15, 15))\n",
    "\n",
    "name_labels = labels_list\n",
    "\n",
    "sn.heatmap(cm, annot=True, xticklabels=name_labels, yticklabels=name_labels)\n",
    "plt.show()"
   ]
  },
  {
   "cell_type": "markdown",
   "metadata": {},
   "source": [
    "Close to the final product: diagonal Confusion Matrix + 70% on CV and unseen data, overfitting was controlled"
   ]
  },
  {
   "cell_type": "markdown",
   "metadata": {},
   "source": [
    "In another notebook, I used XGBClassifier (Tree based classifier), VERY long training but good scores achieved\n",
    "\n",
    "More ideas :\n",
    "    Eigen's faces preprocessing (would requires  lot more pictures per person)\n",
    "    Apply the filter on both original and augmented pictures (so far, only augmented ones were smoothed)\n",
    "    Avoid augmenting this data with tilting image"
   ]
  },
  {
   "cell_type": "markdown",
   "metadata": {},
   "source": [
    "# MANAGE THE FINAL MODEL"
   ]
  },
  {
   "cell_type": "code",
   "execution_count": null,
   "metadata": {},
   "outputs": [],
   "source": [
    "# same all the model + last epoch's weights\n",
    "model.save('TRAINED_MODEL_LAST_EPOCH_CNN_FAMILY_FACES.hdf5')"
   ]
  },
  {
   "cell_type": "code",
   "execution_count": null,
   "metadata": {},
   "outputs": [],
   "source": [
    "# save last epoch's 'weights only\n",
    "model.save_weights('WEIGHTS_ONLY_LAST_EPOCH_CNN_FAMILY_FACES.hdf5')"
   ]
  },
  {
   "cell_type": "code",
   "execution_count": null,
   "metadata": {},
   "outputs": [],
   "source": [
    "model = load_model('TRAINED_MODEL_LAST_EPOCH_CNN_FAMILY_FACES.hdf5')"
   ]
  },
  {
   "cell_type": "code",
   "execution_count": null,
   "metadata": {},
   "outputs": [],
   "source": [
    "model.summary()"
   ]
  },
  {
   "cell_type": "markdown",
   "metadata": {},
   "source": [
    "# Importing useful Libraries"
   ]
  },
  {
   "cell_type": "code",
   "execution_count": 1,
   "metadata": {},
   "outputs": [],
   "source": [
    "import os # Operating System library imported\n",
    "import glob # to make operation on directory like listing files"
   ]
  },
  {
   "cell_type": "code",
   "execution_count": 2,
   "metadata": {},
   "outputs": [],
   "source": [
    "import numpy as np\n",
    "import pandas as pd\n",
    "import matplotlib.pyplot as plt\n",
    "#from matplotlib import pyplot as plt\n",
    "import seaborn as sns\n",
    "import scipy as sp\n",
    "import time\n",
    "from PIL import Image\n",
    "import seaborn as sn"
   ]
  },
  {
   "cell_type": "code",
   "execution_count": 3,
   "metadata": {},
   "outputs": [],
   "source": [
    "from sklearn import preprocessing\n",
    "from sklearn.preprocessing import StandardScaler\n",
    "from sklearn.preprocessing import LabelEncoder\n",
    "from sklearn.preprocessing import OneHotEncoder\n",
    "\n",
    "from sklearn.preprocessing import StandardScaler\n",
    "from sklearn.preprocessing import PolynomialFeatures\n",
    "from sklearn.decomposition import PCA\n",
    "\n",
    "from sklearn import linear_model\n",
    "from sklearn.neural_network import MLPClassifier\n",
    "\n",
    "from sklearn.model_selection import train_test_split\n",
    "from sklearn.model_selection import GridSearchCV\n",
    "from sklearn.model_selection import RandomizedSearchCV\n",
    "\n",
    "from sklearn.model_selection import cross_val_score\n",
    "from sklearn.model_selection import StratifiedShuffleSplit\n",
    "\n",
    "from sklearn.ensemble import RandomForestClassifier\n",
    "from sklearn.ensemble import GradientBoostingClassifier\n",
    "\n",
    "from sklearn.metrics import r2_score\n",
    "from sklearn.metrics import mean_squared_error\n",
    "from sklearn.metrics import confusion_matrix\n",
    "from sklearn.metrics import classification_report\n",
    "\n",
    "from sklearn.tree import DecisionTreeRegressor\n",
    "from sklearn.ensemble import RandomForestRegressor\n",
    "\n",
    "from IPython.display import Image"
   ]
  },
  {
   "cell_type": "code",
   "execution_count": 4,
   "metadata": {},
   "outputs": [],
   "source": [
    "# this should look familiar from the previous labs. \n",
    "# We could choose any of the pre-built nets here instead. \n",
    "from tensorflow.keras.applications.mobilenet_v2 import MobileNetV2, preprocess_input as ppi_mobilnet_v2, decode_predictions as dcp_mobilnet_v2\n",
    "from tensorflow.keras.applications.resnet50 import ResNet50, preprocess_input as ppi_resnet50, decode_predictions as dcp_resnet50\n",
    "from tensorflow.keras.applications.xception import Xception, preprocess_input as ppi_xception, decode_predictions as dcp_xception\n",
    "from tensorflow.keras.applications.vgg19 import VGG19, preprocess_input as ppi_vgg19, decode_predictions as dcp_vgg19\n",
    "\n",
    "\n",
    "from tensorflow.keras.layers import Flatten, Dense, GlobalAveragePooling2D, Dropout, BatchNormalization, MaxPool2D, LeakyReLU\n",
    "from tensorflow.keras.models import Model, Sequential\n",
    "from tensorflow.keras.preprocessing.image import ImageDataGenerator\n",
    "from tensorflow.keras.utils import to_categorical\n",
    "from tensorflow.keras.optimizers import SGD, Adam\n",
    "from tensorflow.keras.callbacks import ModelCheckpoint, EarlyStopping\n",
    "import matplotlib.pyplot as plt\n",
    "import numpy as np\n",
    "from scipy import ndimage\n",
    "from tensorflow.keras.preprocessing import image\n",
    "from tensorflow.keras.models import load_model\n",
    "from tensorflow.keras.wrappers.scikit_learn import KerasClassifier\n",
    "from tensorflow.keras import initializers, regularizers"
   ]
  },
  {
   "cell_type": "code",
   "execution_count": 5,
   "metadata": {},
   "outputs": [],
   "source": [
    "from skimage import *\n",
    "from skimage import measure\n",
    "from skimage.color import *\n",
    "from skimage.filters import *\n",
    "from skimage.util import *\n",
    "from skimage.restoration import *\n",
    "from skimage.restoration import inpaint\n",
    "from skimage.transform import *\n",
    "from skimage.segmentation import *\n",
    "from skimage.feature import *\n",
    "from skimage.color import rgb2gray"
   ]
  },
  {
   "cell_type": "code",
   "execution_count": 6,
   "metadata": {},
   "outputs": [],
   "source": [
    "from itertools import product"
   ]
  },
  {
   "cell_type": "code",
   "execution_count": 7,
   "metadata": {},
   "outputs": [],
   "source": [
    "from keract import get_activations, display_activations,display_heatmaps"
   ]
  }
 ],
 "metadata": {
  "kernelspec": {
   "display_name": "Python 3",
   "language": "python",
   "name": "python3"
  },
  "language_info": {
   "codemirror_mode": {
    "name": "ipython",
    "version": 3
   },
   "file_extension": ".py",
   "mimetype": "text/x-python",
   "name": "python",
   "nbconvert_exporter": "python",
   "pygments_lexer": "ipython3",
   "version": "3.7.7"
  }
 },
 "nbformat": 4,
 "nbformat_minor": 2
}
